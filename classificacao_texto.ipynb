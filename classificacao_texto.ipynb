{
  "nbformat": 4,
  "nbformat_minor": 0,
  "metadata": {
    "colab": {
      "provenance": [],
      "include_colab_link": true
    },
    "kernelspec": {
      "name": "python3",
      "display_name": "Python 3"
    },
    "language_info": {
      "name": "python"
    },
    "widgets": {
      "application/vnd.jupyter.widget-state+json": {
        "e57620843e234233a7d64a4cb195a175": {
          "model_module": "@jupyter-widgets/controls",
          "model_name": "HBoxModel",
          "model_module_version": "1.5.0",
          "state": {
            "_view_name": "HBoxView",
            "_dom_classes": [],
            "_model_name": "HBoxModel",
            "_view_module": "@jupyter-widgets/controls",
            "_model_module_version": "1.5.0",
            "_view_count": null,
            "_view_module_version": "1.5.0",
            "box_style": "",
            "layout": "IPY_MODEL_2b44cdf41de442d18aeb7833db82b7df",
            "_model_module": "@jupyter-widgets/controls",
            "children": [
              "IPY_MODEL_2a148a07b0f349f7a45a611b554cdf46",
              "IPY_MODEL_6c37b235937349b9b4f045e60fd57714",
              "IPY_MODEL_eb9f1c052b2749d59c943a91f714d9b4"
            ]
          }
        },
        "2b44cdf41de442d18aeb7833db82b7df": {
          "model_module": "@jupyter-widgets/base",
          "model_name": "LayoutModel",
          "model_module_version": "1.2.0",
          "state": {
            "_view_name": "LayoutView",
            "grid_template_rows": null,
            "right": null,
            "justify_content": null,
            "_view_module": "@jupyter-widgets/base",
            "overflow": null,
            "_model_module_version": "1.2.0",
            "_view_count": null,
            "flex_flow": null,
            "width": null,
            "min_width": null,
            "border": null,
            "align_items": null,
            "bottom": null,
            "_model_module": "@jupyter-widgets/base",
            "top": null,
            "grid_column": null,
            "overflow_y": null,
            "overflow_x": null,
            "grid_auto_flow": null,
            "grid_area": null,
            "grid_template_columns": null,
            "flex": null,
            "_model_name": "LayoutModel",
            "justify_items": null,
            "grid_row": null,
            "max_height": null,
            "align_content": null,
            "visibility": null,
            "align_self": null,
            "height": null,
            "min_height": null,
            "padding": null,
            "grid_auto_rows": null,
            "grid_gap": null,
            "max_width": null,
            "order": null,
            "_view_module_version": "1.2.0",
            "grid_template_areas": null,
            "object_position": null,
            "object_fit": null,
            "grid_auto_columns": null,
            "margin": null,
            "display": null,
            "left": null
          }
        },
        "2a148a07b0f349f7a45a611b554cdf46": {
          "model_module": "@jupyter-widgets/controls",
          "model_name": "HTMLModel",
          "model_module_version": "1.5.0",
          "state": {
            "_view_name": "HTMLView",
            "style": "IPY_MODEL_a9bfc9bc1bad449d8e68015235a28f78",
            "_dom_classes": [],
            "description": "",
            "_model_name": "HTMLModel",
            "placeholder": "​",
            "_view_module": "@jupyter-widgets/controls",
            "_model_module_version": "1.5.0",
            "value": "Downloading: 100%",
            "_view_count": null,
            "_view_module_version": "1.5.0",
            "description_tooltip": null,
            "_model_module": "@jupyter-widgets/controls",
            "layout": "IPY_MODEL_e9866fafe57446298dba46ab5fcc8e6e"
          }
        },
        "6c37b235937349b9b4f045e60fd57714": {
          "model_module": "@jupyter-widgets/controls",
          "model_name": "FloatProgressModel",
          "model_module_version": "1.5.0",
          "state": {
            "_view_name": "ProgressView",
            "style": "IPY_MODEL_5df4488a82214d1aba514806b5a649fb",
            "_dom_classes": [],
            "description": "",
            "_model_name": "FloatProgressModel",
            "bar_style": "success",
            "max": 647,
            "_view_module": "@jupyter-widgets/controls",
            "_model_module_version": "1.5.0",
            "value": 647,
            "_view_count": null,
            "_view_module_version": "1.5.0",
            "orientation": "horizontal",
            "min": 0,
            "description_tooltip": null,
            "_model_module": "@jupyter-widgets/controls",
            "layout": "IPY_MODEL_6ab2669d3e024342b029d4adfc423260"
          }
        },
        "eb9f1c052b2749d59c943a91f714d9b4": {
          "model_module": "@jupyter-widgets/controls",
          "model_name": "HTMLModel",
          "model_module_version": "1.5.0",
          "state": {
            "_view_name": "HTMLView",
            "style": "IPY_MODEL_ac5a8c113dfd4e6894f1cce3491d11e7",
            "_dom_classes": [],
            "description": "",
            "_model_name": "HTMLModel",
            "placeholder": "​",
            "_view_module": "@jupyter-widgets/controls",
            "_model_module_version": "1.5.0",
            "value": " 647/647 [00:00&lt;00:00, 15.5kB/s]",
            "_view_count": null,
            "_view_module_version": "1.5.0",
            "description_tooltip": null,
            "_model_module": "@jupyter-widgets/controls",
            "layout": "IPY_MODEL_fbccb899a5324fc4a479330723f3b164"
          }
        },
        "a9bfc9bc1bad449d8e68015235a28f78": {
          "model_module": "@jupyter-widgets/controls",
          "model_name": "DescriptionStyleModel",
          "model_module_version": "1.5.0",
          "state": {
            "_view_name": "StyleView",
            "_model_name": "DescriptionStyleModel",
            "description_width": "",
            "_view_module": "@jupyter-widgets/base",
            "_model_module_version": "1.5.0",
            "_view_count": null,
            "_view_module_version": "1.2.0",
            "_model_module": "@jupyter-widgets/controls"
          }
        },
        "e9866fafe57446298dba46ab5fcc8e6e": {
          "model_module": "@jupyter-widgets/base",
          "model_name": "LayoutModel",
          "model_module_version": "1.2.0",
          "state": {
            "_view_name": "LayoutView",
            "grid_template_rows": null,
            "right": null,
            "justify_content": null,
            "_view_module": "@jupyter-widgets/base",
            "overflow": null,
            "_model_module_version": "1.2.0",
            "_view_count": null,
            "flex_flow": null,
            "width": null,
            "min_width": null,
            "border": null,
            "align_items": null,
            "bottom": null,
            "_model_module": "@jupyter-widgets/base",
            "top": null,
            "grid_column": null,
            "overflow_y": null,
            "overflow_x": null,
            "grid_auto_flow": null,
            "grid_area": null,
            "grid_template_columns": null,
            "flex": null,
            "_model_name": "LayoutModel",
            "justify_items": null,
            "grid_row": null,
            "max_height": null,
            "align_content": null,
            "visibility": null,
            "align_self": null,
            "height": null,
            "min_height": null,
            "padding": null,
            "grid_auto_rows": null,
            "grid_gap": null,
            "max_width": null,
            "order": null,
            "_view_module_version": "1.2.0",
            "grid_template_areas": null,
            "object_position": null,
            "object_fit": null,
            "grid_auto_columns": null,
            "margin": null,
            "display": null,
            "left": null
          }
        },
        "5df4488a82214d1aba514806b5a649fb": {
          "model_module": "@jupyter-widgets/controls",
          "model_name": "ProgressStyleModel",
          "model_module_version": "1.5.0",
          "state": {
            "_view_name": "StyleView",
            "_model_name": "ProgressStyleModel",
            "description_width": "",
            "_view_module": "@jupyter-widgets/base",
            "_model_module_version": "1.5.0",
            "_view_count": null,
            "_view_module_version": "1.2.0",
            "bar_color": null,
            "_model_module": "@jupyter-widgets/controls"
          }
        },
        "6ab2669d3e024342b029d4adfc423260": {
          "model_module": "@jupyter-widgets/base",
          "model_name": "LayoutModel",
          "model_module_version": "1.2.0",
          "state": {
            "_view_name": "LayoutView",
            "grid_template_rows": null,
            "right": null,
            "justify_content": null,
            "_view_module": "@jupyter-widgets/base",
            "overflow": null,
            "_model_module_version": "1.2.0",
            "_view_count": null,
            "flex_flow": null,
            "width": null,
            "min_width": null,
            "border": null,
            "align_items": null,
            "bottom": null,
            "_model_module": "@jupyter-widgets/base",
            "top": null,
            "grid_column": null,
            "overflow_y": null,
            "overflow_x": null,
            "grid_auto_flow": null,
            "grid_area": null,
            "grid_template_columns": null,
            "flex": null,
            "_model_name": "LayoutModel",
            "justify_items": null,
            "grid_row": null,
            "max_height": null,
            "align_content": null,
            "visibility": null,
            "align_self": null,
            "height": null,
            "min_height": null,
            "padding": null,
            "grid_auto_rows": null,
            "grid_gap": null,
            "max_width": null,
            "order": null,
            "_view_module_version": "1.2.0",
            "grid_template_areas": null,
            "object_position": null,
            "object_fit": null,
            "grid_auto_columns": null,
            "margin": null,
            "display": null,
            "left": null
          }
        },
        "ac5a8c113dfd4e6894f1cce3491d11e7": {
          "model_module": "@jupyter-widgets/controls",
          "model_name": "DescriptionStyleModel",
          "model_module_version": "1.5.0",
          "state": {
            "_view_name": "StyleView",
            "_model_name": "DescriptionStyleModel",
            "description_width": "",
            "_view_module": "@jupyter-widgets/base",
            "_model_module_version": "1.5.0",
            "_view_count": null,
            "_view_module_version": "1.2.0",
            "_model_module": "@jupyter-widgets/controls"
          }
        },
        "fbccb899a5324fc4a479330723f3b164": {
          "model_module": "@jupyter-widgets/base",
          "model_name": "LayoutModel",
          "model_module_version": "1.2.0",
          "state": {
            "_view_name": "LayoutView",
            "grid_template_rows": null,
            "right": null,
            "justify_content": null,
            "_view_module": "@jupyter-widgets/base",
            "overflow": null,
            "_model_module_version": "1.2.0",
            "_view_count": null,
            "flex_flow": null,
            "width": null,
            "min_width": null,
            "border": null,
            "align_items": null,
            "bottom": null,
            "_model_module": "@jupyter-widgets/base",
            "top": null,
            "grid_column": null,
            "overflow_y": null,
            "overflow_x": null,
            "grid_auto_flow": null,
            "grid_area": null,
            "grid_template_columns": null,
            "flex": null,
            "_model_name": "LayoutModel",
            "justify_items": null,
            "grid_row": null,
            "max_height": null,
            "align_content": null,
            "visibility": null,
            "align_self": null,
            "height": null,
            "min_height": null,
            "padding": null,
            "grid_auto_rows": null,
            "grid_gap": null,
            "max_width": null,
            "order": null,
            "_view_module_version": "1.2.0",
            "grid_template_areas": null,
            "object_position": null,
            "object_fit": null,
            "grid_auto_columns": null,
            "margin": null,
            "display": null,
            "left": null
          }
        },
        "613216b7554c4ac7bf015e936088a921": {
          "model_module": "@jupyter-widgets/controls",
          "model_name": "HBoxModel",
          "model_module_version": "1.5.0",
          "state": {
            "_view_name": "HBoxView",
            "_dom_classes": [],
            "_model_name": "HBoxModel",
            "_view_module": "@jupyter-widgets/controls",
            "_model_module_version": "1.5.0",
            "_view_count": null,
            "_view_module_version": "1.5.0",
            "box_style": "",
            "layout": "IPY_MODEL_204c2ac452a14e24923bb8a546fe63c3",
            "_model_module": "@jupyter-widgets/controls",
            "children": [
              "IPY_MODEL_77956e259e9a471f818e4a822a872c31",
              "IPY_MODEL_7d28ca61dcc44e808bbe72b9aa0c17c2",
              "IPY_MODEL_6e170d77618b43a79a9c4d600532cc3b"
            ]
          }
        },
        "204c2ac452a14e24923bb8a546fe63c3": {
          "model_module": "@jupyter-widgets/base",
          "model_name": "LayoutModel",
          "model_module_version": "1.2.0",
          "state": {
            "_view_name": "LayoutView",
            "grid_template_rows": null,
            "right": null,
            "justify_content": null,
            "_view_module": "@jupyter-widgets/base",
            "overflow": null,
            "_model_module_version": "1.2.0",
            "_view_count": null,
            "flex_flow": null,
            "width": null,
            "min_width": null,
            "border": null,
            "align_items": null,
            "bottom": null,
            "_model_module": "@jupyter-widgets/base",
            "top": null,
            "grid_column": null,
            "overflow_y": null,
            "overflow_x": null,
            "grid_auto_flow": null,
            "grid_area": null,
            "grid_template_columns": null,
            "flex": null,
            "_model_name": "LayoutModel",
            "justify_items": null,
            "grid_row": null,
            "max_height": null,
            "align_content": null,
            "visibility": null,
            "align_self": null,
            "height": null,
            "min_height": null,
            "padding": null,
            "grid_auto_rows": null,
            "grid_gap": null,
            "max_width": null,
            "order": null,
            "_view_module_version": "1.2.0",
            "grid_template_areas": null,
            "object_position": null,
            "object_fit": null,
            "grid_auto_columns": null,
            "margin": null,
            "display": null,
            "left": null
          }
        },
        "77956e259e9a471f818e4a822a872c31": {
          "model_module": "@jupyter-widgets/controls",
          "model_name": "HTMLModel",
          "model_module_version": "1.5.0",
          "state": {
            "_view_name": "HTMLView",
            "style": "IPY_MODEL_a416fcdb455545dd83c8cdacf0575413",
            "_dom_classes": [],
            "description": "",
            "_model_name": "HTMLModel",
            "placeholder": "​",
            "_view_module": "@jupyter-widgets/controls",
            "_model_module_version": "1.5.0",
            "value": "Downloading: 100%",
            "_view_count": null,
            "_view_module_version": "1.5.0",
            "description_tooltip": null,
            "_model_module": "@jupyter-widgets/controls",
            "layout": "IPY_MODEL_fe244da3c4e745ec9292716ad5c04b4c"
          }
        },
        "7d28ca61dcc44e808bbe72b9aa0c17c2": {
          "model_module": "@jupyter-widgets/controls",
          "model_name": "FloatProgressModel",
          "model_module_version": "1.5.0",
          "state": {
            "_view_name": "ProgressView",
            "style": "IPY_MODEL_6e522ddef509413a989336ae38d70ee9",
            "_dom_classes": [],
            "description": "",
            "_model_name": "FloatProgressModel",
            "bar_style": "success",
            "max": 438235074,
            "_view_module": "@jupyter-widgets/controls",
            "_model_module_version": "1.5.0",
            "value": 438235074,
            "_view_count": null,
            "_view_module_version": "1.5.0",
            "orientation": "horizontal",
            "min": 0,
            "description_tooltip": null,
            "_model_module": "@jupyter-widgets/controls",
            "layout": "IPY_MODEL_beb7f01baaa34b3b96d1971f431f764e"
          }
        },
        "6e170d77618b43a79a9c4d600532cc3b": {
          "model_module": "@jupyter-widgets/controls",
          "model_name": "HTMLModel",
          "model_module_version": "1.5.0",
          "state": {
            "_view_name": "HTMLView",
            "style": "IPY_MODEL_bde147d514484e72a598ff4fccf4749b",
            "_dom_classes": [],
            "description": "",
            "_model_name": "HTMLModel",
            "placeholder": "​",
            "_view_module": "@jupyter-widgets/controls",
            "_model_module_version": "1.5.0",
            "value": " 438M/438M [00:25&lt;00:00, 8.20MB/s]",
            "_view_count": null,
            "_view_module_version": "1.5.0",
            "description_tooltip": null,
            "_model_module": "@jupyter-widgets/controls",
            "layout": "IPY_MODEL_b7dbfc527f494ea0bbfd15001c78af7c"
          }
        },
        "a416fcdb455545dd83c8cdacf0575413": {
          "model_module": "@jupyter-widgets/controls",
          "model_name": "DescriptionStyleModel",
          "model_module_version": "1.5.0",
          "state": {
            "_view_name": "StyleView",
            "_model_name": "DescriptionStyleModel",
            "description_width": "",
            "_view_module": "@jupyter-widgets/base",
            "_model_module_version": "1.5.0",
            "_view_count": null,
            "_view_module_version": "1.2.0",
            "_model_module": "@jupyter-widgets/controls"
          }
        },
        "fe244da3c4e745ec9292716ad5c04b4c": {
          "model_module": "@jupyter-widgets/base",
          "model_name": "LayoutModel",
          "model_module_version": "1.2.0",
          "state": {
            "_view_name": "LayoutView",
            "grid_template_rows": null,
            "right": null,
            "justify_content": null,
            "_view_module": "@jupyter-widgets/base",
            "overflow": null,
            "_model_module_version": "1.2.0",
            "_view_count": null,
            "flex_flow": null,
            "width": null,
            "min_width": null,
            "border": null,
            "align_items": null,
            "bottom": null,
            "_model_module": "@jupyter-widgets/base",
            "top": null,
            "grid_column": null,
            "overflow_y": null,
            "overflow_x": null,
            "grid_auto_flow": null,
            "grid_area": null,
            "grid_template_columns": null,
            "flex": null,
            "_model_name": "LayoutModel",
            "justify_items": null,
            "grid_row": null,
            "max_height": null,
            "align_content": null,
            "visibility": null,
            "align_self": null,
            "height": null,
            "min_height": null,
            "padding": null,
            "grid_auto_rows": null,
            "grid_gap": null,
            "max_width": null,
            "order": null,
            "_view_module_version": "1.2.0",
            "grid_template_areas": null,
            "object_position": null,
            "object_fit": null,
            "grid_auto_columns": null,
            "margin": null,
            "display": null,
            "left": null
          }
        },
        "6e522ddef509413a989336ae38d70ee9": {
          "model_module": "@jupyter-widgets/controls",
          "model_name": "ProgressStyleModel",
          "model_module_version": "1.5.0",
          "state": {
            "_view_name": "StyleView",
            "_model_name": "ProgressStyleModel",
            "description_width": "",
            "_view_module": "@jupyter-widgets/base",
            "_model_module_version": "1.5.0",
            "_view_count": null,
            "_view_module_version": "1.2.0",
            "bar_color": null,
            "_model_module": "@jupyter-widgets/controls"
          }
        },
        "beb7f01baaa34b3b96d1971f431f764e": {
          "model_module": "@jupyter-widgets/base",
          "model_name": "LayoutModel",
          "model_module_version": "1.2.0",
          "state": {
            "_view_name": "LayoutView",
            "grid_template_rows": null,
            "right": null,
            "justify_content": null,
            "_view_module": "@jupyter-widgets/base",
            "overflow": null,
            "_model_module_version": "1.2.0",
            "_view_count": null,
            "flex_flow": null,
            "width": null,
            "min_width": null,
            "border": null,
            "align_items": null,
            "bottom": null,
            "_model_module": "@jupyter-widgets/base",
            "top": null,
            "grid_column": null,
            "overflow_y": null,
            "overflow_x": null,
            "grid_auto_flow": null,
            "grid_area": null,
            "grid_template_columns": null,
            "flex": null,
            "_model_name": "LayoutModel",
            "justify_items": null,
            "grid_row": null,
            "max_height": null,
            "align_content": null,
            "visibility": null,
            "align_self": null,
            "height": null,
            "min_height": null,
            "padding": null,
            "grid_auto_rows": null,
            "grid_gap": null,
            "max_width": null,
            "order": null,
            "_view_module_version": "1.2.0",
            "grid_template_areas": null,
            "object_position": null,
            "object_fit": null,
            "grid_auto_columns": null,
            "margin": null,
            "display": null,
            "left": null
          }
        },
        "bde147d514484e72a598ff4fccf4749b": {
          "model_module": "@jupyter-widgets/controls",
          "model_name": "DescriptionStyleModel",
          "model_module_version": "1.5.0",
          "state": {
            "_view_name": "StyleView",
            "_model_name": "DescriptionStyleModel",
            "description_width": "",
            "_view_module": "@jupyter-widgets/base",
            "_model_module_version": "1.5.0",
            "_view_count": null,
            "_view_module_version": "1.2.0",
            "_model_module": "@jupyter-widgets/controls"
          }
        },
        "b7dbfc527f494ea0bbfd15001c78af7c": {
          "model_module": "@jupyter-widgets/base",
          "model_name": "LayoutModel",
          "model_module_version": "1.2.0",
          "state": {
            "_view_name": "LayoutView",
            "grid_template_rows": null,
            "right": null,
            "justify_content": null,
            "_view_module": "@jupyter-widgets/base",
            "overflow": null,
            "_model_module_version": "1.2.0",
            "_view_count": null,
            "flex_flow": null,
            "width": null,
            "min_width": null,
            "border": null,
            "align_items": null,
            "bottom": null,
            "_model_module": "@jupyter-widgets/base",
            "top": null,
            "grid_column": null,
            "overflow_y": null,
            "overflow_x": null,
            "grid_auto_flow": null,
            "grid_area": null,
            "grid_template_columns": null,
            "flex": null,
            "_model_name": "LayoutModel",
            "justify_items": null,
            "grid_row": null,
            "max_height": null,
            "align_content": null,
            "visibility": null,
            "align_self": null,
            "height": null,
            "min_height": null,
            "padding": null,
            "grid_auto_rows": null,
            "grid_gap": null,
            "max_width": null,
            "order": null,
            "_view_module_version": "1.2.0",
            "grid_template_areas": null,
            "object_position": null,
            "object_fit": null,
            "grid_auto_columns": null,
            "margin": null,
            "display": null,
            "left": null
          }
        },
        "f0e3302157bb4e4d9c7410f38b0f268c": {
          "model_module": "@jupyter-widgets/controls",
          "model_name": "HBoxModel",
          "model_module_version": "1.5.0",
          "state": {
            "_view_name": "HBoxView",
            "_dom_classes": [],
            "_model_name": "HBoxModel",
            "_view_module": "@jupyter-widgets/controls",
            "_model_module_version": "1.5.0",
            "_view_count": null,
            "_view_module_version": "1.5.0",
            "box_style": "",
            "layout": "IPY_MODEL_fb0426ad7ebf4c6ca557c5533d479694",
            "_model_module": "@jupyter-widgets/controls",
            "children": [
              "IPY_MODEL_ab04d2ac82474ce6b05a5c82f5c85fde",
              "IPY_MODEL_ab3a90ce71fb4e5b862098ce0f733918",
              "IPY_MODEL_33203852e62e4b148f4de436740a2cd9"
            ]
          }
        },
        "fb0426ad7ebf4c6ca557c5533d479694": {
          "model_module": "@jupyter-widgets/base",
          "model_name": "LayoutModel",
          "model_module_version": "1.2.0",
          "state": {
            "_view_name": "LayoutView",
            "grid_template_rows": null,
            "right": null,
            "justify_content": null,
            "_view_module": "@jupyter-widgets/base",
            "overflow": null,
            "_model_module_version": "1.2.0",
            "_view_count": null,
            "flex_flow": null,
            "width": null,
            "min_width": null,
            "border": null,
            "align_items": null,
            "bottom": null,
            "_model_module": "@jupyter-widgets/base",
            "top": null,
            "grid_column": null,
            "overflow_y": null,
            "overflow_x": null,
            "grid_auto_flow": null,
            "grid_area": null,
            "grid_template_columns": null,
            "flex": null,
            "_model_name": "LayoutModel",
            "justify_items": null,
            "grid_row": null,
            "max_height": null,
            "align_content": null,
            "visibility": null,
            "align_self": null,
            "height": null,
            "min_height": null,
            "padding": null,
            "grid_auto_rows": null,
            "grid_gap": null,
            "max_width": null,
            "order": null,
            "_view_module_version": "1.2.0",
            "grid_template_areas": null,
            "object_position": null,
            "object_fit": null,
            "grid_auto_columns": null,
            "margin": null,
            "display": null,
            "left": null
          }
        },
        "ab04d2ac82474ce6b05a5c82f5c85fde": {
          "model_module": "@jupyter-widgets/controls",
          "model_name": "HTMLModel",
          "model_module_version": "1.5.0",
          "state": {
            "_view_name": "HTMLView",
            "style": "IPY_MODEL_3822831956ef4b54bbc8760bbcb5f9b0",
            "_dom_classes": [],
            "description": "",
            "_model_name": "HTMLModel",
            "placeholder": "​",
            "_view_module": "@jupyter-widgets/controls",
            "_model_module_version": "1.5.0",
            "value": "Downloading: 100%",
            "_view_count": null,
            "_view_module_version": "1.5.0",
            "description_tooltip": null,
            "_model_module": "@jupyter-widgets/controls",
            "layout": "IPY_MODEL_e6c061c455504def871a2c7a8bd48a33"
          }
        },
        "ab3a90ce71fb4e5b862098ce0f733918": {
          "model_module": "@jupyter-widgets/controls",
          "model_name": "FloatProgressModel",
          "model_module_version": "1.5.0",
          "state": {
            "_view_name": "ProgressView",
            "style": "IPY_MODEL_1386b973050e403f99f15577d27ed8ce",
            "_dom_classes": [],
            "description": "",
            "_model_name": "FloatProgressModel",
            "bar_style": "success",
            "max": 43,
            "_view_module": "@jupyter-widgets/controls",
            "_model_module_version": "1.5.0",
            "value": 43,
            "_view_count": null,
            "_view_module_version": "1.5.0",
            "orientation": "horizontal",
            "min": 0,
            "description_tooltip": null,
            "_model_module": "@jupyter-widgets/controls",
            "layout": "IPY_MODEL_a0b86d3517d3484dab660249752bd0d2"
          }
        },
        "33203852e62e4b148f4de436740a2cd9": {
          "model_module": "@jupyter-widgets/controls",
          "model_name": "HTMLModel",
          "model_module_version": "1.5.0",
          "state": {
            "_view_name": "HTMLView",
            "style": "IPY_MODEL_010dadb5f2f140899284a6a66e965e25",
            "_dom_classes": [],
            "description": "",
            "_model_name": "HTMLModel",
            "placeholder": "​",
            "_view_module": "@jupyter-widgets/controls",
            "_model_module_version": "1.5.0",
            "value": " 43.0/43.0 [00:00&lt;00:00, 1.06kB/s]",
            "_view_count": null,
            "_view_module_version": "1.5.0",
            "description_tooltip": null,
            "_model_module": "@jupyter-widgets/controls",
            "layout": "IPY_MODEL_a601b8be08674cf4b136e9711300a8e1"
          }
        },
        "3822831956ef4b54bbc8760bbcb5f9b0": {
          "model_module": "@jupyter-widgets/controls",
          "model_name": "DescriptionStyleModel",
          "model_module_version": "1.5.0",
          "state": {
            "_view_name": "StyleView",
            "_model_name": "DescriptionStyleModel",
            "description_width": "",
            "_view_module": "@jupyter-widgets/base",
            "_model_module_version": "1.5.0",
            "_view_count": null,
            "_view_module_version": "1.2.0",
            "_model_module": "@jupyter-widgets/controls"
          }
        },
        "e6c061c455504def871a2c7a8bd48a33": {
          "model_module": "@jupyter-widgets/base",
          "model_name": "LayoutModel",
          "model_module_version": "1.2.0",
          "state": {
            "_view_name": "LayoutView",
            "grid_template_rows": null,
            "right": null,
            "justify_content": null,
            "_view_module": "@jupyter-widgets/base",
            "overflow": null,
            "_model_module_version": "1.2.0",
            "_view_count": null,
            "flex_flow": null,
            "width": null,
            "min_width": null,
            "border": null,
            "align_items": null,
            "bottom": null,
            "_model_module": "@jupyter-widgets/base",
            "top": null,
            "grid_column": null,
            "overflow_y": null,
            "overflow_x": null,
            "grid_auto_flow": null,
            "grid_area": null,
            "grid_template_columns": null,
            "flex": null,
            "_model_name": "LayoutModel",
            "justify_items": null,
            "grid_row": null,
            "max_height": null,
            "align_content": null,
            "visibility": null,
            "align_self": null,
            "height": null,
            "min_height": null,
            "padding": null,
            "grid_auto_rows": null,
            "grid_gap": null,
            "max_width": null,
            "order": null,
            "_view_module_version": "1.2.0",
            "grid_template_areas": null,
            "object_position": null,
            "object_fit": null,
            "grid_auto_columns": null,
            "margin": null,
            "display": null,
            "left": null
          }
        },
        "1386b973050e403f99f15577d27ed8ce": {
          "model_module": "@jupyter-widgets/controls",
          "model_name": "ProgressStyleModel",
          "model_module_version": "1.5.0",
          "state": {
            "_view_name": "StyleView",
            "_model_name": "ProgressStyleModel",
            "description_width": "",
            "_view_module": "@jupyter-widgets/base",
            "_model_module_version": "1.5.0",
            "_view_count": null,
            "_view_module_version": "1.2.0",
            "bar_color": null,
            "_model_module": "@jupyter-widgets/controls"
          }
        },
        "a0b86d3517d3484dab660249752bd0d2": {
          "model_module": "@jupyter-widgets/base",
          "model_name": "LayoutModel",
          "model_module_version": "1.2.0",
          "state": {
            "_view_name": "LayoutView",
            "grid_template_rows": null,
            "right": null,
            "justify_content": null,
            "_view_module": "@jupyter-widgets/base",
            "overflow": null,
            "_model_module_version": "1.2.0",
            "_view_count": null,
            "flex_flow": null,
            "width": null,
            "min_width": null,
            "border": null,
            "align_items": null,
            "bottom": null,
            "_model_module": "@jupyter-widgets/base",
            "top": null,
            "grid_column": null,
            "overflow_y": null,
            "overflow_x": null,
            "grid_auto_flow": null,
            "grid_area": null,
            "grid_template_columns": null,
            "flex": null,
            "_model_name": "LayoutModel",
            "justify_items": null,
            "grid_row": null,
            "max_height": null,
            "align_content": null,
            "visibility": null,
            "align_self": null,
            "height": null,
            "min_height": null,
            "padding": null,
            "grid_auto_rows": null,
            "grid_gap": null,
            "max_width": null,
            "order": null,
            "_view_module_version": "1.2.0",
            "grid_template_areas": null,
            "object_position": null,
            "object_fit": null,
            "grid_auto_columns": null,
            "margin": null,
            "display": null,
            "left": null
          }
        },
        "010dadb5f2f140899284a6a66e965e25": {
          "model_module": "@jupyter-widgets/controls",
          "model_name": "DescriptionStyleModel",
          "model_module_version": "1.5.0",
          "state": {
            "_view_name": "StyleView",
            "_model_name": "DescriptionStyleModel",
            "description_width": "",
            "_view_module": "@jupyter-widgets/base",
            "_model_module_version": "1.5.0",
            "_view_count": null,
            "_view_module_version": "1.2.0",
            "_model_module": "@jupyter-widgets/controls"
          }
        },
        "a601b8be08674cf4b136e9711300a8e1": {
          "model_module": "@jupyter-widgets/base",
          "model_name": "LayoutModel",
          "model_module_version": "1.2.0",
          "state": {
            "_view_name": "LayoutView",
            "grid_template_rows": null,
            "right": null,
            "justify_content": null,
            "_view_module": "@jupyter-widgets/base",
            "overflow": null,
            "_model_module_version": "1.2.0",
            "_view_count": null,
            "flex_flow": null,
            "width": null,
            "min_width": null,
            "border": null,
            "align_items": null,
            "bottom": null,
            "_model_module": "@jupyter-widgets/base",
            "top": null,
            "grid_column": null,
            "overflow_y": null,
            "overflow_x": null,
            "grid_auto_flow": null,
            "grid_area": null,
            "grid_template_columns": null,
            "flex": null,
            "_model_name": "LayoutModel",
            "justify_items": null,
            "grid_row": null,
            "max_height": null,
            "align_content": null,
            "visibility": null,
            "align_self": null,
            "height": null,
            "min_height": null,
            "padding": null,
            "grid_auto_rows": null,
            "grid_gap": null,
            "max_width": null,
            "order": null,
            "_view_module_version": "1.2.0",
            "grid_template_areas": null,
            "object_position": null,
            "object_fit": null,
            "grid_auto_columns": null,
            "margin": null,
            "display": null,
            "left": null
          }
        },
        "ba3d2f49d7484c95864760a64d4a4d62": {
          "model_module": "@jupyter-widgets/controls",
          "model_name": "HBoxModel",
          "model_module_version": "1.5.0",
          "state": {
            "_view_name": "HBoxView",
            "_dom_classes": [],
            "_model_name": "HBoxModel",
            "_view_module": "@jupyter-widgets/controls",
            "_model_module_version": "1.5.0",
            "_view_count": null,
            "_view_module_version": "1.5.0",
            "box_style": "",
            "layout": "IPY_MODEL_fc0a0125c9c142de9d7603f67370c543",
            "_model_module": "@jupyter-widgets/controls",
            "children": [
              "IPY_MODEL_076b2650a3b849f8b214fb2e9772e92c",
              "IPY_MODEL_a292523279e645cc9765561b76eba8a5",
              "IPY_MODEL_b2f1b9f74ddd4229819a13524226de05"
            ]
          }
        },
        "fc0a0125c9c142de9d7603f67370c543": {
          "model_module": "@jupyter-widgets/base",
          "model_name": "LayoutModel",
          "model_module_version": "1.2.0",
          "state": {
            "_view_name": "LayoutView",
            "grid_template_rows": null,
            "right": null,
            "justify_content": null,
            "_view_module": "@jupyter-widgets/base",
            "overflow": null,
            "_model_module_version": "1.2.0",
            "_view_count": null,
            "flex_flow": null,
            "width": null,
            "min_width": null,
            "border": null,
            "align_items": null,
            "bottom": null,
            "_model_module": "@jupyter-widgets/base",
            "top": null,
            "grid_column": null,
            "overflow_y": null,
            "overflow_x": null,
            "grid_auto_flow": null,
            "grid_area": null,
            "grid_template_columns": null,
            "flex": null,
            "_model_name": "LayoutModel",
            "justify_items": null,
            "grid_row": null,
            "max_height": null,
            "align_content": null,
            "visibility": null,
            "align_self": null,
            "height": null,
            "min_height": null,
            "padding": null,
            "grid_auto_rows": null,
            "grid_gap": null,
            "max_width": null,
            "order": null,
            "_view_module_version": "1.2.0",
            "grid_template_areas": null,
            "object_position": null,
            "object_fit": null,
            "grid_auto_columns": null,
            "margin": null,
            "display": null,
            "left": null
          }
        },
        "076b2650a3b849f8b214fb2e9772e92c": {
          "model_module": "@jupyter-widgets/controls",
          "model_name": "HTMLModel",
          "model_module_version": "1.5.0",
          "state": {
            "_view_name": "HTMLView",
            "style": "IPY_MODEL_ffd65e3eee3249dd919cf2e80d2e0997",
            "_dom_classes": [],
            "description": "",
            "_model_name": "HTMLModel",
            "placeholder": "​",
            "_view_module": "@jupyter-widgets/controls",
            "_model_module_version": "1.5.0",
            "value": "Downloading: 100%",
            "_view_count": null,
            "_view_module_version": "1.5.0",
            "description_tooltip": null,
            "_model_module": "@jupyter-widgets/controls",
            "layout": "IPY_MODEL_d59f807e1f3543fe8d375b36bff0ea9d"
          }
        },
        "a292523279e645cc9765561b76eba8a5": {
          "model_module": "@jupyter-widgets/controls",
          "model_name": "FloatProgressModel",
          "model_module_version": "1.5.0",
          "state": {
            "_view_name": "ProgressView",
            "style": "IPY_MODEL_22d1cb1600fe46478ba0a1f175ece305",
            "_dom_classes": [],
            "description": "",
            "_model_name": "FloatProgressModel",
            "bar_style": "success",
            "max": 209528,
            "_view_module": "@jupyter-widgets/controls",
            "_model_module_version": "1.5.0",
            "value": 209528,
            "_view_count": null,
            "_view_module_version": "1.5.0",
            "orientation": "horizontal",
            "min": 0,
            "description_tooltip": null,
            "_model_module": "@jupyter-widgets/controls",
            "layout": "IPY_MODEL_3d3122d4e062440b9b94d1f1e871b6fb"
          }
        },
        "b2f1b9f74ddd4229819a13524226de05": {
          "model_module": "@jupyter-widgets/controls",
          "model_name": "HTMLModel",
          "model_module_version": "1.5.0",
          "state": {
            "_view_name": "HTMLView",
            "style": "IPY_MODEL_2a7dde2af5fa46bf802951b5498f0d4c",
            "_dom_classes": [],
            "description": "",
            "_model_name": "HTMLModel",
            "placeholder": "​",
            "_view_module": "@jupyter-widgets/controls",
            "_model_module_version": "1.5.0",
            "value": " 210k/210k [00:00&lt;00:00, 1.07MB/s]",
            "_view_count": null,
            "_view_module_version": "1.5.0",
            "description_tooltip": null,
            "_model_module": "@jupyter-widgets/controls",
            "layout": "IPY_MODEL_56e606b5f94a4693824c0d2ada790134"
          }
        },
        "ffd65e3eee3249dd919cf2e80d2e0997": {
          "model_module": "@jupyter-widgets/controls",
          "model_name": "DescriptionStyleModel",
          "model_module_version": "1.5.0",
          "state": {
            "_view_name": "StyleView",
            "_model_name": "DescriptionStyleModel",
            "description_width": "",
            "_view_module": "@jupyter-widgets/base",
            "_model_module_version": "1.5.0",
            "_view_count": null,
            "_view_module_version": "1.2.0",
            "_model_module": "@jupyter-widgets/controls"
          }
        },
        "d59f807e1f3543fe8d375b36bff0ea9d": {
          "model_module": "@jupyter-widgets/base",
          "model_name": "LayoutModel",
          "model_module_version": "1.2.0",
          "state": {
            "_view_name": "LayoutView",
            "grid_template_rows": null,
            "right": null,
            "justify_content": null,
            "_view_module": "@jupyter-widgets/base",
            "overflow": null,
            "_model_module_version": "1.2.0",
            "_view_count": null,
            "flex_flow": null,
            "width": null,
            "min_width": null,
            "border": null,
            "align_items": null,
            "bottom": null,
            "_model_module": "@jupyter-widgets/base",
            "top": null,
            "grid_column": null,
            "overflow_y": null,
            "overflow_x": null,
            "grid_auto_flow": null,
            "grid_area": null,
            "grid_template_columns": null,
            "flex": null,
            "_model_name": "LayoutModel",
            "justify_items": null,
            "grid_row": null,
            "max_height": null,
            "align_content": null,
            "visibility": null,
            "align_self": null,
            "height": null,
            "min_height": null,
            "padding": null,
            "grid_auto_rows": null,
            "grid_gap": null,
            "max_width": null,
            "order": null,
            "_view_module_version": "1.2.0",
            "grid_template_areas": null,
            "object_position": null,
            "object_fit": null,
            "grid_auto_columns": null,
            "margin": null,
            "display": null,
            "left": null
          }
        },
        "22d1cb1600fe46478ba0a1f175ece305": {
          "model_module": "@jupyter-widgets/controls",
          "model_name": "ProgressStyleModel",
          "model_module_version": "1.5.0",
          "state": {
            "_view_name": "StyleView",
            "_model_name": "ProgressStyleModel",
            "description_width": "",
            "_view_module": "@jupyter-widgets/base",
            "_model_module_version": "1.5.0",
            "_view_count": null,
            "_view_module_version": "1.2.0",
            "bar_color": null,
            "_model_module": "@jupyter-widgets/controls"
          }
        },
        "3d3122d4e062440b9b94d1f1e871b6fb": {
          "model_module": "@jupyter-widgets/base",
          "model_name": "LayoutModel",
          "model_module_version": "1.2.0",
          "state": {
            "_view_name": "LayoutView",
            "grid_template_rows": null,
            "right": null,
            "justify_content": null,
            "_view_module": "@jupyter-widgets/base",
            "overflow": null,
            "_model_module_version": "1.2.0",
            "_view_count": null,
            "flex_flow": null,
            "width": null,
            "min_width": null,
            "border": null,
            "align_items": null,
            "bottom": null,
            "_model_module": "@jupyter-widgets/base",
            "top": null,
            "grid_column": null,
            "overflow_y": null,
            "overflow_x": null,
            "grid_auto_flow": null,
            "grid_area": null,
            "grid_template_columns": null,
            "flex": null,
            "_model_name": "LayoutModel",
            "justify_items": null,
            "grid_row": null,
            "max_height": null,
            "align_content": null,
            "visibility": null,
            "align_self": null,
            "height": null,
            "min_height": null,
            "padding": null,
            "grid_auto_rows": null,
            "grid_gap": null,
            "max_width": null,
            "order": null,
            "_view_module_version": "1.2.0",
            "grid_template_areas": null,
            "object_position": null,
            "object_fit": null,
            "grid_auto_columns": null,
            "margin": null,
            "display": null,
            "left": null
          }
        },
        "2a7dde2af5fa46bf802951b5498f0d4c": {
          "model_module": "@jupyter-widgets/controls",
          "model_name": "DescriptionStyleModel",
          "model_module_version": "1.5.0",
          "state": {
            "_view_name": "StyleView",
            "_model_name": "DescriptionStyleModel",
            "description_width": "",
            "_view_module": "@jupyter-widgets/base",
            "_model_module_version": "1.5.0",
            "_view_count": null,
            "_view_module_version": "1.2.0",
            "_model_module": "@jupyter-widgets/controls"
          }
        },
        "56e606b5f94a4693824c0d2ada790134": {
          "model_module": "@jupyter-widgets/base",
          "model_name": "LayoutModel",
          "model_module_version": "1.2.0",
          "state": {
            "_view_name": "LayoutView",
            "grid_template_rows": null,
            "right": null,
            "justify_content": null,
            "_view_module": "@jupyter-widgets/base",
            "overflow": null,
            "_model_module_version": "1.2.0",
            "_view_count": null,
            "flex_flow": null,
            "width": null,
            "min_width": null,
            "border": null,
            "align_items": null,
            "bottom": null,
            "_model_module": "@jupyter-widgets/base",
            "top": null,
            "grid_column": null,
            "overflow_y": null,
            "overflow_x": null,
            "grid_auto_flow": null,
            "grid_area": null,
            "grid_template_columns": null,
            "flex": null,
            "_model_name": "LayoutModel",
            "justify_items": null,
            "grid_row": null,
            "max_height": null,
            "align_content": null,
            "visibility": null,
            "align_self": null,
            "height": null,
            "min_height": null,
            "padding": null,
            "grid_auto_rows": null,
            "grid_gap": null,
            "max_width": null,
            "order": null,
            "_view_module_version": "1.2.0",
            "grid_template_areas": null,
            "object_position": null,
            "object_fit": null,
            "grid_auto_columns": null,
            "margin": null,
            "display": null,
            "left": null
          }
        },
        "f746ea1006304d238fc31e3aeff981f7": {
          "model_module": "@jupyter-widgets/controls",
          "model_name": "HBoxModel",
          "model_module_version": "1.5.0",
          "state": {
            "_view_name": "HBoxView",
            "_dom_classes": [],
            "_model_name": "HBoxModel",
            "_view_module": "@jupyter-widgets/controls",
            "_model_module_version": "1.5.0",
            "_view_count": null,
            "_view_module_version": "1.5.0",
            "box_style": "",
            "layout": "IPY_MODEL_985c3aabd56d4c3285fe3993b9101af8",
            "_model_module": "@jupyter-widgets/controls",
            "children": [
              "IPY_MODEL_5c40de1f819f4de191881f9f96fd596a",
              "IPY_MODEL_ae85733f864e448ea3527f13c30e7f3f",
              "IPY_MODEL_0159d153696947a885dfc06bafd0be30"
            ]
          }
        },
        "985c3aabd56d4c3285fe3993b9101af8": {
          "model_module": "@jupyter-widgets/base",
          "model_name": "LayoutModel",
          "model_module_version": "1.2.0",
          "state": {
            "_view_name": "LayoutView",
            "grid_template_rows": null,
            "right": null,
            "justify_content": null,
            "_view_module": "@jupyter-widgets/base",
            "overflow": null,
            "_model_module_version": "1.2.0",
            "_view_count": null,
            "flex_flow": null,
            "width": null,
            "min_width": null,
            "border": null,
            "align_items": null,
            "bottom": null,
            "_model_module": "@jupyter-widgets/base",
            "top": null,
            "grid_column": null,
            "overflow_y": null,
            "overflow_x": null,
            "grid_auto_flow": null,
            "grid_area": null,
            "grid_template_columns": null,
            "flex": null,
            "_model_name": "LayoutModel",
            "justify_items": null,
            "grid_row": null,
            "max_height": null,
            "align_content": null,
            "visibility": null,
            "align_self": null,
            "height": null,
            "min_height": null,
            "padding": null,
            "grid_auto_rows": null,
            "grid_gap": null,
            "max_width": null,
            "order": null,
            "_view_module_version": "1.2.0",
            "grid_template_areas": null,
            "object_position": null,
            "object_fit": null,
            "grid_auto_columns": null,
            "margin": null,
            "display": null,
            "left": null
          }
        },
        "5c40de1f819f4de191881f9f96fd596a": {
          "model_module": "@jupyter-widgets/controls",
          "model_name": "HTMLModel",
          "model_module_version": "1.5.0",
          "state": {
            "_view_name": "HTMLView",
            "style": "IPY_MODEL_b3b30ef0e68b45e8940bac331b690257",
            "_dom_classes": [],
            "description": "",
            "_model_name": "HTMLModel",
            "placeholder": "​",
            "_view_module": "@jupyter-widgets/controls",
            "_model_module_version": "1.5.0",
            "value": "Downloading: 100%",
            "_view_count": null,
            "_view_module_version": "1.5.0",
            "description_tooltip": null,
            "_model_module": "@jupyter-widgets/controls",
            "layout": "IPY_MODEL_17dab9ba78414968868700ce97928cb2"
          }
        },
        "ae85733f864e448ea3527f13c30e7f3f": {
          "model_module": "@jupyter-widgets/controls",
          "model_name": "FloatProgressModel",
          "model_module_version": "1.5.0",
          "state": {
            "_view_name": "ProgressView",
            "style": "IPY_MODEL_ee58677123614563a663df3cd65117f5",
            "_dom_classes": [],
            "description": "",
            "_model_name": "FloatProgressModel",
            "bar_style": "success",
            "max": 2,
            "_view_module": "@jupyter-widgets/controls",
            "_model_module_version": "1.5.0",
            "value": 2,
            "_view_count": null,
            "_view_module_version": "1.5.0",
            "orientation": "horizontal",
            "min": 0,
            "description_tooltip": null,
            "_model_module": "@jupyter-widgets/controls",
            "layout": "IPY_MODEL_2f4748e5c06e42e79f8c2e8098707b77"
          }
        },
        "0159d153696947a885dfc06bafd0be30": {
          "model_module": "@jupyter-widgets/controls",
          "model_name": "HTMLModel",
          "model_module_version": "1.5.0",
          "state": {
            "_view_name": "HTMLView",
            "style": "IPY_MODEL_ee3943d096a54817aad2d0503a053067",
            "_dom_classes": [],
            "description": "",
            "_model_name": "HTMLModel",
            "placeholder": "​",
            "_view_module": "@jupyter-widgets/controls",
            "_model_module_version": "1.5.0",
            "value": " 2.00/2.00 [00:00&lt;00:00, 49.6B/s]",
            "_view_count": null,
            "_view_module_version": "1.5.0",
            "description_tooltip": null,
            "_model_module": "@jupyter-widgets/controls",
            "layout": "IPY_MODEL_30d8ffe867834de98e0bd1db31ab5768"
          }
        },
        "b3b30ef0e68b45e8940bac331b690257": {
          "model_module": "@jupyter-widgets/controls",
          "model_name": "DescriptionStyleModel",
          "model_module_version": "1.5.0",
          "state": {
            "_view_name": "StyleView",
            "_model_name": "DescriptionStyleModel",
            "description_width": "",
            "_view_module": "@jupyter-widgets/base",
            "_model_module_version": "1.5.0",
            "_view_count": null,
            "_view_module_version": "1.2.0",
            "_model_module": "@jupyter-widgets/controls"
          }
        },
        "17dab9ba78414968868700ce97928cb2": {
          "model_module": "@jupyter-widgets/base",
          "model_name": "LayoutModel",
          "model_module_version": "1.2.0",
          "state": {
            "_view_name": "LayoutView",
            "grid_template_rows": null,
            "right": null,
            "justify_content": null,
            "_view_module": "@jupyter-widgets/base",
            "overflow": null,
            "_model_module_version": "1.2.0",
            "_view_count": null,
            "flex_flow": null,
            "width": null,
            "min_width": null,
            "border": null,
            "align_items": null,
            "bottom": null,
            "_model_module": "@jupyter-widgets/base",
            "top": null,
            "grid_column": null,
            "overflow_y": null,
            "overflow_x": null,
            "grid_auto_flow": null,
            "grid_area": null,
            "grid_template_columns": null,
            "flex": null,
            "_model_name": "LayoutModel",
            "justify_items": null,
            "grid_row": null,
            "max_height": null,
            "align_content": null,
            "visibility": null,
            "align_self": null,
            "height": null,
            "min_height": null,
            "padding": null,
            "grid_auto_rows": null,
            "grid_gap": null,
            "max_width": null,
            "order": null,
            "_view_module_version": "1.2.0",
            "grid_template_areas": null,
            "object_position": null,
            "object_fit": null,
            "grid_auto_columns": null,
            "margin": null,
            "display": null,
            "left": null
          }
        },
        "ee58677123614563a663df3cd65117f5": {
          "model_module": "@jupyter-widgets/controls",
          "model_name": "ProgressStyleModel",
          "model_module_version": "1.5.0",
          "state": {
            "_view_name": "StyleView",
            "_model_name": "ProgressStyleModel",
            "description_width": "",
            "_view_module": "@jupyter-widgets/base",
            "_model_module_version": "1.5.0",
            "_view_count": null,
            "_view_module_version": "1.2.0",
            "bar_color": null,
            "_model_module": "@jupyter-widgets/controls"
          }
        },
        "2f4748e5c06e42e79f8c2e8098707b77": {
          "model_module": "@jupyter-widgets/base",
          "model_name": "LayoutModel",
          "model_module_version": "1.2.0",
          "state": {
            "_view_name": "LayoutView",
            "grid_template_rows": null,
            "right": null,
            "justify_content": null,
            "_view_module": "@jupyter-widgets/base",
            "overflow": null,
            "_model_module_version": "1.2.0",
            "_view_count": null,
            "flex_flow": null,
            "width": null,
            "min_width": null,
            "border": null,
            "align_items": null,
            "bottom": null,
            "_model_module": "@jupyter-widgets/base",
            "top": null,
            "grid_column": null,
            "overflow_y": null,
            "overflow_x": null,
            "grid_auto_flow": null,
            "grid_area": null,
            "grid_template_columns": null,
            "flex": null,
            "_model_name": "LayoutModel",
            "justify_items": null,
            "grid_row": null,
            "max_height": null,
            "align_content": null,
            "visibility": null,
            "align_self": null,
            "height": null,
            "min_height": null,
            "padding": null,
            "grid_auto_rows": null,
            "grid_gap": null,
            "max_width": null,
            "order": null,
            "_view_module_version": "1.2.0",
            "grid_template_areas": null,
            "object_position": null,
            "object_fit": null,
            "grid_auto_columns": null,
            "margin": null,
            "display": null,
            "left": null
          }
        },
        "ee3943d096a54817aad2d0503a053067": {
          "model_module": "@jupyter-widgets/controls",
          "model_name": "DescriptionStyleModel",
          "model_module_version": "1.5.0",
          "state": {
            "_view_name": "StyleView",
            "_model_name": "DescriptionStyleModel",
            "description_width": "",
            "_view_module": "@jupyter-widgets/base",
            "_model_module_version": "1.5.0",
            "_view_count": null,
            "_view_module_version": "1.2.0",
            "_model_module": "@jupyter-widgets/controls"
          }
        },
        "30d8ffe867834de98e0bd1db31ab5768": {
          "model_module": "@jupyter-widgets/base",
          "model_name": "LayoutModel",
          "model_module_version": "1.2.0",
          "state": {
            "_view_name": "LayoutView",
            "grid_template_rows": null,
            "right": null,
            "justify_content": null,
            "_view_module": "@jupyter-widgets/base",
            "overflow": null,
            "_model_module_version": "1.2.0",
            "_view_count": null,
            "flex_flow": null,
            "width": null,
            "min_width": null,
            "border": null,
            "align_items": null,
            "bottom": null,
            "_model_module": "@jupyter-widgets/base",
            "top": null,
            "grid_column": null,
            "overflow_y": null,
            "overflow_x": null,
            "grid_auto_flow": null,
            "grid_area": null,
            "grid_template_columns": null,
            "flex": null,
            "_model_name": "LayoutModel",
            "justify_items": null,
            "grid_row": null,
            "max_height": null,
            "align_content": null,
            "visibility": null,
            "align_self": null,
            "height": null,
            "min_height": null,
            "padding": null,
            "grid_auto_rows": null,
            "grid_gap": null,
            "max_width": null,
            "order": null,
            "_view_module_version": "1.2.0",
            "grid_template_areas": null,
            "object_position": null,
            "object_fit": null,
            "grid_auto_columns": null,
            "margin": null,
            "display": null,
            "left": null
          }
        },
        "af709a3cd4e94f6eb027c1e8d51e2d4c": {
          "model_module": "@jupyter-widgets/controls",
          "model_name": "HBoxModel",
          "model_module_version": "1.5.0",
          "state": {
            "_view_name": "HBoxView",
            "_dom_classes": [],
            "_model_name": "HBoxModel",
            "_view_module": "@jupyter-widgets/controls",
            "_model_module_version": "1.5.0",
            "_view_count": null,
            "_view_module_version": "1.5.0",
            "box_style": "",
            "layout": "IPY_MODEL_34d815baa44b4fbaac04db28f9533bcf",
            "_model_module": "@jupyter-widgets/controls",
            "children": [
              "IPY_MODEL_2a981bba31ec4896a956693adb2296d4",
              "IPY_MODEL_a1906155f5194c459c9c1b68ef4538d7",
              "IPY_MODEL_ae8bfdd636544da0a8c8273daec7852a"
            ]
          }
        },
        "34d815baa44b4fbaac04db28f9533bcf": {
          "model_module": "@jupyter-widgets/base",
          "model_name": "LayoutModel",
          "model_module_version": "1.2.0",
          "state": {
            "_view_name": "LayoutView",
            "grid_template_rows": null,
            "right": null,
            "justify_content": null,
            "_view_module": "@jupyter-widgets/base",
            "overflow": null,
            "_model_module_version": "1.2.0",
            "_view_count": null,
            "flex_flow": null,
            "width": null,
            "min_width": null,
            "border": null,
            "align_items": null,
            "bottom": null,
            "_model_module": "@jupyter-widgets/base",
            "top": null,
            "grid_column": null,
            "overflow_y": null,
            "overflow_x": null,
            "grid_auto_flow": null,
            "grid_area": null,
            "grid_template_columns": null,
            "flex": null,
            "_model_name": "LayoutModel",
            "justify_items": null,
            "grid_row": null,
            "max_height": null,
            "align_content": null,
            "visibility": null,
            "align_self": null,
            "height": null,
            "min_height": null,
            "padding": null,
            "grid_auto_rows": null,
            "grid_gap": null,
            "max_width": null,
            "order": null,
            "_view_module_version": "1.2.0",
            "grid_template_areas": null,
            "object_position": null,
            "object_fit": null,
            "grid_auto_columns": null,
            "margin": null,
            "display": null,
            "left": null
          }
        },
        "2a981bba31ec4896a956693adb2296d4": {
          "model_module": "@jupyter-widgets/controls",
          "model_name": "HTMLModel",
          "model_module_version": "1.5.0",
          "state": {
            "_view_name": "HTMLView",
            "style": "IPY_MODEL_35b92451dff94da3ac46dc4760d08f34",
            "_dom_classes": [],
            "description": "",
            "_model_name": "HTMLModel",
            "placeholder": "​",
            "_view_module": "@jupyter-widgets/controls",
            "_model_module_version": "1.5.0",
            "value": "Downloading: 100%",
            "_view_count": null,
            "_view_module_version": "1.5.0",
            "description_tooltip": null,
            "_model_module": "@jupyter-widgets/controls",
            "layout": "IPY_MODEL_37fcd6fc12c34be8a6cd9c0f2e36fc8f"
          }
        },
        "a1906155f5194c459c9c1b68ef4538d7": {
          "model_module": "@jupyter-widgets/controls",
          "model_name": "FloatProgressModel",
          "model_module_version": "1.5.0",
          "state": {
            "_view_name": "ProgressView",
            "style": "IPY_MODEL_dca0172d709b497e96384004575a0f33",
            "_dom_classes": [],
            "description": "",
            "_model_name": "FloatProgressModel",
            "bar_style": "success",
            "max": 112,
            "_view_module": "@jupyter-widgets/controls",
            "_model_module_version": "1.5.0",
            "value": 112,
            "_view_count": null,
            "_view_module_version": "1.5.0",
            "orientation": "horizontal",
            "min": 0,
            "description_tooltip": null,
            "_model_module": "@jupyter-widgets/controls",
            "layout": "IPY_MODEL_fcde6151d331464e9b9eedeb0c203d61"
          }
        },
        "ae8bfdd636544da0a8c8273daec7852a": {
          "model_module": "@jupyter-widgets/controls",
          "model_name": "HTMLModel",
          "model_module_version": "1.5.0",
          "state": {
            "_view_name": "HTMLView",
            "style": "IPY_MODEL_ed458acfc93449aea5daa0b131d47a2a",
            "_dom_classes": [],
            "description": "",
            "_model_name": "HTMLModel",
            "placeholder": "​",
            "_view_module": "@jupyter-widgets/controls",
            "_model_module_version": "1.5.0",
            "value": " 112/112 [00:00&lt;00:00, 2.91kB/s]",
            "_view_count": null,
            "_view_module_version": "1.5.0",
            "description_tooltip": null,
            "_model_module": "@jupyter-widgets/controls",
            "layout": "IPY_MODEL_9380bfff695b418ba886072e37c42648"
          }
        },
        "35b92451dff94da3ac46dc4760d08f34": {
          "model_module": "@jupyter-widgets/controls",
          "model_name": "DescriptionStyleModel",
          "model_module_version": "1.5.0",
          "state": {
            "_view_name": "StyleView",
            "_model_name": "DescriptionStyleModel",
            "description_width": "",
            "_view_module": "@jupyter-widgets/base",
            "_model_module_version": "1.5.0",
            "_view_count": null,
            "_view_module_version": "1.2.0",
            "_model_module": "@jupyter-widgets/controls"
          }
        },
        "37fcd6fc12c34be8a6cd9c0f2e36fc8f": {
          "model_module": "@jupyter-widgets/base",
          "model_name": "LayoutModel",
          "model_module_version": "1.2.0",
          "state": {
            "_view_name": "LayoutView",
            "grid_template_rows": null,
            "right": null,
            "justify_content": null,
            "_view_module": "@jupyter-widgets/base",
            "overflow": null,
            "_model_module_version": "1.2.0",
            "_view_count": null,
            "flex_flow": null,
            "width": null,
            "min_width": null,
            "border": null,
            "align_items": null,
            "bottom": null,
            "_model_module": "@jupyter-widgets/base",
            "top": null,
            "grid_column": null,
            "overflow_y": null,
            "overflow_x": null,
            "grid_auto_flow": null,
            "grid_area": null,
            "grid_template_columns": null,
            "flex": null,
            "_model_name": "LayoutModel",
            "justify_items": null,
            "grid_row": null,
            "max_height": null,
            "align_content": null,
            "visibility": null,
            "align_self": null,
            "height": null,
            "min_height": null,
            "padding": null,
            "grid_auto_rows": null,
            "grid_gap": null,
            "max_width": null,
            "order": null,
            "_view_module_version": "1.2.0",
            "grid_template_areas": null,
            "object_position": null,
            "object_fit": null,
            "grid_auto_columns": null,
            "margin": null,
            "display": null,
            "left": null
          }
        },
        "dca0172d709b497e96384004575a0f33": {
          "model_module": "@jupyter-widgets/controls",
          "model_name": "ProgressStyleModel",
          "model_module_version": "1.5.0",
          "state": {
            "_view_name": "StyleView",
            "_model_name": "ProgressStyleModel",
            "description_width": "",
            "_view_module": "@jupyter-widgets/base",
            "_model_module_version": "1.5.0",
            "_view_count": null,
            "_view_module_version": "1.2.0",
            "bar_color": null,
            "_model_module": "@jupyter-widgets/controls"
          }
        },
        "fcde6151d331464e9b9eedeb0c203d61": {
          "model_module": "@jupyter-widgets/base",
          "model_name": "LayoutModel",
          "model_module_version": "1.2.0",
          "state": {
            "_view_name": "LayoutView",
            "grid_template_rows": null,
            "right": null,
            "justify_content": null,
            "_view_module": "@jupyter-widgets/base",
            "overflow": null,
            "_model_module_version": "1.2.0",
            "_view_count": null,
            "flex_flow": null,
            "width": null,
            "min_width": null,
            "border": null,
            "align_items": null,
            "bottom": null,
            "_model_module": "@jupyter-widgets/base",
            "top": null,
            "grid_column": null,
            "overflow_y": null,
            "overflow_x": null,
            "grid_auto_flow": null,
            "grid_area": null,
            "grid_template_columns": null,
            "flex": null,
            "_model_name": "LayoutModel",
            "justify_items": null,
            "grid_row": null,
            "max_height": null,
            "align_content": null,
            "visibility": null,
            "align_self": null,
            "height": null,
            "min_height": null,
            "padding": null,
            "grid_auto_rows": null,
            "grid_gap": null,
            "max_width": null,
            "order": null,
            "_view_module_version": "1.2.0",
            "grid_template_areas": null,
            "object_position": null,
            "object_fit": null,
            "grid_auto_columns": null,
            "margin": null,
            "display": null,
            "left": null
          }
        },
        "ed458acfc93449aea5daa0b131d47a2a": {
          "model_module": "@jupyter-widgets/controls",
          "model_name": "DescriptionStyleModel",
          "model_module_version": "1.5.0",
          "state": {
            "_view_name": "StyleView",
            "_model_name": "DescriptionStyleModel",
            "description_width": "",
            "_view_module": "@jupyter-widgets/base",
            "_model_module_version": "1.5.0",
            "_view_count": null,
            "_view_module_version": "1.2.0",
            "_model_module": "@jupyter-widgets/controls"
          }
        },
        "9380bfff695b418ba886072e37c42648": {
          "model_module": "@jupyter-widgets/base",
          "model_name": "LayoutModel",
          "model_module_version": "1.2.0",
          "state": {
            "_view_name": "LayoutView",
            "grid_template_rows": null,
            "right": null,
            "justify_content": null,
            "_view_module": "@jupyter-widgets/base",
            "overflow": null,
            "_model_module_version": "1.2.0",
            "_view_count": null,
            "flex_flow": null,
            "width": null,
            "min_width": null,
            "border": null,
            "align_items": null,
            "bottom": null,
            "_model_module": "@jupyter-widgets/base",
            "top": null,
            "grid_column": null,
            "overflow_y": null,
            "overflow_x": null,
            "grid_auto_flow": null,
            "grid_area": null,
            "grid_template_columns": null,
            "flex": null,
            "_model_name": "LayoutModel",
            "justify_items": null,
            "grid_row": null,
            "max_height": null,
            "align_content": null,
            "visibility": null,
            "align_self": null,
            "height": null,
            "min_height": null,
            "padding": null,
            "grid_auto_rows": null,
            "grid_gap": null,
            "max_width": null,
            "order": null,
            "_view_module_version": "1.2.0",
            "grid_template_areas": null,
            "object_position": null,
            "object_fit": null,
            "grid_auto_columns": null,
            "margin": null,
            "display": null,
            "left": null
          }
        }
      }
    }
  },
  "cells": [
    {
      "cell_type": "markdown",
      "metadata": {
        "id": "view-in-github",
        "colab_type": "text"
      },
      "source": [
        "<a href=\"https://colab.research.google.com/github/PabloStrapasson/TCC-classifica-o-de-texto/blob/main/classificacao_texto.ipynb\" target=\"_parent\"><img src=\"https://colab.research.google.com/assets/colab-badge.svg\" alt=\"Open In Colab\"/></a>"
      ]
    },
    {
      "cell_type": "markdown",
      "source": [
        "#Import de bibliotecas"
      ],
      "metadata": {
        "id": "XyCMARqtQRFS"
      }
    },
    {
      "cell_type": "code",
      "execution_count": null,
      "metadata": {
        "colab": {
          "base_uri": "https://localhost:8080/",
          "height": 1000
        },
        "id": "ZvBmKKfpQKjO",
        "outputId": "73787139-e8da-4d1e-d4c6-66e65d069299"
      },
      "outputs": [
        {
          "output_type": "stream",
          "name": "stdout",
          "text": [
            "[nltk_data] Downloading package stopwords to /root/nltk_data...\n",
            "[nltk_data]   Unzipping corpora/stopwords.zip.\n",
            "[nltk_data] Downloading package wordnet to /root/nltk_data...\n",
            "[nltk_data]   Unzipping corpora/wordnet.zip.\n",
            "[nltk_data] Downloading package punkt to /root/nltk_data...\n",
            "[nltk_data]   Unzipping tokenizers/punkt.zip.\n",
            "Collecting ktrain\n",
            "  Downloading ktrain-0.29.3.tar.gz (25.3 MB)\n",
            "\u001b[K     |████████████████████████████████| 25.3 MB 1.3 MB/s \n",
            "\u001b[?25hCollecting scikit-learn==0.24.2\n",
            "  Downloading scikit_learn-0.24.2-cp37-cp37m-manylinux2010_x86_64.whl (22.3 MB)\n",
            "\u001b[K     |████████████████████████████████| 22.3 MB 85.5 MB/s \n",
            "\u001b[?25hRequirement already satisfied: matplotlib>=3.0.0 in /usr/local/lib/python3.7/dist-packages (from ktrain) (3.2.2)\n",
            "Requirement already satisfied: pandas>=1.0.1 in /usr/local/lib/python3.7/dist-packages (from ktrain) (1.3.5)\n",
            "Requirement already satisfied: fastprogress>=0.1.21 in /usr/local/lib/python3.7/dist-packages (from ktrain) (1.0.2)\n",
            "Requirement already satisfied: requests in /usr/local/lib/python3.7/dist-packages (from ktrain) (2.23.0)\n",
            "Requirement already satisfied: joblib in /usr/local/lib/python3.7/dist-packages (from ktrain) (1.1.0)\n",
            "Requirement already satisfied: packaging in /usr/local/lib/python3.7/dist-packages (from ktrain) (21.3)\n",
            "Collecting langdetect\n",
            "  Downloading langdetect-1.0.9.tar.gz (981 kB)\n",
            "\u001b[K     |████████████████████████████████| 981 kB 73.3 MB/s \n",
            "\u001b[?25hRequirement already satisfied: jieba in /usr/local/lib/python3.7/dist-packages (from ktrain) (0.42.1)\n",
            "Collecting cchardet\n",
            "  Downloading cchardet-2.1.7-cp37-cp37m-manylinux2010_x86_64.whl (263 kB)\n",
            "\u001b[K     |████████████████████████████████| 263 kB 62.9 MB/s \n",
            "\u001b[?25hRequirement already satisfied: chardet in /usr/local/lib/python3.7/dist-packages (from ktrain) (3.0.4)\n",
            "Collecting syntok==1.3.3\n",
            "  Downloading syntok-1.3.3-py3-none-any.whl (22 kB)\n",
            "Collecting seqeval==0.0.19\n",
            "  Downloading seqeval-0.0.19.tar.gz (30 kB)\n",
            "Collecting transformers==4.10.3\n",
            "  Downloading transformers-4.10.3-py3-none-any.whl (2.8 MB)\n",
            "\u001b[K     |████████████████████████████████| 2.8 MB 16.6 MB/s \n",
            "\u001b[?25hCollecting sentencepiece\n",
            "  Downloading sentencepiece-0.1.96-cp37-cp37m-manylinux_2_17_x86_64.manylinux2014_x86_64.whl (1.2 MB)\n",
            "\u001b[K     |████████████████████████████████| 1.2 MB 66.1 MB/s \n",
            "\u001b[?25hCollecting keras_bert>=0.86.0\n",
            "  Downloading keras-bert-0.89.0.tar.gz (25 kB)\n",
            "Collecting whoosh\n",
            "  Downloading Whoosh-2.7.4-py2.py3-none-any.whl (468 kB)\n",
            "\u001b[K     |████████████████████████████████| 468 kB 65.5 MB/s \n",
            "\u001b[?25hRequirement already satisfied: threadpoolctl>=2.0.0 in /usr/local/lib/python3.7/dist-packages (from scikit-learn==0.24.2->ktrain) (3.1.0)\n",
            "Requirement already satisfied: scipy>=0.19.1 in /usr/local/lib/python3.7/dist-packages (from scikit-learn==0.24.2->ktrain) (1.4.1)\n",
            "Requirement already satisfied: numpy>=1.13.3 in /usr/local/lib/python3.7/dist-packages (from scikit-learn==0.24.2->ktrain) (1.21.5)\n",
            "Requirement already satisfied: Keras>=2.2.4 in /usr/local/lib/python3.7/dist-packages (from seqeval==0.0.19->ktrain) (2.8.0)\n",
            "Requirement already satisfied: regex in /usr/local/lib/python3.7/dist-packages (from syntok==1.3.3->ktrain) (2019.12.20)\n",
            "Collecting huggingface-hub>=0.0.12\n",
            "  Downloading huggingface_hub-0.4.0-py3-none-any.whl (67 kB)\n",
            "\u001b[K     |████████████████████████████████| 67 kB 3.6 MB/s \n",
            "\u001b[?25hRequirement already satisfied: importlib-metadata in /usr/local/lib/python3.7/dist-packages (from transformers==4.10.3->ktrain) (4.11.2)\n",
            "Collecting tokenizers<0.11,>=0.10.1\n",
            "  Downloading tokenizers-0.10.3-cp37-cp37m-manylinux_2_5_x86_64.manylinux1_x86_64.manylinux_2_12_x86_64.manylinux2010_x86_64.whl (3.3 MB)\n",
            "\u001b[K     |████████████████████████████████| 3.3 MB 58.6 MB/s \n",
            "\u001b[?25hRequirement already satisfied: filelock in /usr/local/lib/python3.7/dist-packages (from transformers==4.10.3->ktrain) (3.6.0)\n",
            "Collecting sacremoses\n",
            "  Downloading sacremoses-0.0.47-py2.py3-none-any.whl (895 kB)\n",
            "\u001b[K     |████████████████████████████████| 895 kB 54.2 MB/s \n",
            "\u001b[?25hCollecting pyyaml>=5.1\n",
            "  Downloading PyYAML-6.0-cp37-cp37m-manylinux_2_5_x86_64.manylinux1_x86_64.manylinux_2_12_x86_64.manylinux2010_x86_64.whl (596 kB)\n",
            "\u001b[K     |████████████████████████████████| 596 kB 59.8 MB/s \n",
            "\u001b[?25hRequirement already satisfied: tqdm>=4.27 in /usr/local/lib/python3.7/dist-packages (from transformers==4.10.3->ktrain) (4.63.0)\n",
            "Requirement already satisfied: typing-extensions>=3.7.4.3 in /usr/local/lib/python3.7/dist-packages (from huggingface-hub>=0.0.12->transformers==4.10.3->ktrain) (3.10.0.2)\n",
            "Collecting keras-transformer==0.40.0\n",
            "  Downloading keras-transformer-0.40.0.tar.gz (9.7 kB)\n",
            "Collecting keras-pos-embd==0.13.0\n",
            "  Downloading keras-pos-embd-0.13.0.tar.gz (5.6 kB)\n",
            "Collecting keras-multi-head==0.29.0\n",
            "  Downloading keras-multi-head-0.29.0.tar.gz (13 kB)\n",
            "Collecting keras-layer-normalization==0.16.0\n",
            "  Downloading keras-layer-normalization-0.16.0.tar.gz (3.9 kB)\n",
            "Collecting keras-position-wise-feed-forward==0.8.0\n",
            "  Downloading keras-position-wise-feed-forward-0.8.0.tar.gz (4.1 kB)\n",
            "Collecting keras-embed-sim==0.10.0\n",
            "  Downloading keras-embed-sim-0.10.0.tar.gz (3.6 kB)\n",
            "Collecting keras-self-attention==0.51.0\n",
            "  Downloading keras-self-attention-0.51.0.tar.gz (11 kB)\n",
            "Requirement already satisfied: pyparsing!=2.0.4,!=2.1.2,!=2.1.6,>=2.0.1 in /usr/local/lib/python3.7/dist-packages (from matplotlib>=3.0.0->ktrain) (3.0.7)\n",
            "Requirement already satisfied: cycler>=0.10 in /usr/local/lib/python3.7/dist-packages (from matplotlib>=3.0.0->ktrain) (0.11.0)\n",
            "Requirement already satisfied: kiwisolver>=1.0.1 in /usr/local/lib/python3.7/dist-packages (from matplotlib>=3.0.0->ktrain) (1.3.2)\n",
            "Requirement already satisfied: python-dateutil>=2.1 in /usr/local/lib/python3.7/dist-packages (from matplotlib>=3.0.0->ktrain) (2.8.2)\n",
            "Requirement already satisfied: pytz>=2017.3 in /usr/local/lib/python3.7/dist-packages (from pandas>=1.0.1->ktrain) (2018.9)\n",
            "Requirement already satisfied: six>=1.5 in /usr/local/lib/python3.7/dist-packages (from python-dateutil>=2.1->matplotlib>=3.0.0->ktrain) (1.15.0)\n",
            "Requirement already satisfied: zipp>=0.5 in /usr/local/lib/python3.7/dist-packages (from importlib-metadata->transformers==4.10.3->ktrain) (3.7.0)\n",
            "Requirement already satisfied: urllib3!=1.25.0,!=1.25.1,<1.26,>=1.21.1 in /usr/local/lib/python3.7/dist-packages (from requests->ktrain) (1.24.3)\n",
            "Requirement already satisfied: idna<3,>=2.5 in /usr/local/lib/python3.7/dist-packages (from requests->ktrain) (2.10)\n",
            "Requirement already satisfied: certifi>=2017.4.17 in /usr/local/lib/python3.7/dist-packages (from requests->ktrain) (2021.10.8)\n",
            "Requirement already satisfied: click in /usr/local/lib/python3.7/dist-packages (from sacremoses->transformers==4.10.3->ktrain) (7.1.2)\n",
            "Building wheels for collected packages: ktrain, seqeval, keras-bert, keras-transformer, keras-embed-sim, keras-layer-normalization, keras-multi-head, keras-pos-embd, keras-position-wise-feed-forward, keras-self-attention, langdetect\n",
            "  Building wheel for ktrain (setup.py) ... \u001b[?25l\u001b[?25hdone\n",
            "  Created wheel for ktrain: filename=ktrain-0.29.3-py3-none-any.whl size=25295410 sha256=c995b80e4c15db16cd1ecb2f1696fa09945dec696ec6306d759f6939382535ed\n",
            "  Stored in directory: /root/.cache/pip/wheels/04/d5/2a/1a1826e16685841c68a43c31c8a892452b105f9467f64e49e6\n",
            "  Building wheel for seqeval (setup.py) ... \u001b[?25l\u001b[?25hdone\n",
            "  Created wheel for seqeval: filename=seqeval-0.0.19-py3-none-any.whl size=9931 sha256=cbef45fbd2dd8216abf784e1863ab1d55316711aad5bacbf7d4080e74488980b\n",
            "  Stored in directory: /root/.cache/pip/wheels/f5/ac/f1/4e13d7aff05c722d142b7d20a88ad63f9aab11b895411241a4\n",
            "  Building wheel for keras-bert (setup.py) ... \u001b[?25l\u001b[?25hdone\n",
            "  Created wheel for keras-bert: filename=keras_bert-0.89.0-py3-none-any.whl size=33517 sha256=f234237f7eabd29d0b4699f2de607b5d605394182261d629a1ac1c6b2b9328a1\n",
            "  Stored in directory: /root/.cache/pip/wheels/a4/e8/45/842b3a39831261aef9154b907eacbc4ac99499a99ae829b06f\n",
            "  Building wheel for keras-transformer (setup.py) ... \u001b[?25l\u001b[?25hdone\n",
            "  Created wheel for keras-transformer: filename=keras_transformer-0.40.0-py3-none-any.whl size=12305 sha256=406312dbfd000781776c1fdde23a332703ffa8ea5773cef3e661a3ce6154763b\n",
            "  Stored in directory: /root/.cache/pip/wheels/46/68/26/692ed21edd832833c3b0a0e21615bcacd99ca458b3f9ed571f\n",
            "  Building wheel for keras-embed-sim (setup.py) ... \u001b[?25l\u001b[?25hdone\n",
            "  Created wheel for keras-embed-sim: filename=keras_embed_sim-0.10.0-py3-none-any.whl size=3960 sha256=1ef2c79320afc9c91503f4ade0d6c19a1dc4f7fcffaab09d32139065fe40f14c\n",
            "  Stored in directory: /root/.cache/pip/wheels/81/67/b5/d847588d075895281e1cf5590f819bd4cf076a554872268bd5\n",
            "  Building wheel for keras-layer-normalization (setup.py) ... \u001b[?25l\u001b[?25hdone\n",
            "  Created wheel for keras-layer-normalization: filename=keras_layer_normalization-0.16.0-py3-none-any.whl size=4668 sha256=0068dbd9ec48d924be7873364b2317168a8f0030c756b838efa882a268cbfb3a\n",
            "  Stored in directory: /root/.cache/pip/wheels/85/5d/1c/2e619f594f69fbcf8bc20943b27d414871c409be053994813e\n",
            "  Building wheel for keras-multi-head (setup.py) ... \u001b[?25l\u001b[?25hdone\n",
            "  Created wheel for keras-multi-head: filename=keras_multi_head-0.29.0-py3-none-any.whl size=14993 sha256=c8f696797cbfa8d125eaa35b4c15ded242ca1234d6580b73b6736fe6520d859b\n",
            "  Stored in directory: /root/.cache/pip/wheels/86/aa/3c/9d15d24005179dae08ff291ce99c754b296347817d076fd9fb\n",
            "  Building wheel for keras-pos-embd (setup.py) ... \u001b[?25l\u001b[?25hdone\n",
            "  Created wheel for keras-pos-embd: filename=keras_pos_embd-0.13.0-py3-none-any.whl size=6962 sha256=6b741cc2b32f4d8f572c3a5f9cc5401896709e199605cf7d9ba79532af2a7a2d\n",
            "  Stored in directory: /root/.cache/pip/wheels/8d/c1/a0/dc44fcf68c857b7ff6be9a97e675e5adf51022eff1169b042f\n",
            "  Building wheel for keras-position-wise-feed-forward (setup.py) ... \u001b[?25l\u001b[?25hdone\n",
            "  Created wheel for keras-position-wise-feed-forward: filename=keras_position_wise_feed_forward-0.8.0-py3-none-any.whl size=4983 sha256=1e3fb12a9483becbf60b129ce3d7b97289d619e49e7299146e468b5b84d9ff75\n",
            "  Stored in directory: /root/.cache/pip/wheels/c2/75/6f/d42f6e051506f442daeba53ff1e2d21a5f20ef8c411610f2bb\n",
            "  Building wheel for keras-self-attention (setup.py) ... \u001b[?25l\u001b[?25hdone\n",
            "  Created wheel for keras-self-attention: filename=keras_self_attention-0.51.0-py3-none-any.whl size=18912 sha256=120975274647abf005f771d0a4f51596a0daeb96b439d49a14f96f9c2db28eec\n",
            "  Stored in directory: /root/.cache/pip/wheels/95/b1/a8/5ee00cc137940b2f6fa198212e8f45d813d0e0d9c3a04035a3\n",
            "  Building wheel for langdetect (setup.py) ... \u001b[?25l\u001b[?25hdone\n",
            "  Created wheel for langdetect: filename=langdetect-1.0.9-py3-none-any.whl size=993242 sha256=4a4bf47d2d4388e3dbcd146ec74ae1c2f61077408734420ed2a74c9336ffd999\n",
            "  Stored in directory: /root/.cache/pip/wheels/c5/96/8a/f90c59ed25d75e50a8c10a1b1c2d4c402e4dacfa87f3aff36a\n",
            "Successfully built ktrain seqeval keras-bert keras-transformer keras-embed-sim keras-layer-normalization keras-multi-head keras-pos-embd keras-position-wise-feed-forward keras-self-attention langdetect\n",
            "Installing collected packages: keras-self-attention, pyyaml, keras-position-wise-feed-forward, keras-pos-embd, keras-multi-head, keras-layer-normalization, keras-embed-sim, tokenizers, sacremoses, keras-transformer, huggingface-hub, whoosh, transformers, syntok, seqeval, sentencepiece, scikit-learn, langdetect, keras-bert, cchardet, ktrain\n",
            "  Attempting uninstall: pyyaml\n",
            "    Found existing installation: PyYAML 3.13\n",
            "    Uninstalling PyYAML-3.13:\n",
            "      Successfully uninstalled PyYAML-3.13\n",
            "  Attempting uninstall: scikit-learn\n",
            "    Found existing installation: scikit-learn 1.0.2\n",
            "    Uninstalling scikit-learn-1.0.2:\n",
            "      Successfully uninstalled scikit-learn-1.0.2\n",
            "\u001b[31mERROR: pip's dependency resolver does not currently take into account all the packages that are installed. This behaviour is the source of the following dependency conflicts.\n",
            "yellowbrick 1.4 requires scikit-learn>=1.0.0, but you have scikit-learn 0.24.2 which is incompatible.\u001b[0m\n",
            "Successfully installed cchardet-2.1.7 huggingface-hub-0.4.0 keras-bert-0.89.0 keras-embed-sim-0.10.0 keras-layer-normalization-0.16.0 keras-multi-head-0.29.0 keras-pos-embd-0.13.0 keras-position-wise-feed-forward-0.8.0 keras-self-attention-0.51.0 keras-transformer-0.40.0 ktrain-0.29.3 langdetect-1.0.9 pyyaml-6.0 sacremoses-0.0.47 scikit-learn-0.24.2 sentencepiece-0.1.96 seqeval-0.0.19 syntok-1.3.3 tokenizers-0.10.3 transformers-4.10.3 whoosh-2.7.4\n"
          ]
        },
        {
          "output_type": "display_data",
          "data": {
            "application/vnd.colab-display-data+json": {
              "pip_warning": {
                "packages": [
                  "sklearn"
                ]
              }
            }
          },
          "metadata": {}
        }
      ],
      "source": [
        "import pandas as pd\n",
        "import numpy as np\n",
        "import matplotlib.pyplot as plt\n",
        "import seaborn as sns\n",
        "import re\n",
        "import nltk\n",
        "from nltk.corpus import stopwords\n",
        "nltk.download('stopwords')\n",
        "from nltk.stem import PorterStemmer\n",
        "from nltk.stem import WordNetLemmatizer\n",
        "nltk.download('wordnet')\n",
        "from nltk.tokenize import word_tokenize\n",
        "from nltk.tokenize import sent_tokenize\n",
        "nltk.download('punkt')\n",
        "from wordcloud import WordCloud\n",
        "from sklearn.feature_extraction.text import CountVectorizer\n",
        "from sklearn.feature_extraction.text import TfidfVectorizer\n",
        "from sklearn.model_selection import train_test_split\n",
        "from sklearn.metrics import accuracy_score\n",
        "from sklearn.metrics import confusion_matrix\n",
        "from sklearn.metrics import classification_report\n",
        "from sklearn.metrics import make_scorer, roc_curve, roc_auc_score\n",
        "from sklearn.metrics import precision_recall_fscore_support as score\n",
        "from sklearn.metrics.pairwise import cosine_similarity\n",
        "from sklearn.multiclass import OneVsRestClassifier\n",
        "from sklearn.linear_model import LogisticRegression\n",
        "from sklearn.svm import SVC, LinearSVC\n",
        "from sklearn.tree import DecisionTreeClassifier\n",
        "from sklearn.ensemble import RandomForestClassifier\n",
        "from sklearn.neighbors import KNeighborsClassifier\n",
        "from sklearn.naive_bayes import GaussianNB,MultinomialNB,BernoulliNB\n",
        "\n",
        "# Deep learning\n",
        "!pip3 install ktrain"
      ]
    },
    {
      "cell_type": "markdown",
      "source": [
        "#Import do conjunto de dados "
      ],
      "metadata": {
        "id": "tUfdAeM6QXUL"
      }
    },
    {
      "cell_type": "code",
      "source": [
        "#V1: https://docs.google.com/spreadsheets/d/1-0dX1_7wQTCBedP2npTlIw0MEB6F-ou9/edit#gid=169450423\n",
        "#V2: https://docs.google.com/spreadsheets/d/1ct5U9y08C7q4VYUIXMeMqoIwZz-nQHZmRWcX7z2XR20/edit#gid=552648308\n",
        "\n",
        "dataset = pd.read_excel(\"/content/classificacao_topicos_2kapps_V4.xlsx\")\n",
        "dataset"
      ],
      "metadata": {
        "colab": {
          "base_uri": "https://localhost:8080/",
          "height": 641
        },
        "id": "ZGpRmo07QbWD",
        "outputId": "aab577ea-b8a4-4310-82e0-da69571bedbb"
      },
      "execution_count": null,
      "outputs": [
        {
          "output_type": "execute_result",
          "data": {
            "text/html": [
              "\n",
              "  <div id=\"df-73d791ce-ef9a-4d54-8ba0-21c06502bd5a\">\n",
              "    <div class=\"colab-df-container\">\n",
              "      <div>\n",
              "<style scoped>\n",
              "    .dataframe tbody tr th:only-of-type {\n",
              "        vertical-align: middle;\n",
              "    }\n",
              "\n",
              "    .dataframe tbody tr th {\n",
              "        vertical-align: top;\n",
              "    }\n",
              "\n",
              "    .dataframe thead th {\n",
              "        text-align: right;\n",
              "    }\n",
              "</style>\n",
              "<table border=\"1\" class=\"dataframe\">\n",
              "  <thead>\n",
              "    <tr style=\"text-align: right;\">\n",
              "      <th></th>\n",
              "      <th>ID</th>\n",
              "      <th>nome_arquivo_pc</th>\n",
              "      <th>nome_app</th>\n",
              "      <th>topico link</th>\n",
              "      <th>comentarios</th>\n",
              "      <th>todo_texto_app</th>\n",
              "      <th>texto_app_substantivos</th>\n",
              "    </tr>\n",
              "  </thead>\n",
              "  <tbody>\n",
              "    <tr>\n",
              "      <th>0</th>\n",
              "      <td>1.0</td>\n",
              "      <td>InfoCarvalhal.aia</td>\n",
              "      <td>InfoCarvalhau</td>\n",
              "      <td>Educação</td>\n",
              "      <td>NaN</td>\n",
              "      <td>Screen2 CARREGANDO ALMIRANTE CARVALHAL Começ...</td>\n",
              "      <td>ano turno menu horários alunos professores nas...</td>\n",
              "    </tr>\n",
              "    <tr>\n",
              "      <th>1</th>\n",
              "      <td>2.0</td>\n",
              "      <td>quadroVerde.aia</td>\n",
              "      <td>quadroverde</td>\n",
              "      <td>Educação</td>\n",
              "      <td>NaN</td>\n",
              "      <td>None Screen1 CROP CROP None Viewer Galeria j...</td>\n",
              "      <td>galeria disciplina favor nome autor quadro ver...</td>\n",
              "    </tr>\n",
              "    <tr>\n",
              "      <th>2</th>\n",
              "      <td>3.0</td>\n",
              "      <td>ReciclaMais.aia</td>\n",
              "      <td>reciclamaisv2</td>\n",
              "      <td>Meio ambiente</td>\n",
              "      <td>NaN</td>\n",
              "      <td>Senha CPF não encontrado Senha Senha Cpf Scr...</td>\n",
              "      <td>senha login texto nome email cidade rua bairro...</td>\n",
              "    </tr>\n",
              "    <tr>\n",
              "      <th>3</th>\n",
              "      <td>4.0</td>\n",
              "      <td>ConexaoEsportiva.aia</td>\n",
              "      <td>ConexaoEsportiva</td>\n",
              "      <td>Vida saudável e esporte</td>\n",
              "      <td>NaN</td>\n",
              "      <td>Dashboard Dashboard Criar Prática Data _ _ /...</td>\n",
              "      <td>prática data endereço valor modalidade futebol...</td>\n",
              "    </tr>\n",
              "    <tr>\n",
              "      <th>4</th>\n",
              "      <td>5.0</td>\n",
              "      <td>AppNoelNovoDesign.aia</td>\n",
              "      <td>AppNoelNovoDesign</td>\n",
              "      <td>Comunicação</td>\n",
              "      <td>NaN</td>\n",
              "      <td>0 0 Screen4 Screen3 geo:0,0?q= , Local Local...</td>\n",
              "      <td>local localização mapa carta perfil foto galer...</td>\n",
              "    </tr>\n",
              "    <tr>\n",
              "      <th>...</th>\n",
              "      <td>...</td>\n",
              "      <td>...</td>\n",
              "      <td>...</td>\n",
              "      <td>...</td>\n",
              "      <td>...</td>\n",
              "      <td>...</td>\n",
              "      <td>...</td>\n",
              "    </tr>\n",
              "    <tr>\n",
              "      <th>2852</th>\n",
              "      <td>2873.0</td>\n",
              "      <td>TabletopAssistant.aia</td>\n",
              "      <td>MeuProjeto2</td>\n",
              "      <td>NaN</td>\n",
              "      <td>jogo</td>\n",
              "      <td>dice_list dice_list dice_list dice_list MeuPro...</td>\n",
              "      <td>NaN</td>\n",
              "    </tr>\n",
              "    <tr>\n",
              "      <th>2853</th>\n",
              "      <td>2874.0</td>\n",
              "      <td>FloripaSolidaria.aia</td>\n",
              "      <td>FloripaSolidaria</td>\n",
              "      <td>Cidadania e questões sociais</td>\n",
              "      <td>NaN</td>\n",
              "      <td>FloripaSolidaria Home Menu Floripa Solidária A...</td>\n",
              "      <td>NaN</td>\n",
              "    </tr>\n",
              "    <tr>\n",
              "      <th>2854</th>\n",
              "      <td>2875.0</td>\n",
              "      <td>TemAglomero.aia</td>\n",
              "      <td>TemAglomeroApp</td>\n",
              "      <td>Comes-e-bebes</td>\n",
              "      <td>medicina e saúde? boa pergunta..se incluimos e...</td>\n",
              "      <td>Tem Aglomero? Tem Aglomero? bar Bar cafeteria ...</td>\n",
              "      <td>NaN</td>\n",
              "    </tr>\n",
              "    <tr>\n",
              "      <th>2855</th>\n",
              "      <td>2876.0</td>\n",
              "      <td>INFRASTAT.aia</td>\n",
              "      <td>INFRASTATv2</td>\n",
              "      <td>NaN</td>\n",
              "      <td>desconsiderado por enquanto - acho que e manut...</td>\n",
              "      <td>visita manutencao historico Patrimonio deve te...</td>\n",
              "      <td>NaN</td>\n",
              "    </tr>\n",
              "    <tr>\n",
              "      <th>2856</th>\n",
              "      <td>2877.0</td>\n",
              "      <td>petfinder.aia</td>\n",
              "      <td>petfinder</td>\n",
              "      <td>Animais e pets</td>\n",
              "      <td>NaN</td>\n",
              "      <td>animais latitude longitude visto Rua do zezé e...</td>\n",
              "      <td>NaN</td>\n",
              "    </tr>\n",
              "  </tbody>\n",
              "</table>\n",
              "<p>2857 rows × 7 columns</p>\n",
              "</div>\n",
              "      <button class=\"colab-df-convert\" onclick=\"convertToInteractive('df-73d791ce-ef9a-4d54-8ba0-21c06502bd5a')\"\n",
              "              title=\"Convert this dataframe to an interactive table.\"\n",
              "              style=\"display:none;\">\n",
              "        \n",
              "  <svg xmlns=\"http://www.w3.org/2000/svg\" height=\"24px\"viewBox=\"0 0 24 24\"\n",
              "       width=\"24px\">\n",
              "    <path d=\"M0 0h24v24H0V0z\" fill=\"none\"/>\n",
              "    <path d=\"M18.56 5.44l.94 2.06.94-2.06 2.06-.94-2.06-.94-.94-2.06-.94 2.06-2.06.94zm-11 1L8.5 8.5l.94-2.06 2.06-.94-2.06-.94L8.5 2.5l-.94 2.06-2.06.94zm10 10l.94 2.06.94-2.06 2.06-.94-2.06-.94-.94-2.06-.94 2.06-2.06.94z\"/><path d=\"M17.41 7.96l-1.37-1.37c-.4-.4-.92-.59-1.43-.59-.52 0-1.04.2-1.43.59L10.3 9.45l-7.72 7.72c-.78.78-.78 2.05 0 2.83L4 21.41c.39.39.9.59 1.41.59.51 0 1.02-.2 1.41-.59l7.78-7.78 2.81-2.81c.8-.78.8-2.07 0-2.86zM5.41 20L4 18.59l7.72-7.72 1.47 1.35L5.41 20z\"/>\n",
              "  </svg>\n",
              "      </button>\n",
              "      \n",
              "  <style>\n",
              "    .colab-df-container {\n",
              "      display:flex;\n",
              "      flex-wrap:wrap;\n",
              "      gap: 12px;\n",
              "    }\n",
              "\n",
              "    .colab-df-convert {\n",
              "      background-color: #E8F0FE;\n",
              "      border: none;\n",
              "      border-radius: 50%;\n",
              "      cursor: pointer;\n",
              "      display: none;\n",
              "      fill: #1967D2;\n",
              "      height: 32px;\n",
              "      padding: 0 0 0 0;\n",
              "      width: 32px;\n",
              "    }\n",
              "\n",
              "    .colab-df-convert:hover {\n",
              "      background-color: #E2EBFA;\n",
              "      box-shadow: 0px 1px 2px rgba(60, 64, 67, 0.3), 0px 1px 3px 1px rgba(60, 64, 67, 0.15);\n",
              "      fill: #174EA6;\n",
              "    }\n",
              "\n",
              "    [theme=dark] .colab-df-convert {\n",
              "      background-color: #3B4455;\n",
              "      fill: #D2E3FC;\n",
              "    }\n",
              "\n",
              "    [theme=dark] .colab-df-convert:hover {\n",
              "      background-color: #434B5C;\n",
              "      box-shadow: 0px 1px 3px 1px rgba(0, 0, 0, 0.15);\n",
              "      filter: drop-shadow(0px 1px 2px rgba(0, 0, 0, 0.3));\n",
              "      fill: #FFFFFF;\n",
              "    }\n",
              "  </style>\n",
              "\n",
              "      <script>\n",
              "        const buttonEl =\n",
              "          document.querySelector('#df-73d791ce-ef9a-4d54-8ba0-21c06502bd5a button.colab-df-convert');\n",
              "        buttonEl.style.display =\n",
              "          google.colab.kernel.accessAllowed ? 'block' : 'none';\n",
              "\n",
              "        async function convertToInteractive(key) {\n",
              "          const element = document.querySelector('#df-73d791ce-ef9a-4d54-8ba0-21c06502bd5a');\n",
              "          const dataTable =\n",
              "            await google.colab.kernel.invokeFunction('convertToInteractive',\n",
              "                                                     [key], {});\n",
              "          if (!dataTable) return;\n",
              "\n",
              "          const docLinkHtml = 'Like what you see? Visit the ' +\n",
              "            '<a target=\"_blank\" href=https://colab.research.google.com/notebooks/data_table.ipynb>data table notebook</a>'\n",
              "            + ' to learn more about interactive tables.';\n",
              "          element.innerHTML = '';\n",
              "          dataTable['output_type'] = 'display_data';\n",
              "          await google.colab.output.renderOutput(dataTable, element);\n",
              "          const docLink = document.createElement('div');\n",
              "          docLink.innerHTML = docLinkHtml;\n",
              "          element.appendChild(docLink);\n",
              "        }\n",
              "      </script>\n",
              "    </div>\n",
              "  </div>\n",
              "  "
            ],
            "text/plain": [
              "          ID        nome_arquivo_pc           nome_app  \\\n",
              "0        1.0      InfoCarvalhal.aia      InfoCarvalhau   \n",
              "1        2.0        quadroVerde.aia        quadroverde   \n",
              "2        3.0        ReciclaMais.aia      reciclamaisv2   \n",
              "3        4.0   ConexaoEsportiva.aia   ConexaoEsportiva   \n",
              "4        5.0  AppNoelNovoDesign.aia  AppNoelNovoDesign   \n",
              "...      ...                    ...                ...   \n",
              "2852  2873.0  TabletopAssistant.aia        MeuProjeto2   \n",
              "2853  2874.0   FloripaSolidaria.aia   FloripaSolidaria   \n",
              "2854  2875.0        TemAglomero.aia     TemAglomeroApp   \n",
              "2855  2876.0          INFRASTAT.aia        INFRASTATv2   \n",
              "2856  2877.0          petfinder.aia          petfinder   \n",
              "\n",
              "                       topico link  \\\n",
              "0                         Educação   \n",
              "1                         Educação   \n",
              "2                    Meio ambiente   \n",
              "3          Vida saudável e esporte   \n",
              "4                      Comunicação   \n",
              "...                            ...   \n",
              "2852                           NaN   \n",
              "2853  Cidadania e questões sociais   \n",
              "2854                 Comes-e-bebes   \n",
              "2855                           NaN   \n",
              "2856                Animais e pets   \n",
              "\n",
              "                                            comentarios  \\\n",
              "0                                                   NaN   \n",
              "1                                                   NaN   \n",
              "2                                                   NaN   \n",
              "3                                                   NaN   \n",
              "4                                                   NaN   \n",
              "...                                                 ...   \n",
              "2852                                               jogo   \n",
              "2853                                                NaN   \n",
              "2854  medicina e saúde? boa pergunta..se incluimos e...   \n",
              "2855  desconsiderado por enquanto - acho que e manut...   \n",
              "2856                                                NaN   \n",
              "\n",
              "                                         todo_texto_app  \\\n",
              "0       Screen2 CARREGANDO ALMIRANTE CARVALHAL Começ...   \n",
              "1       None Screen1 CROP CROP None Viewer Galeria j...   \n",
              "2       Senha CPF não encontrado Senha Senha Cpf Scr...   \n",
              "3       Dashboard Dashboard Criar Prática Data _ _ /...   \n",
              "4       0 0 Screen4 Screen3 geo:0,0?q= , Local Local...   \n",
              "...                                                 ...   \n",
              "2852  dice_list dice_list dice_list dice_list MeuPro...   \n",
              "2853  FloripaSolidaria Home Menu Floripa Solidária A...   \n",
              "2854  Tem Aglomero? Tem Aglomero? bar Bar cafeteria ...   \n",
              "2855  visita manutencao historico Patrimonio deve te...   \n",
              "2856  animais latitude longitude visto Rua do zezé e...   \n",
              "\n",
              "                                 texto_app_substantivos  \n",
              "0     ano turno menu horários alunos professores nas...  \n",
              "1     galeria disciplina favor nome autor quadro ver...  \n",
              "2     senha login texto nome email cidade rua bairro...  \n",
              "3     prática data endereço valor modalidade futebol...  \n",
              "4     local localização mapa carta perfil foto galer...  \n",
              "...                                                 ...  \n",
              "2852                                                NaN  \n",
              "2853                                                NaN  \n",
              "2854                                                NaN  \n",
              "2855                                                NaN  \n",
              "2856                                                NaN  \n",
              "\n",
              "[2857 rows x 7 columns]"
            ]
          },
          "metadata": {},
          "execution_count": 2
        }
      ]
    },
    {
      "cell_type": "markdown",
      "source": [
        "###Definição de variáveis"
      ],
      "metadata": {
        "id": "J8OekYhbmtsW"
      }
    },
    {
      "cell_type": "code",
      "source": [
        "#colunas existentes\n",
        "col_texto_bruto = 'todo_texto_app'\n",
        "col_topico = 'topico link'\n",
        "col_texto_processado = 'texto_processado'\n",
        "\n",
        "#colunas que serão criadas\n",
        "col_topico_ID = 'topicoID'"
      ],
      "metadata": {
        "id": "Hi2jxEVdmtQv"
      },
      "execution_count": null,
      "outputs": []
    },
    {
      "cell_type": "markdown",
      "source": [
        "###Retirando se tiver algum app sem texto de conteúdo OU tópico alocado"
      ],
      "metadata": {
        "id": "Y7w_SwE0CHaA"
      }
    },
    {
      "cell_type": "code",
      "source": [
        "dataset.dropna(subset=[col_texto_bruto], inplace=True)\n",
        "dataset.dropna(subset=[col_topico], inplace=True)\n",
        "dataset"
      ],
      "metadata": {
        "colab": {
          "base_uri": "https://localhost:8080/",
          "height": 641
        },
        "id": "S3loftphB_gJ",
        "outputId": "94a41010-a256-4ded-c36f-52c7a11e90bf"
      },
      "execution_count": null,
      "outputs": [
        {
          "output_type": "execute_result",
          "data": {
            "text/html": [
              "\n",
              "  <div id=\"df-aba4e68d-2bdc-4d28-af05-dc160361ae72\">\n",
              "    <div class=\"colab-df-container\">\n",
              "      <div>\n",
              "<style scoped>\n",
              "    .dataframe tbody tr th:only-of-type {\n",
              "        vertical-align: middle;\n",
              "    }\n",
              "\n",
              "    .dataframe tbody tr th {\n",
              "        vertical-align: top;\n",
              "    }\n",
              "\n",
              "    .dataframe thead th {\n",
              "        text-align: right;\n",
              "    }\n",
              "</style>\n",
              "<table border=\"1\" class=\"dataframe\">\n",
              "  <thead>\n",
              "    <tr style=\"text-align: right;\">\n",
              "      <th></th>\n",
              "      <th>ID</th>\n",
              "      <th>nome_arquivo_pc</th>\n",
              "      <th>nome_app</th>\n",
              "      <th>topico link</th>\n",
              "      <th>comentarios</th>\n",
              "      <th>todo_texto_app</th>\n",
              "      <th>texto_app_substantivos</th>\n",
              "    </tr>\n",
              "  </thead>\n",
              "  <tbody>\n",
              "    <tr>\n",
              "      <th>0</th>\n",
              "      <td>1.0</td>\n",
              "      <td>InfoCarvalhal.aia</td>\n",
              "      <td>InfoCarvalhau</td>\n",
              "      <td>Educação</td>\n",
              "      <td>NaN</td>\n",
              "      <td>Screen2 CARREGANDO ALMIRANTE CARVALHAL Começ...</td>\n",
              "      <td>ano turno menu horários alunos professores nas...</td>\n",
              "    </tr>\n",
              "    <tr>\n",
              "      <th>1</th>\n",
              "      <td>2.0</td>\n",
              "      <td>quadroVerde.aia</td>\n",
              "      <td>quadroverde</td>\n",
              "      <td>Educação</td>\n",
              "      <td>NaN</td>\n",
              "      <td>None Screen1 CROP CROP None Viewer Galeria j...</td>\n",
              "      <td>galeria disciplina favor nome autor quadro ver...</td>\n",
              "    </tr>\n",
              "    <tr>\n",
              "      <th>2</th>\n",
              "      <td>3.0</td>\n",
              "      <td>ReciclaMais.aia</td>\n",
              "      <td>reciclamaisv2</td>\n",
              "      <td>Meio ambiente</td>\n",
              "      <td>NaN</td>\n",
              "      <td>Senha CPF não encontrado Senha Senha Cpf Scr...</td>\n",
              "      <td>senha login texto nome email cidade rua bairro...</td>\n",
              "    </tr>\n",
              "    <tr>\n",
              "      <th>3</th>\n",
              "      <td>4.0</td>\n",
              "      <td>ConexaoEsportiva.aia</td>\n",
              "      <td>ConexaoEsportiva</td>\n",
              "      <td>Vida saudável e esporte</td>\n",
              "      <td>NaN</td>\n",
              "      <td>Dashboard Dashboard Criar Prática Data _ _ /...</td>\n",
              "      <td>prática data endereço valor modalidade futebol...</td>\n",
              "    </tr>\n",
              "    <tr>\n",
              "      <th>4</th>\n",
              "      <td>5.0</td>\n",
              "      <td>AppNoelNovoDesign.aia</td>\n",
              "      <td>AppNoelNovoDesign</td>\n",
              "      <td>Comunicação</td>\n",
              "      <td>NaN</td>\n",
              "      <td>0 0 Screen4 Screen3 geo:0,0?q= , Local Local...</td>\n",
              "      <td>local localização mapa carta perfil foto galer...</td>\n",
              "    </tr>\n",
              "    <tr>\n",
              "      <th>...</th>\n",
              "      <td>...</td>\n",
              "      <td>...</td>\n",
              "      <td>...</td>\n",
              "      <td>...</td>\n",
              "      <td>...</td>\n",
              "      <td>...</td>\n",
              "      <td>...</td>\n",
              "    </tr>\n",
              "    <tr>\n",
              "      <th>2850</th>\n",
              "      <td>2871.0</td>\n",
              "      <td>Recicleplus.aia</td>\n",
              "      <td>MeuProjeto3</td>\n",
              "      <td>Meio ambiente</td>\n",
              "      <td>NaN</td>\n",
              "      <td>Lixo1 Lixo2 Lixo3 Lixo4 Lixo5 Lixo6 Hoje Ultim...</td>\n",
              "      <td>NaN</td>\n",
              "    </tr>\n",
              "    <tr>\n",
              "      <th>2851</th>\n",
              "      <td>2872.0</td>\n",
              "      <td>Onde_andas.aia</td>\n",
              "      <td>Onde_andas_final</td>\n",
              "      <td>Turismo e geografia</td>\n",
              "      <td>?</td>\n",
              "      <td>Beira mar Norte Beira mar Continental Trindade...</td>\n",
              "      <td>NaN</td>\n",
              "    </tr>\n",
              "    <tr>\n",
              "      <th>2853</th>\n",
              "      <td>2874.0</td>\n",
              "      <td>FloripaSolidaria.aia</td>\n",
              "      <td>FloripaSolidaria</td>\n",
              "      <td>Cidadania e questões sociais</td>\n",
              "      <td>NaN</td>\n",
              "      <td>FloripaSolidaria Home Menu Floripa Solidária A...</td>\n",
              "      <td>NaN</td>\n",
              "    </tr>\n",
              "    <tr>\n",
              "      <th>2854</th>\n",
              "      <td>2875.0</td>\n",
              "      <td>TemAglomero.aia</td>\n",
              "      <td>TemAglomeroApp</td>\n",
              "      <td>Comes-e-bebes</td>\n",
              "      <td>medicina e saúde? boa pergunta..se incluimos e...</td>\n",
              "      <td>Tem Aglomero? Tem Aglomero? bar Bar cafeteria ...</td>\n",
              "      <td>NaN</td>\n",
              "    </tr>\n",
              "    <tr>\n",
              "      <th>2856</th>\n",
              "      <td>2877.0</td>\n",
              "      <td>petfinder.aia</td>\n",
              "      <td>petfinder</td>\n",
              "      <td>Animais e pets</td>\n",
              "      <td>NaN</td>\n",
              "      <td>animais latitude longitude visto Rua do zezé e...</td>\n",
              "      <td>NaN</td>\n",
              "    </tr>\n",
              "  </tbody>\n",
              "</table>\n",
              "<p>1607 rows × 7 columns</p>\n",
              "</div>\n",
              "      <button class=\"colab-df-convert\" onclick=\"convertToInteractive('df-aba4e68d-2bdc-4d28-af05-dc160361ae72')\"\n",
              "              title=\"Convert this dataframe to an interactive table.\"\n",
              "              style=\"display:none;\">\n",
              "        \n",
              "  <svg xmlns=\"http://www.w3.org/2000/svg\" height=\"24px\"viewBox=\"0 0 24 24\"\n",
              "       width=\"24px\">\n",
              "    <path d=\"M0 0h24v24H0V0z\" fill=\"none\"/>\n",
              "    <path d=\"M18.56 5.44l.94 2.06.94-2.06 2.06-.94-2.06-.94-.94-2.06-.94 2.06-2.06.94zm-11 1L8.5 8.5l.94-2.06 2.06-.94-2.06-.94L8.5 2.5l-.94 2.06-2.06.94zm10 10l.94 2.06.94-2.06 2.06-.94-2.06-.94-.94-2.06-.94 2.06-2.06.94z\"/><path d=\"M17.41 7.96l-1.37-1.37c-.4-.4-.92-.59-1.43-.59-.52 0-1.04.2-1.43.59L10.3 9.45l-7.72 7.72c-.78.78-.78 2.05 0 2.83L4 21.41c.39.39.9.59 1.41.59.51 0 1.02-.2 1.41-.59l7.78-7.78 2.81-2.81c.8-.78.8-2.07 0-2.86zM5.41 20L4 18.59l7.72-7.72 1.47 1.35L5.41 20z\"/>\n",
              "  </svg>\n",
              "      </button>\n",
              "      \n",
              "  <style>\n",
              "    .colab-df-container {\n",
              "      display:flex;\n",
              "      flex-wrap:wrap;\n",
              "      gap: 12px;\n",
              "    }\n",
              "\n",
              "    .colab-df-convert {\n",
              "      background-color: #E8F0FE;\n",
              "      border: none;\n",
              "      border-radius: 50%;\n",
              "      cursor: pointer;\n",
              "      display: none;\n",
              "      fill: #1967D2;\n",
              "      height: 32px;\n",
              "      padding: 0 0 0 0;\n",
              "      width: 32px;\n",
              "    }\n",
              "\n",
              "    .colab-df-convert:hover {\n",
              "      background-color: #E2EBFA;\n",
              "      box-shadow: 0px 1px 2px rgba(60, 64, 67, 0.3), 0px 1px 3px 1px rgba(60, 64, 67, 0.15);\n",
              "      fill: #174EA6;\n",
              "    }\n",
              "\n",
              "    [theme=dark] .colab-df-convert {\n",
              "      background-color: #3B4455;\n",
              "      fill: #D2E3FC;\n",
              "    }\n",
              "\n",
              "    [theme=dark] .colab-df-convert:hover {\n",
              "      background-color: #434B5C;\n",
              "      box-shadow: 0px 1px 3px 1px rgba(0, 0, 0, 0.15);\n",
              "      filter: drop-shadow(0px 1px 2px rgba(0, 0, 0, 0.3));\n",
              "      fill: #FFFFFF;\n",
              "    }\n",
              "  </style>\n",
              "\n",
              "      <script>\n",
              "        const buttonEl =\n",
              "          document.querySelector('#df-aba4e68d-2bdc-4d28-af05-dc160361ae72 button.colab-df-convert');\n",
              "        buttonEl.style.display =\n",
              "          google.colab.kernel.accessAllowed ? 'block' : 'none';\n",
              "\n",
              "        async function convertToInteractive(key) {\n",
              "          const element = document.querySelector('#df-aba4e68d-2bdc-4d28-af05-dc160361ae72');\n",
              "          const dataTable =\n",
              "            await google.colab.kernel.invokeFunction('convertToInteractive',\n",
              "                                                     [key], {});\n",
              "          if (!dataTable) return;\n",
              "\n",
              "          const docLinkHtml = 'Like what you see? Visit the ' +\n",
              "            '<a target=\"_blank\" href=https://colab.research.google.com/notebooks/data_table.ipynb>data table notebook</a>'\n",
              "            + ' to learn more about interactive tables.';\n",
              "          element.innerHTML = '';\n",
              "          dataTable['output_type'] = 'display_data';\n",
              "          await google.colab.output.renderOutput(dataTable, element);\n",
              "          const docLink = document.createElement('div');\n",
              "          docLink.innerHTML = docLinkHtml;\n",
              "          element.appendChild(docLink);\n",
              "        }\n",
              "      </script>\n",
              "    </div>\n",
              "  </div>\n",
              "  "
            ],
            "text/plain": [
              "          ID        nome_arquivo_pc           nome_app  \\\n",
              "0        1.0      InfoCarvalhal.aia      InfoCarvalhau   \n",
              "1        2.0        quadroVerde.aia        quadroverde   \n",
              "2        3.0        ReciclaMais.aia      reciclamaisv2   \n",
              "3        4.0   ConexaoEsportiva.aia   ConexaoEsportiva   \n",
              "4        5.0  AppNoelNovoDesign.aia  AppNoelNovoDesign   \n",
              "...      ...                    ...                ...   \n",
              "2850  2871.0        Recicleplus.aia        MeuProjeto3   \n",
              "2851  2872.0         Onde_andas.aia   Onde_andas_final   \n",
              "2853  2874.0   FloripaSolidaria.aia   FloripaSolidaria   \n",
              "2854  2875.0        TemAglomero.aia     TemAglomeroApp   \n",
              "2856  2877.0          petfinder.aia          petfinder   \n",
              "\n",
              "                       topico link  \\\n",
              "0                         Educação   \n",
              "1                         Educação   \n",
              "2                    Meio ambiente   \n",
              "3          Vida saudável e esporte   \n",
              "4                      Comunicação   \n",
              "...                            ...   \n",
              "2850                 Meio ambiente   \n",
              "2851           Turismo e geografia   \n",
              "2853  Cidadania e questões sociais   \n",
              "2854                 Comes-e-bebes   \n",
              "2856                Animais e pets   \n",
              "\n",
              "                                            comentarios  \\\n",
              "0                                                   NaN   \n",
              "1                                                   NaN   \n",
              "2                                                   NaN   \n",
              "3                                                   NaN   \n",
              "4                                                   NaN   \n",
              "...                                                 ...   \n",
              "2850                                                NaN   \n",
              "2851                                                  ?   \n",
              "2853                                                NaN   \n",
              "2854  medicina e saúde? boa pergunta..se incluimos e...   \n",
              "2856                                                NaN   \n",
              "\n",
              "                                         todo_texto_app  \\\n",
              "0       Screen2 CARREGANDO ALMIRANTE CARVALHAL Começ...   \n",
              "1       None Screen1 CROP CROP None Viewer Galeria j...   \n",
              "2       Senha CPF não encontrado Senha Senha Cpf Scr...   \n",
              "3       Dashboard Dashboard Criar Prática Data _ _ /...   \n",
              "4       0 0 Screen4 Screen3 geo:0,0?q= , Local Local...   \n",
              "...                                                 ...   \n",
              "2850  Lixo1 Lixo2 Lixo3 Lixo4 Lixo5 Lixo6 Hoje Ultim...   \n",
              "2851  Beira mar Norte Beira mar Continental Trindade...   \n",
              "2853  FloripaSolidaria Home Menu Floripa Solidária A...   \n",
              "2854  Tem Aglomero? Tem Aglomero? bar Bar cafeteria ...   \n",
              "2856  animais latitude longitude visto Rua do zezé e...   \n",
              "\n",
              "                                 texto_app_substantivos  \n",
              "0     ano turno menu horários alunos professores nas...  \n",
              "1     galeria disciplina favor nome autor quadro ver...  \n",
              "2     senha login texto nome email cidade rua bairro...  \n",
              "3     prática data endereço valor modalidade futebol...  \n",
              "4     local localização mapa carta perfil foto galer...  \n",
              "...                                                 ...  \n",
              "2850                                                NaN  \n",
              "2851                                                NaN  \n",
              "2853                                                NaN  \n",
              "2854                                                NaN  \n",
              "2856                                                NaN  \n",
              "\n",
              "[1607 rows x 7 columns]"
            ]
          },
          "metadata": {},
          "execution_count": 4
        }
      ]
    },
    {
      "cell_type": "markdown",
      "source": [
        "## Contagem de valores das categorias"
      ],
      "metadata": {
        "id": "ZoUhLqaBQyd8"
      }
    },
    {
      "cell_type": "code",
      "source": [
        "dataset[col_topico].value_counts()"
      ],
      "metadata": {
        "colab": {
          "base_uri": "https://localhost:8080/"
        },
        "id": "6v22Ct2qQrVO",
        "outputId": "7e78d8c2-9948-4dbc-d2a1-72e4cdc3dfd0"
      },
      "execution_count": null,
      "outputs": [
        {
          "output_type": "execute_result",
          "data": {
            "text/plain": [
              "Matemática                                   223\n",
              "Vida saudável e esporte                      174\n",
              "Comunicação                                  165\n",
              "Entretenimento                               115\n",
              "Turismo e geografia                          103\n",
              "Comes-e-bebes                                 96\n",
              "Educação                                      82\n",
              "Produtividade                                 60\n",
              "Construção, casa e lar                        59\n",
              "Adivinhação e fortuna                         53\n",
              "Engenharia e física                           50\n",
              "Finanças                                      49\n",
              "Ferramentas do celular                        45\n",
              "Animais e pets                                42\n",
              "Cidadania e questões sociais                  39\n",
              "Espiritualidade, filosofia e auto-ajuda       39\n",
              "Automóveis, veículos e transporte             36\n",
              "Design e pintura                              34\n",
              "Medicina e saúde                              29\n",
              "Revistas, notícias, livros ou dicionários     21\n",
              "Trabalho                                      19\n",
              "Meio ambiente                                 18\n",
              "Tempo e meteorologia                          17\n",
              "Botânica                                      14\n",
              "Beleza e moda                                 12\n",
              "Maternidade e paternidade                      9\n",
              "Fotografia                                     4\n",
              "Name: topico link, dtype: int64"
            ]
          },
          "metadata": {},
          "execution_count": 5
        }
      ]
    },
    {
      "cell_type": "markdown",
      "source": [
        "##Converter o nome das categorias em índice numérico"
      ],
      "metadata": {
        "id": "8hplw1FgRJf8"
      }
    },
    {
      "cell_type": "code",
      "source": [
        "# # Associe os nomes das categorias com o índice numérico e salve-o na nova coluna TopicoId\n",
        "target_category = dataset[col_topico].unique()\n",
        "print(target_category)"
      ],
      "metadata": {
        "colab": {
          "base_uri": "https://localhost:8080/"
        },
        "id": "X0oOqRAZRM6k",
        "outputId": "abd862e5-6d59-45b6-eb7d-2da765812bc0"
      },
      "execution_count": null,
      "outputs": [
        {
          "output_type": "stream",
          "name": "stdout",
          "text": [
            "['Educação' 'Meio ambiente' 'Vida saudável e esporte' 'Comunicação'\n",
            " 'Medicina e saúde' 'Turismo e geografia' 'Comes-e-bebes'\n",
            " 'Construção, casa e lar' 'Cidadania e questões sociais'\n",
            " 'Automóveis, veículos e transporte' 'Produtividade' 'Trabalho'\n",
            " 'Engenharia e física' 'Animais e pets' 'Botânica' 'Tempo e meteorologia'\n",
            " 'Finanças' 'Revistas, notícias, livros ou dicionários' 'Entretenimento'\n",
            " 'Ferramentas do celular' 'Maternidade e paternidade' 'Design e pintura'\n",
            " 'Adivinhação e fortuna' 'Matemática'\n",
            " 'Espiritualidade, filosofia e auto-ajuda' 'Beleza e moda' 'Fotografia']\n"
          ]
        }
      ]
    },
    {
      "cell_type": "code",
      "source": [
        "dataset[col_topico_ID] = dataset[col_topico].factorize()[0]\n",
        "dataset.head()"
      ],
      "metadata": {
        "colab": {
          "base_uri": "https://localhost:8080/",
          "height": 337
        },
        "id": "JWAqRzweRZD0",
        "outputId": "a8608880-0c1d-4f6d-ab08-b82137142d84"
      },
      "execution_count": null,
      "outputs": [
        {
          "output_type": "execute_result",
          "data": {
            "text/html": [
              "\n",
              "  <div id=\"df-04efe6a2-9e13-4f92-a67e-e4b3fc8b3a39\">\n",
              "    <div class=\"colab-df-container\">\n",
              "      <div>\n",
              "<style scoped>\n",
              "    .dataframe tbody tr th:only-of-type {\n",
              "        vertical-align: middle;\n",
              "    }\n",
              "\n",
              "    .dataframe tbody tr th {\n",
              "        vertical-align: top;\n",
              "    }\n",
              "\n",
              "    .dataframe thead th {\n",
              "        text-align: right;\n",
              "    }\n",
              "</style>\n",
              "<table border=\"1\" class=\"dataframe\">\n",
              "  <thead>\n",
              "    <tr style=\"text-align: right;\">\n",
              "      <th></th>\n",
              "      <th>ID</th>\n",
              "      <th>nome_arquivo_pc</th>\n",
              "      <th>nome_app</th>\n",
              "      <th>topico link</th>\n",
              "      <th>comentarios</th>\n",
              "      <th>todo_texto_app</th>\n",
              "      <th>texto_app_substantivos</th>\n",
              "      <th>topicoID</th>\n",
              "    </tr>\n",
              "  </thead>\n",
              "  <tbody>\n",
              "    <tr>\n",
              "      <th>0</th>\n",
              "      <td>1.0</td>\n",
              "      <td>InfoCarvalhal.aia</td>\n",
              "      <td>InfoCarvalhau</td>\n",
              "      <td>Educação</td>\n",
              "      <td>NaN</td>\n",
              "      <td>Screen2 CARREGANDO ALMIRANTE CARVALHAL Começ...</td>\n",
              "      <td>ano turno menu horários alunos professores nas...</td>\n",
              "      <td>0</td>\n",
              "    </tr>\n",
              "    <tr>\n",
              "      <th>1</th>\n",
              "      <td>2.0</td>\n",
              "      <td>quadroVerde.aia</td>\n",
              "      <td>quadroverde</td>\n",
              "      <td>Educação</td>\n",
              "      <td>NaN</td>\n",
              "      <td>None Screen1 CROP CROP None Viewer Galeria j...</td>\n",
              "      <td>galeria disciplina favor nome autor quadro ver...</td>\n",
              "      <td>0</td>\n",
              "    </tr>\n",
              "    <tr>\n",
              "      <th>2</th>\n",
              "      <td>3.0</td>\n",
              "      <td>ReciclaMais.aia</td>\n",
              "      <td>reciclamaisv2</td>\n",
              "      <td>Meio ambiente</td>\n",
              "      <td>NaN</td>\n",
              "      <td>Senha CPF não encontrado Senha Senha Cpf Scr...</td>\n",
              "      <td>senha login texto nome email cidade rua bairro...</td>\n",
              "      <td>1</td>\n",
              "    </tr>\n",
              "    <tr>\n",
              "      <th>3</th>\n",
              "      <td>4.0</td>\n",
              "      <td>ConexaoEsportiva.aia</td>\n",
              "      <td>ConexaoEsportiva</td>\n",
              "      <td>Vida saudável e esporte</td>\n",
              "      <td>NaN</td>\n",
              "      <td>Dashboard Dashboard Criar Prática Data _ _ /...</td>\n",
              "      <td>prática data endereço valor modalidade futebol...</td>\n",
              "      <td>2</td>\n",
              "    </tr>\n",
              "    <tr>\n",
              "      <th>4</th>\n",
              "      <td>5.0</td>\n",
              "      <td>AppNoelNovoDesign.aia</td>\n",
              "      <td>AppNoelNovoDesign</td>\n",
              "      <td>Comunicação</td>\n",
              "      <td>NaN</td>\n",
              "      <td>0 0 Screen4 Screen3 geo:0,0?q= , Local Local...</td>\n",
              "      <td>local localização mapa carta perfil foto galer...</td>\n",
              "      <td>3</td>\n",
              "    </tr>\n",
              "  </tbody>\n",
              "</table>\n",
              "</div>\n",
              "      <button class=\"colab-df-convert\" onclick=\"convertToInteractive('df-04efe6a2-9e13-4f92-a67e-e4b3fc8b3a39')\"\n",
              "              title=\"Convert this dataframe to an interactive table.\"\n",
              "              style=\"display:none;\">\n",
              "        \n",
              "  <svg xmlns=\"http://www.w3.org/2000/svg\" height=\"24px\"viewBox=\"0 0 24 24\"\n",
              "       width=\"24px\">\n",
              "    <path d=\"M0 0h24v24H0V0z\" fill=\"none\"/>\n",
              "    <path d=\"M18.56 5.44l.94 2.06.94-2.06 2.06-.94-2.06-.94-.94-2.06-.94 2.06-2.06.94zm-11 1L8.5 8.5l.94-2.06 2.06-.94-2.06-.94L8.5 2.5l-.94 2.06-2.06.94zm10 10l.94 2.06.94-2.06 2.06-.94-2.06-.94-.94-2.06-.94 2.06-2.06.94z\"/><path d=\"M17.41 7.96l-1.37-1.37c-.4-.4-.92-.59-1.43-.59-.52 0-1.04.2-1.43.59L10.3 9.45l-7.72 7.72c-.78.78-.78 2.05 0 2.83L4 21.41c.39.39.9.59 1.41.59.51 0 1.02-.2 1.41-.59l7.78-7.78 2.81-2.81c.8-.78.8-2.07 0-2.86zM5.41 20L4 18.59l7.72-7.72 1.47 1.35L5.41 20z\"/>\n",
              "  </svg>\n",
              "      </button>\n",
              "      \n",
              "  <style>\n",
              "    .colab-df-container {\n",
              "      display:flex;\n",
              "      flex-wrap:wrap;\n",
              "      gap: 12px;\n",
              "    }\n",
              "\n",
              "    .colab-df-convert {\n",
              "      background-color: #E8F0FE;\n",
              "      border: none;\n",
              "      border-radius: 50%;\n",
              "      cursor: pointer;\n",
              "      display: none;\n",
              "      fill: #1967D2;\n",
              "      height: 32px;\n",
              "      padding: 0 0 0 0;\n",
              "      width: 32px;\n",
              "    }\n",
              "\n",
              "    .colab-df-convert:hover {\n",
              "      background-color: #E2EBFA;\n",
              "      box-shadow: 0px 1px 2px rgba(60, 64, 67, 0.3), 0px 1px 3px 1px rgba(60, 64, 67, 0.15);\n",
              "      fill: #174EA6;\n",
              "    }\n",
              "\n",
              "    [theme=dark] .colab-df-convert {\n",
              "      background-color: #3B4455;\n",
              "      fill: #D2E3FC;\n",
              "    }\n",
              "\n",
              "    [theme=dark] .colab-df-convert:hover {\n",
              "      background-color: #434B5C;\n",
              "      box-shadow: 0px 1px 3px 1px rgba(0, 0, 0, 0.15);\n",
              "      filter: drop-shadow(0px 1px 2px rgba(0, 0, 0, 0.3));\n",
              "      fill: #FFFFFF;\n",
              "    }\n",
              "  </style>\n",
              "\n",
              "      <script>\n",
              "        const buttonEl =\n",
              "          document.querySelector('#df-04efe6a2-9e13-4f92-a67e-e4b3fc8b3a39 button.colab-df-convert');\n",
              "        buttonEl.style.display =\n",
              "          google.colab.kernel.accessAllowed ? 'block' : 'none';\n",
              "\n",
              "        async function convertToInteractive(key) {\n",
              "          const element = document.querySelector('#df-04efe6a2-9e13-4f92-a67e-e4b3fc8b3a39');\n",
              "          const dataTable =\n",
              "            await google.colab.kernel.invokeFunction('convertToInteractive',\n",
              "                                                     [key], {});\n",
              "          if (!dataTable) return;\n",
              "\n",
              "          const docLinkHtml = 'Like what you see? Visit the ' +\n",
              "            '<a target=\"_blank\" href=https://colab.research.google.com/notebooks/data_table.ipynb>data table notebook</a>'\n",
              "            + ' to learn more about interactive tables.';\n",
              "          element.innerHTML = '';\n",
              "          dataTable['output_type'] = 'display_data';\n",
              "          await google.colab.output.renderOutput(dataTable, element);\n",
              "          const docLink = document.createElement('div');\n",
              "          docLink.innerHTML = docLinkHtml;\n",
              "          element.appendChild(docLink);\n",
              "        }\n",
              "      </script>\n",
              "    </div>\n",
              "  </div>\n",
              "  "
            ],
            "text/plain": [
              "    ID        nome_arquivo_pc           nome_app              topico link  \\\n",
              "0  1.0      InfoCarvalhal.aia      InfoCarvalhau                 Educação   \n",
              "1  2.0        quadroVerde.aia        quadroverde                 Educação   \n",
              "2  3.0        ReciclaMais.aia      reciclamaisv2            Meio ambiente   \n",
              "3  4.0   ConexaoEsportiva.aia   ConexaoEsportiva  Vida saudável e esporte   \n",
              "4  5.0  AppNoelNovoDesign.aia  AppNoelNovoDesign              Comunicação   \n",
              "\n",
              "  comentarios                                     todo_texto_app  \\\n",
              "0         NaN    Screen2 CARREGANDO ALMIRANTE CARVALHAL Começ...   \n",
              "1         NaN    None Screen1 CROP CROP None Viewer Galeria j...   \n",
              "2         NaN    Senha CPF não encontrado Senha Senha Cpf Scr...   \n",
              "3         NaN    Dashboard Dashboard Criar Prática Data _ _ /...   \n",
              "4         NaN    0 0 Screen4 Screen3 geo:0,0?q= , Local Local...   \n",
              "\n",
              "                              texto_app_substantivos  topicoID  \n",
              "0  ano turno menu horários alunos professores nas...         0  \n",
              "1  galeria disciplina favor nome autor quadro ver...         0  \n",
              "2  senha login texto nome email cidade rua bairro...         1  \n",
              "3  prática data endereço valor modalidade futebol...         2  \n",
              "4  local localização mapa carta perfil foto galer...         3  "
            ]
          },
          "metadata": {},
          "execution_count": 7
        }
      ]
    },
    {
      "cell_type": "markdown",
      "source": [
        "Mostrar nome da categoria e o respectivo ID da categoria"
      ],
      "metadata": {
        "id": "27WhmvveRfPU"
      }
    },
    {
      "cell_type": "code",
      "source": [
        "# Crie um novo dataframe \"topico\", que tenha apenas categorias exclusivas,\n",
        "# também classificando essa lista em ordem de valores de topicoId\n",
        "topico = dataset[[col_topico, col_topico_ID]].drop_duplicates().sort_values(col_topico_ID)\n",
        "topico"
      ],
      "metadata": {
        "colab": {
          "base_uri": "https://localhost:8080/",
          "height": 896
        },
        "id": "5ladyuMbRlKE",
        "outputId": "a5f6a011-3455-4262-a425-f62302c8dff6"
      },
      "execution_count": null,
      "outputs": [
        {
          "output_type": "execute_result",
          "data": {
            "text/html": [
              "\n",
              "  <div id=\"df-9729699c-bc08-4438-a9a1-9ca78288735f\">\n",
              "    <div class=\"colab-df-container\">\n",
              "      <div>\n",
              "<style scoped>\n",
              "    .dataframe tbody tr th:only-of-type {\n",
              "        vertical-align: middle;\n",
              "    }\n",
              "\n",
              "    .dataframe tbody tr th {\n",
              "        vertical-align: top;\n",
              "    }\n",
              "\n",
              "    .dataframe thead th {\n",
              "        text-align: right;\n",
              "    }\n",
              "</style>\n",
              "<table border=\"1\" class=\"dataframe\">\n",
              "  <thead>\n",
              "    <tr style=\"text-align: right;\">\n",
              "      <th></th>\n",
              "      <th>topico link</th>\n",
              "      <th>topicoID</th>\n",
              "    </tr>\n",
              "  </thead>\n",
              "  <tbody>\n",
              "    <tr>\n",
              "      <th>0</th>\n",
              "      <td>Educação</td>\n",
              "      <td>0</td>\n",
              "    </tr>\n",
              "    <tr>\n",
              "      <th>2</th>\n",
              "      <td>Meio ambiente</td>\n",
              "      <td>1</td>\n",
              "    </tr>\n",
              "    <tr>\n",
              "      <th>3</th>\n",
              "      <td>Vida saudável e esporte</td>\n",
              "      <td>2</td>\n",
              "    </tr>\n",
              "    <tr>\n",
              "      <th>4</th>\n",
              "      <td>Comunicação</td>\n",
              "      <td>3</td>\n",
              "    </tr>\n",
              "    <tr>\n",
              "      <th>5</th>\n",
              "      <td>Medicina e saúde</td>\n",
              "      <td>4</td>\n",
              "    </tr>\n",
              "    <tr>\n",
              "      <th>6</th>\n",
              "      <td>Turismo e geografia</td>\n",
              "      <td>5</td>\n",
              "    </tr>\n",
              "    <tr>\n",
              "      <th>8</th>\n",
              "      <td>Comes-e-bebes</td>\n",
              "      <td>6</td>\n",
              "    </tr>\n",
              "    <tr>\n",
              "      <th>9</th>\n",
              "      <td>Construção, casa e lar</td>\n",
              "      <td>7</td>\n",
              "    </tr>\n",
              "    <tr>\n",
              "      <th>12</th>\n",
              "      <td>Cidadania e questões sociais</td>\n",
              "      <td>8</td>\n",
              "    </tr>\n",
              "    <tr>\n",
              "      <th>16</th>\n",
              "      <td>Automóveis, veículos e transporte</td>\n",
              "      <td>9</td>\n",
              "    </tr>\n",
              "    <tr>\n",
              "      <th>20</th>\n",
              "      <td>Produtividade</td>\n",
              "      <td>10</td>\n",
              "    </tr>\n",
              "    <tr>\n",
              "      <th>26</th>\n",
              "      <td>Trabalho</td>\n",
              "      <td>11</td>\n",
              "    </tr>\n",
              "    <tr>\n",
              "      <th>27</th>\n",
              "      <td>Engenharia e física</td>\n",
              "      <td>12</td>\n",
              "    </tr>\n",
              "    <tr>\n",
              "      <th>32</th>\n",
              "      <td>Animais e pets</td>\n",
              "      <td>13</td>\n",
              "    </tr>\n",
              "    <tr>\n",
              "      <th>35</th>\n",
              "      <td>Botânica</td>\n",
              "      <td>14</td>\n",
              "    </tr>\n",
              "    <tr>\n",
              "      <th>44</th>\n",
              "      <td>Tempo e meteorologia</td>\n",
              "      <td>15</td>\n",
              "    </tr>\n",
              "    <tr>\n",
              "      <th>46</th>\n",
              "      <td>Finanças</td>\n",
              "      <td>16</td>\n",
              "    </tr>\n",
              "    <tr>\n",
              "      <th>47</th>\n",
              "      <td>Revistas, notícias, livros ou dicionários</td>\n",
              "      <td>17</td>\n",
              "    </tr>\n",
              "    <tr>\n",
              "      <th>57</th>\n",
              "      <td>Entretenimento</td>\n",
              "      <td>18</td>\n",
              "    </tr>\n",
              "    <tr>\n",
              "      <th>69</th>\n",
              "      <td>Ferramentas do celular</td>\n",
              "      <td>19</td>\n",
              "    </tr>\n",
              "    <tr>\n",
              "      <th>74</th>\n",
              "      <td>Maternidade e paternidade</td>\n",
              "      <td>20</td>\n",
              "    </tr>\n",
              "    <tr>\n",
              "      <th>80</th>\n",
              "      <td>Design e pintura</td>\n",
              "      <td>21</td>\n",
              "    </tr>\n",
              "    <tr>\n",
              "      <th>81</th>\n",
              "      <td>Adivinhação e fortuna</td>\n",
              "      <td>22</td>\n",
              "    </tr>\n",
              "    <tr>\n",
              "      <th>102</th>\n",
              "      <td>Matemática</td>\n",
              "      <td>23</td>\n",
              "    </tr>\n",
              "    <tr>\n",
              "      <th>132</th>\n",
              "      <td>Espiritualidade, filosofia e auto-ajuda</td>\n",
              "      <td>24</td>\n",
              "    </tr>\n",
              "    <tr>\n",
              "      <th>134</th>\n",
              "      <td>Beleza e moda</td>\n",
              "      <td>25</td>\n",
              "    </tr>\n",
              "    <tr>\n",
              "      <th>1611</th>\n",
              "      <td>Fotografia</td>\n",
              "      <td>26</td>\n",
              "    </tr>\n",
              "  </tbody>\n",
              "</table>\n",
              "</div>\n",
              "      <button class=\"colab-df-convert\" onclick=\"convertToInteractive('df-9729699c-bc08-4438-a9a1-9ca78288735f')\"\n",
              "              title=\"Convert this dataframe to an interactive table.\"\n",
              "              style=\"display:none;\">\n",
              "        \n",
              "  <svg xmlns=\"http://www.w3.org/2000/svg\" height=\"24px\"viewBox=\"0 0 24 24\"\n",
              "       width=\"24px\">\n",
              "    <path d=\"M0 0h24v24H0V0z\" fill=\"none\"/>\n",
              "    <path d=\"M18.56 5.44l.94 2.06.94-2.06 2.06-.94-2.06-.94-.94-2.06-.94 2.06-2.06.94zm-11 1L8.5 8.5l.94-2.06 2.06-.94-2.06-.94L8.5 2.5l-.94 2.06-2.06.94zm10 10l.94 2.06.94-2.06 2.06-.94-2.06-.94-.94-2.06-.94 2.06-2.06.94z\"/><path d=\"M17.41 7.96l-1.37-1.37c-.4-.4-.92-.59-1.43-.59-.52 0-1.04.2-1.43.59L10.3 9.45l-7.72 7.72c-.78.78-.78 2.05 0 2.83L4 21.41c.39.39.9.59 1.41.59.51 0 1.02-.2 1.41-.59l7.78-7.78 2.81-2.81c.8-.78.8-2.07 0-2.86zM5.41 20L4 18.59l7.72-7.72 1.47 1.35L5.41 20z\"/>\n",
              "  </svg>\n",
              "      </button>\n",
              "      \n",
              "  <style>\n",
              "    .colab-df-container {\n",
              "      display:flex;\n",
              "      flex-wrap:wrap;\n",
              "      gap: 12px;\n",
              "    }\n",
              "\n",
              "    .colab-df-convert {\n",
              "      background-color: #E8F0FE;\n",
              "      border: none;\n",
              "      border-radius: 50%;\n",
              "      cursor: pointer;\n",
              "      display: none;\n",
              "      fill: #1967D2;\n",
              "      height: 32px;\n",
              "      padding: 0 0 0 0;\n",
              "      width: 32px;\n",
              "    }\n",
              "\n",
              "    .colab-df-convert:hover {\n",
              "      background-color: #E2EBFA;\n",
              "      box-shadow: 0px 1px 2px rgba(60, 64, 67, 0.3), 0px 1px 3px 1px rgba(60, 64, 67, 0.15);\n",
              "      fill: #174EA6;\n",
              "    }\n",
              "\n",
              "    [theme=dark] .colab-df-convert {\n",
              "      background-color: #3B4455;\n",
              "      fill: #D2E3FC;\n",
              "    }\n",
              "\n",
              "    [theme=dark] .colab-df-convert:hover {\n",
              "      background-color: #434B5C;\n",
              "      box-shadow: 0px 1px 3px 1px rgba(0, 0, 0, 0.15);\n",
              "      filter: drop-shadow(0px 1px 2px rgba(0, 0, 0, 0.3));\n",
              "      fill: #FFFFFF;\n",
              "    }\n",
              "  </style>\n",
              "\n",
              "      <script>\n",
              "        const buttonEl =\n",
              "          document.querySelector('#df-9729699c-bc08-4438-a9a1-9ca78288735f button.colab-df-convert');\n",
              "        buttonEl.style.display =\n",
              "          google.colab.kernel.accessAllowed ? 'block' : 'none';\n",
              "\n",
              "        async function convertToInteractive(key) {\n",
              "          const element = document.querySelector('#df-9729699c-bc08-4438-a9a1-9ca78288735f');\n",
              "          const dataTable =\n",
              "            await google.colab.kernel.invokeFunction('convertToInteractive',\n",
              "                                                     [key], {});\n",
              "          if (!dataTable) return;\n",
              "\n",
              "          const docLinkHtml = 'Like what you see? Visit the ' +\n",
              "            '<a target=\"_blank\" href=https://colab.research.google.com/notebooks/data_table.ipynb>data table notebook</a>'\n",
              "            + ' to learn more about interactive tables.';\n",
              "          element.innerHTML = '';\n",
              "          dataTable['output_type'] = 'display_data';\n",
              "          await google.colab.output.renderOutput(dataTable, element);\n",
              "          const docLink = document.createElement('div');\n",
              "          docLink.innerHTML = docLinkHtml;\n",
              "          element.appendChild(docLink);\n",
              "        }\n",
              "      </script>\n",
              "    </div>\n",
              "  </div>\n",
              "  "
            ],
            "text/plain": [
              "                                    topico link  topicoID\n",
              "0                                      Educação         0\n",
              "2                                 Meio ambiente         1\n",
              "3                       Vida saudável e esporte         2\n",
              "4                                   Comunicação         3\n",
              "5                              Medicina e saúde         4\n",
              "6                           Turismo e geografia         5\n",
              "8                                 Comes-e-bebes         6\n",
              "9                        Construção, casa e lar         7\n",
              "12                 Cidadania e questões sociais         8\n",
              "16            Automóveis, veículos e transporte         9\n",
              "20                                Produtividade        10\n",
              "26                                     Trabalho        11\n",
              "27                          Engenharia e física        12\n",
              "32                               Animais e pets        13\n",
              "35                                     Botânica        14\n",
              "44                         Tempo e meteorologia        15\n",
              "46                                     Finanças        16\n",
              "47    Revistas, notícias, livros ou dicionários        17\n",
              "57                               Entretenimento        18\n",
              "69                       Ferramentas do celular        19\n",
              "74                    Maternidade e paternidade        20\n",
              "80                             Design e pintura        21\n",
              "81                        Adivinhação e fortuna        22\n",
              "102                                  Matemática        23\n",
              "132     Espiritualidade, filosofia e auto-ajuda        24\n",
              "134                               Beleza e moda        25\n",
              "1611                                 Fotografia        26"
            ]
          },
          "metadata": {},
          "execution_count": 8
        }
      ]
    },
    {
      "cell_type": "markdown",
      "source": [
        "#Pré-processamento"
      ],
      "metadata": {
        "id": "CI1j8PFkVu-W"
      }
    },
    {
      "cell_type": "markdown",
      "source": [
        "##Remover caracteres especiais (números, _, /)"
      ],
      "metadata": {
        "id": "q6eQMY03CX6c"
      }
    },
    {
      "cell_type": "code",
      "source": [
        "def caracteres_especiais(textString):\n",
        "    try:\n",
        "        textString = textString.replace(\"_\", \" \") #remoção de underline\n",
        "        textString = re.sub(r'[0-9]', \" \", textString) #remoção de números\n",
        "        textString = textString.replace(\"/\", \" \") #remoção de barra\n",
        "        return textString\n",
        "    except:\n",
        "        print('=====Problema na remoção de caracteres especiais.=====')\n",
        "        print(textString)\n",
        "        print('=====')\n",
        "        return\n",
        "\n",
        "#Primeiro copiando o texto bruto para a coluna de processamento de texto\n",
        "dataset[col_texto_processado] = dataset[col_texto_bruto]\n",
        "\n",
        "dataset[col_texto_processado] = dataset[col_texto_processado].apply(caracteres_especiais)\n",
        "dataset[col_texto_processado][1]"
      ],
      "metadata": {
        "colab": {
          "base_uri": "https://localhost:8080/",
          "height": 91
        },
        "id": "BdbNG-c9CChk",
        "outputId": "a88fa47f-9278-4121-bcb5-1bbf5fe23ad7"
      },
      "execution_count": null,
      "outputs": [
        {
          "output_type": "execute_result",
          "data": {
            "application/vnd.google.colaboratory.intrinsic+json": {
              "type": "string"
            },
            "text/plain": [
              "'  None Screen  CROP CROP None Viewer Galeria jkbjhb Text for Label   ic info.png Sobre ic exit.png Sair ic folder.png ic x.png ic edit.png Galeria Adicionar disciplina None  Usabilidade ADICIONAR CANCELAR #       #D D D  Excluir disciplina EXCLUIR CANCELAR ic delete.png None Disciplina \" \" adicionada! Disciplina \" \" já cadastrada. Por favor, utilize outro nome. Disciplina já existente OK Sobre Autor: Diogo F N Machado QuadroVerde v .  OK Sair QuadroVerde Quadro Verde Versão  .  Diogo F. N. Machado     QuadroVerde     Recentes                   Disciplinas  Galeria Viewer x'"
            ]
          },
          "metadata": {},
          "execution_count": 9
        }
      ]
    },
    {
      "cell_type": "markdown",
      "source": [
        "##Conversão para letra minúscula"
      ],
      "metadata": {
        "id": "FrZoigxnDH_-"
      }
    },
    {
      "cell_type": "code",
      "source": [
        "def convert_lower(text):\n",
        "    try:\n",
        "        return text.lower()\n",
        "    except:\n",
        "        print('=====Problema na conversão.=====')\n",
        "        print(text)\n",
        "        print('=====')\n",
        "\n",
        "dataset[col_texto_processado] = dataset[col_texto_processado].apply(convert_lower)\n",
        "dataset[col_texto_processado][1]"
      ],
      "metadata": {
        "colab": {
          "base_uri": "https://localhost:8080/",
          "height": 91
        },
        "id": "s1OspjPuDPuD",
        "outputId": "f467ad39-4adb-4dce-e844-42729ae58073"
      },
      "execution_count": null,
      "outputs": [
        {
          "output_type": "execute_result",
          "data": {
            "application/vnd.google.colaboratory.intrinsic+json": {
              "type": "string"
            },
            "text/plain": [
              "'  none screen  crop crop none viewer galeria jkbjhb text for label   ic info.png sobre ic exit.png sair ic folder.png ic x.png ic edit.png galeria adicionar disciplina none  usabilidade adicionar cancelar #       #d d d  excluir disciplina excluir cancelar ic delete.png none disciplina \" \" adicionada! disciplina \" \" já cadastrada. por favor, utilize outro nome. disciplina já existente ok sobre autor: diogo f n machado quadroverde v .  ok sair quadroverde quadro verde versão  .  diogo f. n. machado     quadroverde     recentes                   disciplinas  galeria viewer x'"
            ]
          },
          "metadata": {},
          "execution_count": 10
        }
      ]
    },
    {
      "cell_type": "markdown",
      "source": [
        "##Remover todas as Stopwords\n",
        "Removido:\n",
        "- Tudo que não é substantivo\n",
        "```\n",
        " https://docs.google.com/spreadsheets/d/1Mb4samGnzGKgjsIvw-SYH3N657D3WX8y/edit?rtpof=true#gid=1208239951\n",
        "```\n",
        "- Tudo que é stopword de aplicativo\n",
        "- Tudo que não tenha tamanho >= 2"
      ],
      "metadata": {
        "id": "4N7ilCKDDvnF"
      }
    },
    {
      "cell_type": "code",
      "source": [
        "#link: https://docs.google.com/spreadsheets/d/1Mb4samGnzGKgjsIvw-SYH3N657D3WX8y/edit?rtpof=true#gid=1208239951\n",
        "df_stop_words = pd.read_excel(\"/content/universo_substantivos_portugues+palavroes+antieticos.xlsx\")\n",
        "\n",
        "def remove_stopwords(text):\n",
        "    try:\n",
        "        stop_words = set(df_stop_words['substantivo'])\n",
        "        words = word_tokenize(text)\n",
        "        texto_processado = ' '.join([x for x in words if x in stop_words])\n",
        "        if texto_processado:\n",
        "            return texto_processado\n",
        "        else:\n",
        "            return None\n",
        "    except:\n",
        "        print('=====Problema na remoção.=====')\n",
        "        print(text)\n",
        "        print('=====')\n",
        "\n",
        "dataset[col_texto_processado] = dataset[col_texto_processado].apply(remove_stopwords)\n",
        "dataset[col_texto_processado][1]"
      ],
      "metadata": {
        "colab": {
          "base_uri": "https://localhost:8080/",
          "height": 36
        },
        "id": "6CKa-IwZDuws",
        "outputId": "663d740b-d52e-4002-8239-3ead1de950fe"
      },
      "execution_count": null,
      "outputs": [
        {
          "output_type": "execute_result",
          "data": {
            "application/vnd.google.colaboratory.intrinsic+json": {
              "type": "string"
            },
            "text/plain": [
              "'galeria galeria disciplina disciplina disciplina disciplina disciplina existente autor quadro disciplinas galeria'"
            ]
          },
          "metadata": {},
          "execution_count": 13
        }
      ]
    },
    {
      "cell_type": "markdown",
      "source": [
        "##Retirando se tiver algum app sem texto após pré-processamento"
      ],
      "metadata": {
        "id": "ch44DqN9F173"
      }
    },
    {
      "cell_type": "code",
      "source": [
        "#Verificando se há NAs\n",
        "dataset.isna().sum()"
      ],
      "metadata": {
        "colab": {
          "base_uri": "https://localhost:8080/"
        },
        "id": "lHfq5060HZSQ",
        "outputId": "53d6b473-d8fa-481c-bb70-aee7def7b7c6"
      },
      "execution_count": null,
      "outputs": [
        {
          "output_type": "execute_result",
          "data": {
            "text/plain": [
              "ID                           0\n",
              "nome_arquivo_pc              0\n",
              "nome_app                     0\n",
              "topico link                  0\n",
              "comentarios               1505\n",
              "todo_texto_app               0\n",
              "texto_app_substantivos     117\n",
              "topicoID                     0\n",
              "texto_processado             0\n",
              "dtype: int64"
            ]
          },
          "metadata": {},
          "execution_count": 11
        }
      ]
    },
    {
      "cell_type": "code",
      "source": [
        "dataset.dropna(subset=[col_texto_processado], inplace=True)"
      ],
      "metadata": {
        "id": "QvW7pQavFyqm"
      },
      "execution_count": null,
      "outputs": []
    },
    {
      "cell_type": "markdown",
      "source": [
        "#Análise Exploratória de Dados"
      ],
      "metadata": {
        "id": "eQCSr1upR_fd"
      }
    },
    {
      "cell_type": "code",
      "source": [
        "dataset.groupby(col_topico).topicoID.value_counts().plot(kind = \"bar\")\n",
        "plt.xlabel(\"Tópicos dos dados\")\n",
        "plt.title(\"Visualize números de tópicos de dados\")\n",
        "plt.show()"
      ],
      "metadata": {
        "colab": {
          "base_uri": "https://localhost:8080/",
          "height": 505
        },
        "id": "3SuyPZe5SEbU",
        "outputId": "4c316be0-192c-4e7a-fa81-4b4b39911c8d"
      },
      "execution_count": null,
      "outputs": [
        {
          "output_type": "display_data",
          "data": {
            "image/png": "[encoded data removed]",
            "text/plain": [
              "<Figure size 432x288 with 1 Axes>"
            ]
          },
          "metadata": {
            "needs_background": "light"
          }
        }
      ]
    },
    {
      "cell_type": "markdown",
      "source": [
        "##Visualizando palavras relacionadas aos tópicos"
      ],
      "metadata": {
        "id": "ZjM6aoV2SuZM"
      }
    },
    {
      "cell_type": "code",
      "source": [
        "#Via WordCloud\n",
        "from wordcloud import WordCloud\n",
        "\n",
        "stop = set(stopwords.words('portuguese'))\n",
        "\n",
        "def remove_duplicated_words(text):\n",
        "    return ' '.join(set(word_tokenize(text)))\n",
        "\n",
        "def wordcloud_draw(dataset, color = 'white'):\n",
        "    dataset_ = pd.DataFrame(dataset.copy())\n",
        "    dataset_[col_texto_processado] = dataset_[col_texto_processado].apply(remove_duplicated_words)\n",
        "    dataset_ = dataset_[col_texto_processado]\n",
        "    try:\n",
        "        words = ' '.join(dataset_)\n",
        "        cleaned_word = ' '.join([word for word in words.split()])\n",
        "        wordcloud = WordCloud(stopwords = stop, background_color = color,\n",
        "                            width = 2500, height = 2500).generate(cleaned_word)\n",
        "        plt.figure(1, figsize = (10,7))\n",
        "        plt.imshow(wordcloud)\n",
        "        plt.axis(\"off\")\n",
        "        plt.show()\n",
        "    except Exception as e:\n",
        "        print('=====Problema na criação do wordcloud.=====')\n",
        "        print(e)\n",
        "    \n",
        "id_topico_escolhido = 0\n",
        "dataset_topico_escolhido = dataset[dataset[col_topico_ID] == id_topico_escolhido]\n",
        "dataset_topico_escolhido = dataset_topico_escolhido[col_texto_processado]\n",
        "wordcloud_draw(dataset_topico_escolhido)"
      ],
      "metadata": {
        "colab": {
          "base_uri": "https://localhost:8080/",
          "height": 411
        },
        "id": "5nxhK03XStj8",
        "outputId": "bb6dc66a-54d0-4a36-ed0e-a7082e12b96e"
      },
      "execution_count": null,
      "outputs": [
        {
          "output_type": "display_data",
          "data": {
            "image/png": "[encoded data removed]",
            "text/plain": [
              "<Figure size 720x504 with 1 Axes>"
            ]
          },
          "metadata": {
            "needs_background": "light"
          }
        }
      ]
    },
    {
      "cell_type": "code",
      "source": [
        "#Via frequências\n",
        "\n",
        "#opção para mostrar todas as linhas e não truncar\n",
        "pd.set_option('display.max_rows', 10000)\n",
        "\n",
        "def most_frequent_word_topic(dataset, topico):\n",
        "    df_freq = dataset.copy()\n",
        "    df_freq[col_texto_processado] = df_freq[col_texto_processado].apply(remove_duplicated_words)\n",
        "    df_freq[col_texto_processado] = df_freq[col_texto_processado].apply(word_tokenize)\n",
        "    df_freq = pd.DataFrame(df_freq.assign(content=df_freq[col_texto_processado].str.split()).explode(col_texto_processado).groupby(col_topico,sort=False)[col_texto_processado].value_counts())\n",
        "    df_freq_escolhido = df_freq.loc[(topico)].nlargest(10, col_texto_processado)\n",
        "    return df_freq_escolhido\n",
        "    \n",
        "most_frequent_word_topic(dataset, \"Educação\")"
      ],
      "metadata": {
        "colab": {
          "base_uri": "https://localhost:8080/",
          "height": 394
        },
        "id": "ekiZcsf8ZQtM",
        "outputId": "3575e2ab-01a0-4db9-bcd5-cc2e1587a428"
      },
      "execution_count": null,
      "outputs": [
        {
          "output_type": "execute_result",
          "data": {
            "text/html": [
              "\n",
              "  <div id=\"df-e8655e87-6b79-4be2-b406-0339e8e24c36\">\n",
              "    <div class=\"colab-df-container\">\n",
              "      <div>\n",
              "<style scoped>\n",
              "    .dataframe tbody tr th:only-of-type {\n",
              "        vertical-align: middle;\n",
              "    }\n",
              "\n",
              "    .dataframe tbody tr th {\n",
              "        vertical-align: top;\n",
              "    }\n",
              "\n",
              "    .dataframe thead th {\n",
              "        text-align: right;\n",
              "    }\n",
              "</style>\n",
              "<table border=\"1\" class=\"dataframe\">\n",
              "  <thead>\n",
              "    <tr style=\"text-align: right;\">\n",
              "      <th></th>\n",
              "      <th>texto_processado</th>\n",
              "    </tr>\n",
              "    <tr>\n",
              "      <th>texto_processado</th>\n",
              "      <th></th>\n",
              "    </tr>\n",
              "  </thead>\n",
              "  <tbody>\n",
              "    <tr>\n",
              "      <th>screen</th>\n",
              "      <td>52</td>\n",
              "    </tr>\n",
              "    <tr>\n",
              "      <th>:</th>\n",
              "      <td>42</td>\n",
              "    </tr>\n",
              "    <tr>\n",
              "      <th>a</th>\n",
              "      <td>41</td>\n",
              "    </tr>\n",
              "    <tr>\n",
              "      <th>de</th>\n",
              "      <td>40</td>\n",
              "    </tr>\n",
              "    <tr>\n",
              "      <th>none</th>\n",
              "      <td>39</td>\n",
              "    </tr>\n",
              "    <tr>\n",
              "      <th>para</th>\n",
              "      <td>38</td>\n",
              "    </tr>\n",
              "    <tr>\n",
              "      <th>do</th>\n",
              "      <td>30</td>\n",
              "    </tr>\n",
              "    <tr>\n",
              "      <th>.</th>\n",
              "      <td>29</td>\n",
              "    </tr>\n",
              "    <tr>\n",
              "      <th>,</th>\n",
              "      <td>28</td>\n",
              "    </tr>\n",
              "    <tr>\n",
              "      <th>o</th>\n",
              "      <td>28</td>\n",
              "    </tr>\n",
              "  </tbody>\n",
              "</table>\n",
              "</div>\n",
              "      <button class=\"colab-df-convert\" onclick=\"convertToInteractive('df-e8655e87-6b79-4be2-b406-0339e8e24c36')\"\n",
              "              title=\"Convert this dataframe to an interactive table.\"\n",
              "              style=\"display:none;\">\n",
              "        \n",
              "  <svg xmlns=\"http://www.w3.org/2000/svg\" height=\"24px\"viewBox=\"0 0 24 24\"\n",
              "       width=\"24px\">\n",
              "    <path d=\"M0 0h24v24H0V0z\" fill=\"none\"/>\n",
              "    <path d=\"M18.56 5.44l.94 2.06.94-2.06 2.06-.94-2.06-.94-.94-2.06-.94 2.06-2.06.94zm-11 1L8.5 8.5l.94-2.06 2.06-.94-2.06-.94L8.5 2.5l-.94 2.06-2.06.94zm10 10l.94 2.06.94-2.06 2.06-.94-2.06-.94-.94-2.06-.94 2.06-2.06.94z\"/><path d=\"M17.41 7.96l-1.37-1.37c-.4-.4-.92-.59-1.43-.59-.52 0-1.04.2-1.43.59L10.3 9.45l-7.72 7.72c-.78.78-.78 2.05 0 2.83L4 21.41c.39.39.9.59 1.41.59.51 0 1.02-.2 1.41-.59l7.78-7.78 2.81-2.81c.8-.78.8-2.07 0-2.86zM5.41 20L4 18.59l7.72-7.72 1.47 1.35L5.41 20z\"/>\n",
              "  </svg>\n",
              "      </button>\n",
              "      \n",
              "  <style>\n",
              "    .colab-df-container {\n",
              "      display:flex;\n",
              "      flex-wrap:wrap;\n",
              "      gap: 12px;\n",
              "    }\n",
              "\n",
              "    .colab-df-convert {\n",
              "      background-color: #E8F0FE;\n",
              "      border: none;\n",
              "      border-radius: 50%;\n",
              "      cursor: pointer;\n",
              "      display: none;\n",
              "      fill: #1967D2;\n",
              "      height: 32px;\n",
              "      padding: 0 0 0 0;\n",
              "      width: 32px;\n",
              "    }\n",
              "\n",
              "    .colab-df-convert:hover {\n",
              "      background-color: #E2EBFA;\n",
              "      box-shadow: 0px 1px 2px rgba(60, 64, 67, 0.3), 0px 1px 3px 1px rgba(60, 64, 67, 0.15);\n",
              "      fill: #174EA6;\n",
              "    }\n",
              "\n",
              "    [theme=dark] .colab-df-convert {\n",
              "      background-color: #3B4455;\n",
              "      fill: #D2E3FC;\n",
              "    }\n",
              "\n",
              "    [theme=dark] .colab-df-convert:hover {\n",
              "      background-color: #434B5C;\n",
              "      box-shadow: 0px 1px 3px 1px rgba(0, 0, 0, 0.15);\n",
              "      filter: drop-shadow(0px 1px 2px rgba(0, 0, 0, 0.3));\n",
              "      fill: #FFFFFF;\n",
              "    }\n",
              "  </style>\n",
              "\n",
              "      <script>\n",
              "        const buttonEl =\n",
              "          document.querySelector('#df-e8655e87-6b79-4be2-b406-0339e8e24c36 button.colab-df-convert');\n",
              "        buttonEl.style.display =\n",
              "          google.colab.kernel.accessAllowed ? 'block' : 'none';\n",
              "\n",
              "        async function convertToInteractive(key) {\n",
              "          const element = document.querySelector('#df-e8655e87-6b79-4be2-b406-0339e8e24c36');\n",
              "          const dataTable =\n",
              "            await google.colab.kernel.invokeFunction('convertToInteractive',\n",
              "                                                     [key], {});\n",
              "          if (!dataTable) return;\n",
              "\n",
              "          const docLinkHtml = 'Like what you see? Visit the ' +\n",
              "            '<a target=\"_blank\" href=https://colab.research.google.com/notebooks/data_table.ipynb>data table notebook</a>'\n",
              "            + ' to learn more about interactive tables.';\n",
              "          element.innerHTML = '';\n",
              "          dataTable['output_type'] = 'display_data';\n",
              "          await google.colab.output.renderOutput(dataTable, element);\n",
              "          const docLink = document.createElement('div');\n",
              "          docLink.innerHTML = docLinkHtml;\n",
              "          element.appendChild(docLink);\n",
              "        }\n",
              "      </script>\n",
              "    </div>\n",
              "  </div>\n",
              "  "
            ],
            "text/plain": [
              "                  texto_processado\n",
              "texto_processado                  \n",
              "screen                          52\n",
              ":                               42\n",
              "a                               41\n",
              "de                              40\n",
              "none                            39\n",
              "para                            38\n",
              "do                              30\n",
              ".                               29\n",
              ",                               28\n",
              "o                               28"
            ]
          },
          "metadata": {},
          "execution_count": 14
        }
      ]
    },
    {
      "cell_type": "code",
      "source": [
        "#https://medium.com/mlearning-ai/disastrous-tweets-classification-using-bert-ceb8e7be6c36"
      ],
      "metadata": {
        "id": "8Q6nzt4wMp45"
      },
      "execution_count": null,
      "outputs": []
    },
    {
      "cell_type": "markdown",
      "source": [
        "#Declaração da variável dependente e independente"
      ],
      "metadata": {
        "id": "Ge9D-jfjV3GG"
      }
    },
    {
      "cell_type": "code",
      "source": [
        "x = dataset[col_texto_processado]\n",
        "y = dataset[col_topico_ID]"
      ],
      "metadata": {
        "id": "Hs7uzaDhV62A"
      },
      "execution_count": null,
      "outputs": []
    },
    {
      "cell_type": "markdown",
      "source": [
        "##Criar e ajustar o modelo de saco de palavras"
      ],
      "metadata": {
        "id": "CT3Y17vNWHcf"
      }
    },
    {
      "cell_type": "code",
      "source": [
        "from sklearn.feature_extraction.text import CountVectorizer\n",
        "y = np.array(dataset.topicoID.values)\n",
        "cv = CountVectorizer(max_features = 5000)\n",
        "x = cv.fit_transform(dataset.texto_processado).toarray()\n",
        "print(\"X.shape = \",x.shape)\n",
        "print(\"y.shape = \",y.shape)"
      ],
      "metadata": {
        "colab": {
          "base_uri": "https://localhost:8080/"
        },
        "id": "h__x08zZWIQ-",
        "outputId": "b1ddfcf6-cbc2-4798-b524-e0efd036937c"
      },
      "execution_count": null,
      "outputs": [
        {
          "output_type": "stream",
          "name": "stdout",
          "text": [
            "X.shape =  (1607, 5000)\n",
            "y.shape =  (1607,)\n"
          ]
        }
      ]
    },
    {
      "cell_type": "code",
      "source": [
        "y"
      ],
      "metadata": {
        "colab": {
          "base_uri": "https://localhost:8080/"
        },
        "id": "sBawNg4_AUBN",
        "outputId": "0e570225-4024-4c58-edb9-65718239a1bf"
      },
      "execution_count": null,
      "outputs": [
        {
          "output_type": "execute_result",
          "data": {
            "text/plain": [
              "array([ 0,  0,  1, ...,  8,  6, 13])"
            ]
          },
          "metadata": {},
          "execution_count": 14
        }
      ]
    },
    {
      "cell_type": "markdown",
      "source": [
        "#Conjunto de treino"
      ],
      "metadata": {
        "id": "UxnJ1o_BVbLv"
      }
    },
    {
      "cell_type": "code",
      "source": [
        "from sklearn.model_selection import train_test_split\n",
        "x_train, x_test, y_train, y_test = train_test_split(x, y, test_size = 0.3, random_state = 0, shuffle = True)\n",
        "print(len(x_train))\n",
        "print(len(x_test))"
      ],
      "metadata": {
        "colab": {
          "base_uri": "https://localhost:8080/"
        },
        "id": "xlZf2WCRVeKH",
        "outputId": "eefa5a85-87d2-4141-fbd0-e3fdcc2b64e9"
      },
      "execution_count": null,
      "outputs": [
        {
          "output_type": "stream",
          "name": "stdout",
          "text": [
            "1124\n",
            "483\n"
          ]
        }
      ]
    },
    {
      "cell_type": "markdown",
      "source": [
        "#Criar lista vazia"
      ],
      "metadata": {
        "id": "YggQglkKW4Ba"
      }
    },
    {
      "cell_type": "code",
      "source": [
        "#create list of model and accuracy dicts\n",
        "perform_list = [ ]"
      ],
      "metadata": {
        "id": "llLXUvfpW5kk"
      },
      "execution_count": null,
      "outputs": []
    },
    {
      "cell_type": "markdown",
      "source": [
        "#Crie, ajuste e preveja todos os modelos de ML"
      ],
      "metadata": {
        "id": "Ea4qmm1qW_Hf"
      }
    },
    {
      "cell_type": "code",
      "source": [
        "def run_model(model_name, est_c, est_pnlty):\n",
        "    mdl=''\n",
        "    if model_name == 'Logistic Regression':\n",
        "        mdl = LogisticRegression()\n",
        "    elif model_name == 'Random Forest':\n",
        "        mdl = RandomForestClassifier(n_estimators=100 ,criterion='entropy' , random_state=0)\n",
        "    elif model_name == 'Multinomial Naive Bayes':\n",
        "        mdl = MultinomialNB(alpha=1.0,fit_prior=True)\n",
        "    elif model_name == 'Support Vector Classifer':\n",
        "        mdl = SVC()\n",
        "    elif model_name == 'Decision Tree Classifier':\n",
        "        mdl = DecisionTreeClassifier()\n",
        "    elif model_name == 'K Nearest Neighbour':\n",
        "        mdl = KNeighborsClassifier(n_neighbors=10 , metric= 'minkowski' , p = 4)\n",
        "    elif model_name == 'Gaussian Naive Bayes':\n",
        "        mdl = GaussianNB()\n",
        "   \n",
        "    oneVsRest = OneVsRestClassifier(mdl)\n",
        "    oneVsRest.fit(x_train, y_train)\n",
        "    y_pred = oneVsRest.predict(x_test)\n",
        "    \n",
        "    # Performance metrics\n",
        "    accuracy = round(accuracy_score(y_test, y_pred) * 100, 2)\n",
        "    # Get precision, recall, f1 scores\n",
        "    precision, recall, f1score, support = score(y_test, y_pred, average='micro')\n",
        "    print(f'Test Accuracy Score of Basic {model_name}: % {accuracy}')\n",
        "    print(f'Precision : {precision}')\n",
        "    print(f'Recall : {recall}')\n",
        "    print(f'F1-score : {f1score}')\n",
        "    # Add performance parameters to list\n",
        "    perform_list.append(dict([\n",
        "                              ('Model', model_name),\n",
        "                              ('Test Accuracy', round(accuracy, 2)),\n",
        "                              ('Precision', round(precision, 2)),\n",
        "                              ('Recall', round(recall, 2)),\n",
        "                              ('F1', round(f1score, 2))\n",
        "                              ]))"
      ],
      "metadata": {
        "id": "PYwMQ7MdW812"
      },
      "execution_count": null,
      "outputs": []
    },
    {
      "cell_type": "markdown",
      "source": [
        "##Regressão logística"
      ],
      "metadata": {
        "id": "QhTYCe2WXT0-"
      }
    },
    {
      "cell_type": "code",
      "source": [
        "run_model('Logistic Regression', est_c=None, est_pnlty=None)"
      ],
      "metadata": {
        "colab": {
          "base_uri": "https://localhost:8080/"
        },
        "id": "R1O7tjBWXU_E",
        "outputId": "a1277780-7ff7-4110-8a30-724346790a06"
      },
      "execution_count": null,
      "outputs": [
        {
          "output_type": "stream",
          "name": "stdout",
          "text": [
            "Test Accuracy Score of Basic Logistic Regression: % 66.25\n",
            "Precision : 0.6625258799171843\n",
            "Recall : 0.6625258799171843\n",
            "F1-score : 0.6625258799171843\n"
          ]
        }
      ]
    },
    {
      "cell_type": "markdown",
      "source": [
        "##Random Forest"
      ],
      "metadata": {
        "id": "hbdX-FtAXl3H"
      }
    },
    {
      "cell_type": "code",
      "source": [
        "run_model('Random Forest', est_c=None, est_pnlty=None)"
      ],
      "metadata": {
        "colab": {
          "base_uri": "https://localhost:8080/"
        },
        "id": "SZhLqlZiXjk2",
        "outputId": "e2df2449-42ea-4820-b853-1f6b235c78af"
      },
      "execution_count": null,
      "outputs": [
        {
          "output_type": "stream",
          "name": "stdout",
          "text": [
            "Test Accuracy Score of Basic Random Forest: % 66.25\n",
            "Precision : 0.6625258799171843\n",
            "Recall : 0.6625258799171843\n",
            "F1-score : 0.6625258799171843\n"
          ]
        }
      ]
    },
    {
      "cell_type": "markdown",
      "source": [
        "##Multinomial Naive Bayes"
      ],
      "metadata": {
        "id": "u4qkyNw3XqLW"
      }
    },
    {
      "cell_type": "code",
      "source": [
        "run_model('Multinomial Naive Bayes', est_c=None, est_pnlty=None)"
      ],
      "metadata": {
        "colab": {
          "base_uri": "https://localhost:8080/"
        },
        "id": "s_oLyBhvXrj3",
        "outputId": "88fe7d42-06a6-487f-da4b-b8dc9d1ad2cd"
      },
      "execution_count": null,
      "outputs": [
        {
          "output_type": "stream",
          "name": "stdout",
          "text": [
            "Test Accuracy Score of Basic Multinomial Naive Bayes: % 67.7\n",
            "Precision : 0.6770186335403726\n",
            "Recall : 0.6770186335403726\n",
            "F1-score : 0.6770186335403726\n"
          ]
        }
      ]
    },
    {
      "cell_type": "markdown",
      "source": [
        "##Support Vector Machine"
      ],
      "metadata": {
        "id": "dfQJ-RUyXt_X"
      }
    },
    {
      "cell_type": "code",
      "source": [
        "run_model('Support Vector Classifer', est_c=None, est_pnlty=None)"
      ],
      "metadata": {
        "colab": {
          "base_uri": "https://localhost:8080/"
        },
        "id": "Akg7KD8bXvqn",
        "outputId": "572425f5-6e0c-4bd9-9500-3417cebe6c7c"
      },
      "execution_count": null,
      "outputs": [
        {
          "output_type": "stream",
          "name": "stdout",
          "text": [
            "Test Accuracy Score of Basic Support Vector Classifer: % 64.39\n",
            "Precision : 0.6438923395445134\n",
            "Recall : 0.6438923395445134\n",
            "F1-score : 0.6438923395445134\n"
          ]
        }
      ]
    },
    {
      "cell_type": "markdown",
      "source": [
        "##Decision Tree"
      ],
      "metadata": {
        "id": "l5tmE3LwXxan"
      }
    },
    {
      "cell_type": "code",
      "source": [
        "run_model('Decision Tree Classifier', est_c=None, est_pnlty=None)"
      ],
      "metadata": {
        "colab": {
          "base_uri": "https://localhost:8080/"
        },
        "id": "zNWNfl8FXy0H",
        "outputId": "abbf8346-9d0b-4203-ddb3-72a1e3b056f8"
      },
      "execution_count": null,
      "outputs": [
        {
          "output_type": "stream",
          "name": "stdout",
          "text": [
            "Test Accuracy Score of Basic Decision Tree Classifier: % 55.07\n",
            "Precision : 0.5507246376811594\n",
            "Recall : 0.5507246376811594\n",
            "F1-score : 0.5507246376811594\n"
          ]
        }
      ]
    },
    {
      "cell_type": "markdown",
      "source": [
        "##KNN"
      ],
      "metadata": {
        "id": "cdI4f8aUX01f"
      }
    },
    {
      "cell_type": "code",
      "source": [
        "run_model('K Nearest Neighbour', est_c=None, est_pnlty=None)"
      ],
      "metadata": {
        "colab": {
          "base_uri": "https://localhost:8080/"
        },
        "id": "wPqRkHp2X1aP",
        "outputId": "32ae5325-8568-4114-e9ad-b9f14ededa4e"
      },
      "execution_count": null,
      "outputs": [
        {
          "output_type": "stream",
          "name": "stdout",
          "text": [
            "Test Accuracy Score of Basic K Nearest Neighbour: % 44.1\n",
            "Precision : 0.4409937888198758\n",
            "Recall : 0.4409937888198758\n",
            "F1-score : 0.4409937888198758\n"
          ]
        }
      ]
    },
    {
      "cell_type": "markdown",
      "source": [
        "##Gaussian Naive Bayes"
      ],
      "metadata": {
        "id": "4bZHOFaFX3uv"
      }
    },
    {
      "cell_type": "code",
      "source": [
        "run_model('Gaussian Naive Bayes', est_c=None, est_pnlty=None)"
      ],
      "metadata": {
        "colab": {
          "base_uri": "https://localhost:8080/"
        },
        "id": "l9yGR2YvX4Yn",
        "outputId": "8b9a153f-80ca-4079-a620-a9ebac9d07bd"
      },
      "execution_count": null,
      "outputs": [
        {
          "output_type": "stream",
          "name": "stdout",
          "text": [
            "Test Accuracy Score of Basic Gaussian Naive Bayes: % 44.1\n",
            "Precision : 0.4409937888198758\n",
            "Recall : 0.4409937888198758\n",
            "F1-score : 0.4409937888198758\n"
          ]
        }
      ]
    },
    {
      "cell_type": "markdown",
      "source": [
        "#Criação do Dataframe de Modelos, Acurácia, Precisão, Recall e F1\n"
      ],
      "metadata": {
        "id": "kgBcInWaX7OA"
      }
    },
    {
      "cell_type": "code",
      "source": [
        "model_performance = pd.DataFrame(data=perform_list)\n",
        "model_performance = model_performance[['Model', 'Test Accuracy', 'Precision', 'Recall', 'F1']]\n",
        "model_performance"
      ],
      "metadata": {
        "colab": {
          "base_uri": "https://localhost:8080/",
          "height": 268
        },
        "id": "tlS6PJ2AX9M_",
        "outputId": "10ada2e0-fd9a-4bff-f3d2-364f120a6453"
      },
      "execution_count": null,
      "outputs": [
        {
          "output_type": "execute_result",
          "data": {
            "text/html": [
              "\n",
              "  <div id=\"df-0f554b34-d488-425d-8b70-50866aee2570\">\n",
              "    <div class=\"colab-df-container\">\n",
              "      <div>\n",
              "<style scoped>\n",
              "    .dataframe tbody tr th:only-of-type {\n",
              "        vertical-align: middle;\n",
              "    }\n",
              "\n",
              "    .dataframe tbody tr th {\n",
              "        vertical-align: top;\n",
              "    }\n",
              "\n",
              "    .dataframe thead th {\n",
              "        text-align: right;\n",
              "    }\n",
              "</style>\n",
              "<table border=\"1\" class=\"dataframe\">\n",
              "  <thead>\n",
              "    <tr style=\"text-align: right;\">\n",
              "      <th></th>\n",
              "      <th>Model</th>\n",
              "      <th>Test Accuracy</th>\n",
              "      <th>Precision</th>\n",
              "      <th>Recall</th>\n",
              "      <th>F1</th>\n",
              "    </tr>\n",
              "  </thead>\n",
              "  <tbody>\n",
              "    <tr>\n",
              "      <th>0</th>\n",
              "      <td>Logistic Regression</td>\n",
              "      <td>66.25</td>\n",
              "      <td>0.66</td>\n",
              "      <td>0.66</td>\n",
              "      <td>0.66</td>\n",
              "    </tr>\n",
              "    <tr>\n",
              "      <th>1</th>\n",
              "      <td>Random Forest</td>\n",
              "      <td>66.25</td>\n",
              "      <td>0.66</td>\n",
              "      <td>0.66</td>\n",
              "      <td>0.66</td>\n",
              "    </tr>\n",
              "    <tr>\n",
              "      <th>2</th>\n",
              "      <td>Multinomial Naive Bayes</td>\n",
              "      <td>67.70</td>\n",
              "      <td>0.68</td>\n",
              "      <td>0.68</td>\n",
              "      <td>0.68</td>\n",
              "    </tr>\n",
              "    <tr>\n",
              "      <th>3</th>\n",
              "      <td>Support Vector Classifer</td>\n",
              "      <td>64.39</td>\n",
              "      <td>0.64</td>\n",
              "      <td>0.64</td>\n",
              "      <td>0.64</td>\n",
              "    </tr>\n",
              "    <tr>\n",
              "      <th>4</th>\n",
              "      <td>Decision Tree Classifier</td>\n",
              "      <td>55.07</td>\n",
              "      <td>0.55</td>\n",
              "      <td>0.55</td>\n",
              "      <td>0.55</td>\n",
              "    </tr>\n",
              "    <tr>\n",
              "      <th>5</th>\n",
              "      <td>K Nearest Neighbour</td>\n",
              "      <td>44.10</td>\n",
              "      <td>0.44</td>\n",
              "      <td>0.44</td>\n",
              "      <td>0.44</td>\n",
              "    </tr>\n",
              "    <tr>\n",
              "      <th>6</th>\n",
              "      <td>Gaussian Naive Bayes</td>\n",
              "      <td>44.10</td>\n",
              "      <td>0.44</td>\n",
              "      <td>0.44</td>\n",
              "      <td>0.44</td>\n",
              "    </tr>\n",
              "  </tbody>\n",
              "</table>\n",
              "</div>\n",
              "      <button class=\"colab-df-convert\" onclick=\"convertToInteractive('df-0f554b34-d488-425d-8b70-50866aee2570')\"\n",
              "              title=\"Convert this dataframe to an interactive table.\"\n",
              "              style=\"display:none;\">\n",
              "        \n",
              "  <svg xmlns=\"http://www.w3.org/2000/svg\" height=\"24px\"viewBox=\"0 0 24 24\"\n",
              "       width=\"24px\">\n",
              "    <path d=\"M0 0h24v24H0V0z\" fill=\"none\"/>\n",
              "    <path d=\"M18.56 5.44l.94 2.06.94-2.06 2.06-.94-2.06-.94-.94-2.06-.94 2.06-2.06.94zm-11 1L8.5 8.5l.94-2.06 2.06-.94-2.06-.94L8.5 2.5l-.94 2.06-2.06.94zm10 10l.94 2.06.94-2.06 2.06-.94-2.06-.94-.94-2.06-.94 2.06-2.06.94z\"/><path d=\"M17.41 7.96l-1.37-1.37c-.4-.4-.92-.59-1.43-.59-.52 0-1.04.2-1.43.59L10.3 9.45l-7.72 7.72c-.78.78-.78 2.05 0 2.83L4 21.41c.39.39.9.59 1.41.59.51 0 1.02-.2 1.41-.59l7.78-7.78 2.81-2.81c.8-.78.8-2.07 0-2.86zM5.41 20L4 18.59l7.72-7.72 1.47 1.35L5.41 20z\"/>\n",
              "  </svg>\n",
              "      </button>\n",
              "      \n",
              "  <style>\n",
              "    .colab-df-container {\n",
              "      display:flex;\n",
              "      flex-wrap:wrap;\n",
              "      gap: 12px;\n",
              "    }\n",
              "\n",
              "    .colab-df-convert {\n",
              "      background-color: #E8F0FE;\n",
              "      border: none;\n",
              "      border-radius: 50%;\n",
              "      cursor: pointer;\n",
              "      display: none;\n",
              "      fill: #1967D2;\n",
              "      height: 32px;\n",
              "      padding: 0 0 0 0;\n",
              "      width: 32px;\n",
              "    }\n",
              "\n",
              "    .colab-df-convert:hover {\n",
              "      background-color: #E2EBFA;\n",
              "      box-shadow: 0px 1px 2px rgba(60, 64, 67, 0.3), 0px 1px 3px 1px rgba(60, 64, 67, 0.15);\n",
              "      fill: #174EA6;\n",
              "    }\n",
              "\n",
              "    [theme=dark] .colab-df-convert {\n",
              "      background-color: #3B4455;\n",
              "      fill: #D2E3FC;\n",
              "    }\n",
              "\n",
              "    [theme=dark] .colab-df-convert:hover {\n",
              "      background-color: #434B5C;\n",
              "      box-shadow: 0px 1px 3px 1px rgba(0, 0, 0, 0.15);\n",
              "      filter: drop-shadow(0px 1px 2px rgba(0, 0, 0, 0.3));\n",
              "      fill: #FFFFFF;\n",
              "    }\n",
              "  </style>\n",
              "\n",
              "      <script>\n",
              "        const buttonEl =\n",
              "          document.querySelector('#df-0f554b34-d488-425d-8b70-50866aee2570 button.colab-df-convert');\n",
              "        buttonEl.style.display =\n",
              "          google.colab.kernel.accessAllowed ? 'block' : 'none';\n",
              "\n",
              "        async function convertToInteractive(key) {\n",
              "          const element = document.querySelector('#df-0f554b34-d488-425d-8b70-50866aee2570');\n",
              "          const dataTable =\n",
              "            await google.colab.kernel.invokeFunction('convertToInteractive',\n",
              "                                                     [key], {});\n",
              "          if (!dataTable) return;\n",
              "\n",
              "          const docLinkHtml = 'Like what you see? Visit the ' +\n",
              "            '<a target=\"_blank\" href=https://colab.research.google.com/notebooks/data_table.ipynb>data table notebook</a>'\n",
              "            + ' to learn more about interactive tables.';\n",
              "          element.innerHTML = '';\n",
              "          dataTable['output_type'] = 'display_data';\n",
              "          await google.colab.output.renderOutput(dataTable, element);\n",
              "          const docLink = document.createElement('div');\n",
              "          docLink.innerHTML = docLinkHtml;\n",
              "          element.appendChild(docLink);\n",
              "        }\n",
              "      </script>\n",
              "    </div>\n",
              "  </div>\n",
              "  "
            ],
            "text/plain": [
              "                      Model  Test Accuracy  Precision  Recall    F1\n",
              "0       Logistic Regression          66.25       0.66    0.66  0.66\n",
              "1             Random Forest          66.25       0.66    0.66  0.66\n",
              "2   Multinomial Naive Bayes          67.70       0.68    0.68  0.68\n",
              "3  Support Vector Classifer          64.39       0.64    0.64  0.64\n",
              "4  Decision Tree Classifier          55.07       0.55    0.55  0.55\n",
              "5       K Nearest Neighbour          44.10       0.44    0.44  0.44\n",
              "6      Gaussian Naive Bayes          44.10       0.44    0.44  0.44"
            ]
          },
          "metadata": {},
          "execution_count": 25
        }
      ]
    },
    {
      "cell_type": "markdown",
      "source": [
        "#Best Model to Perform Accuracy Score"
      ],
      "metadata": {
        "id": "h6fF1cbEYFUn"
      }
    },
    {
      "cell_type": "code",
      "source": [
        "model = model_performance[\"Model\"]\n",
        "max_value = model_performance[\"Test Accuracy\"].max()\n",
        "print(\"The best accuracy of model is\", max_value)"
      ],
      "metadata": {
        "colab": {
          "base_uri": "https://localhost:8080/"
        },
        "id": "eFqqpR40YHOO",
        "outputId": "9f3bd6ae-68e0-4c4c-9711-78fb2c0798e4"
      },
      "execution_count": null,
      "outputs": [
        {
          "output_type": "stream",
          "name": "stdout",
          "text": [
            "The best accuracy of model is 63.32\n"
          ]
        }
      ]
    },
    {
      "cell_type": "markdown",
      "source": [
        "#Ajustar e prever o melhor modelo de ML"
      ],
      "metadata": {
        "id": "HG-SXyUyYnw3"
      }
    },
    {
      "cell_type": "code",
      "source": [
        "classifier = RandomForestClassifier(n_estimators=100 ,criterion='entropy' , random_state=0).fit(x_train, y_train)\n",
        "classifier\n",
        "y_pred = classifier.predict(x_test)\n",
        "y_pred"
      ],
      "metadata": {
        "colab": {
          "base_uri": "https://localhost:8080/"
        },
        "id": "J0YT1h82YXTm",
        "outputId": "2b9c3b7f-7dfe-4a08-d521-55144bf5ae62"
      },
      "execution_count": null,
      "outputs": [
        {
          "output_type": "execute_result",
          "data": {
            "text/plain": [
              "array([20, 16, 16, 24, 18, 12, 12, 14,  1,  7, 15, 16, 15, 16, 14, 12,  6,\n",
              "       24, 22, 16, 24, 16, 15, 14, 16, 25, 25,  2,  7, 24, 14,  1, 12, 14,\n",
              "       12, 18, 22, 11,  0,  6, 16, 20, 12,  7, 14,  8,  9,  6, 11, 13,  0,\n",
              "       16, 16,  6, 23, 16,  3, 22, 24, 20, 16,  7, 16, 16,  5, 16, 16, 16,\n",
              "       15, 14,  7, 16,  6,  7,  8, 12,  7, 25,  0,  6, 10, 18, 16, 11, 16,\n",
              "        0, 12, 16,  2, 24,  8, 24,  8, 24, 24,  6, 16, 25, 14, 12,  3, 14,\n",
              "        6,  7,  6,  1,  0, 25, 16, 21, 16, 24, 16, 16, 24, 24, 24,  8, 11,\n",
              "       14, 15, 16, 24,  6, 12, 24,  6,  8,  3, 16, 24, 13, 12,  2, 16,  2,\n",
              "        9, 24,  7,  7, 23,  3,  5, 23, 24, 16, 14, 14, 14, 16, 10, 15,  6,\n",
              "        5,  7,  7,  5, 10,  7, 24, 16, 16, 20, 18,  8,  5, 23,  3, 16, 14,\n",
              "        8, 16, 11, 22,  8,  6, 24, 10,  2, 10,  2, 25, 12, 16, 16,  6, 15,\n",
              "       16,  6, 16, 12, 15,  6, 14,  1, 20, 12,  2,  8, 16,  1, 15, 16, 16,\n",
              "        0,  5, 25, 16,  8, 12, 18, 14,  7, 14, 16, 10, 11, 16,  9,  7, 16,\n",
              "        6,  6, 12, 22,  1, 22, 24, 18])"
            ]
          },
          "metadata": {},
          "execution_count": 146
        }
      ]
    },
    {
      "cell_type": "markdown",
      "source": [
        "#Predição de tópico de um novo app"
      ],
      "metadata": {
        "id": "Ur-LdOgJYbm_"
      }
    },
    {
      "cell_type": "code",
      "source": [
        "y_pred1 = cv.transform(['Hour ago, I contemplated retirement for a lot of reasons. I felt like people were not sensitive enough to my injuries. I felt like a lot of people were backed, why not me? I have done no less. I have won a lot of games for the team, and I am not feeling backed, said Ashwin'])\n",
        "yy = classifier.predict(y_pred1)\n",
        "result = \"\"\n",
        "if yy == [0]:\n",
        "  result = \"Educação\"\n",
        "elif yy == [1]:\n",
        "  result = \"X\"\n",
        "elif yy == [2]:\n",
        "  result = \"Y\"\n",
        "elif yy == [3]:\n",
        "  result = \"Z\"\n",
        "elif yy == [1]:\n",
        "  result = \"A\"\n",
        "print(result)\n"
      ],
      "metadata": {
        "id": "LQ_8eRwpYapP",
        "colab": {
          "base_uri": "https://localhost:8080/"
        },
        "outputId": "24fae115-a93b-4b34-baa7-93a0dae3095c"
      },
      "execution_count": null,
      "outputs": [
        {
          "output_type": "stream",
          "name": "stdout",
          "text": [
            "\n"
          ]
        }
      ]
    },
    {
      "cell_type": "markdown",
      "source": [
        "#Deep Learning"
      ],
      "metadata": {
        "id": "_dgrH_-N1ejd"
      }
    },
    {
      "cell_type": "code",
      "source": [
        "import ktrain\n",
        "from ktrain import text"
      ],
      "metadata": {
        "id": "Hi-_jPd12M0C"
      },
      "execution_count": null,
      "outputs": []
    },
    {
      "cell_type": "code",
      "source": [
        "#Modelos disponíveis\n",
        "text.print_text_classifiers()"
      ],
      "metadata": {
        "colab": {
          "base_uri": "https://localhost:8080/"
        },
        "id": "6A2GxnsX4r1q",
        "outputId": "7b126262-5633-468e-d45a-59533d223017"
      },
      "execution_count": null,
      "outputs": [
        {
          "output_type": "stream",
          "name": "stdout",
          "text": [
            "fasttext: a fastText-like model [http://arxiv.org/pdf/1607.01759.pdf]\n",
            "logreg: logistic regression using a trainable Embedding layer\n",
            "nbsvm: NBSVM model [http://www.aclweb.org/anthology/P12-2018]\n",
            "bigru: Bidirectional GRU with pretrained fasttext word vectors [https://fasttext.cc/docs/en/crawl-vectors.html]\n",
            "standard_gru: simple 2-layer GRU with randomly initialized embeddings\n",
            "bert: Bidirectional Encoder Representations from Transformers (BERT) from keras_bert [https://arxiv.org/abs/1810.04805]\n",
            "distilbert: distilled, smaller, and faster BERT from Hugging Face transformers [https://arxiv.org/abs/1910.01108]\n"
          ]
        }
      ]
    },
    {
      "cell_type": "markdown",
      "source": [
        "##Bert"
      ],
      "metadata": {
        "id": "BuMKGbKi6WmI"
      }
    },
    {
      "cell_type": "code",
      "source": [
        "'''\n",
        "#### ETAPA 1: Carregar e pré-processar o conjunto de dados\n",
        "A função `texts_from_df` carregará os dados de treinamento e validação da pasta especificada e os pré-processará automaticamente de acordo com os requisitos do BERT. Ao fazer isso, o modelo e o vocabulário do BERT serão baixados automaticamente.\n",
        "'''\n",
        "trn, val, preproc = text.texts_from_df(dataset,\n",
        "                                       text_column = col_texto_processado,\n",
        "                                       label_columns = col_topico,\n",
        "                                       maxlen=300, \n",
        "                                       preprocess_mode='bert', \n",
        "                                       val_pct=0.1)"
      ],
      "metadata": {
        "colab": {
          "base_uri": "https://localhost:8080/",
          "height": 1000
        },
        "id": "xQT0rrId1tNL",
        "outputId": "4f17c45b-a8e1-4fa8-a0f4-7711b19bfbc7"
      },
      "execution_count": null,
      "outputs": [
        {
          "output_type": "stream",
          "name": "stdout",
          "text": [
            "['Adivinhação e fortuna', 'Animais e pets', 'Automóveis, veículos e transporte', 'Beleza e moda', 'Botânica', 'Cidadania e questões sociais', 'Comes-e-bebes', 'Comunicação', 'Construção, casa e lar', 'Design e pintura', 'Educação', 'Engenharia e física', 'Entretenimento', 'Espiritualidade, filosofia e auto-ajuda', 'Ferramentas do celular', 'Finanças', 'Fotografia', 'Matemática', 'Maternidade e paternidade', 'Medicina e saúde', 'Meio ambiente', 'Produtividade', 'Revistas, notícias, livros ou dicionários', 'Tempo e meteorologia', 'Trabalho', 'Turismo e geografia', 'Vida saudável e esporte']\n",
            "      Adivinhação e fortuna  Animais e pets  \\\n",
            "1111                    0.0             0.0   \n",
            "222                     0.0             0.0   \n",
            "849                     0.0             0.0   \n",
            "111                     0.0             0.0   \n",
            "2677                    0.0             0.0   \n",
            "\n",
            "      Automóveis, veículos e transporte  Beleza e moda  Botânica  \\\n",
            "1111                                0.0            0.0       0.0   \n",
            "222                                 0.0            0.0       0.0   \n",
            "849                                 0.0            0.0       0.0   \n",
            "111                                 0.0            0.0       0.0   \n",
            "2677                                0.0            0.0       0.0   \n",
            "\n",
            "      Cidadania e questões sociais  Comes-e-bebes  Comunicação  \\\n",
            "1111                           0.0            1.0          0.0   \n",
            "222                            0.0            1.0          0.0   \n",
            "849                            0.0            0.0          0.0   \n",
            "111                            0.0            0.0          0.0   \n",
            "2677                           0.0            0.0          0.0   \n",
            "\n",
            "      Construção, casa e lar  Design e pintura  ...  Matemática  \\\n",
            "1111                     0.0               0.0  ...         0.0   \n",
            "222                      0.0               0.0  ...         0.0   \n",
            "849                      0.0               0.0  ...         0.0   \n",
            "111                      1.0               0.0  ...         0.0   \n",
            "2677                     0.0               0.0  ...         1.0   \n",
            "\n",
            "      Maternidade e paternidade  Medicina e saúde  Meio ambiente  \\\n",
            "1111                        0.0               0.0            0.0   \n",
            "222                         0.0               0.0            0.0   \n",
            "849                         0.0               0.0            0.0   \n",
            "111                         0.0               0.0            0.0   \n",
            "2677                        0.0               0.0            0.0   \n",
            "\n",
            "      Produtividade  Revistas, notícias, livros ou dicionários  \\\n",
            "1111            0.0                                        0.0   \n",
            "222             0.0                                        0.0   \n",
            "849             0.0                                        0.0   \n",
            "111             0.0                                        0.0   \n",
            "2677            0.0                                        0.0   \n",
            "\n",
            "      Tempo e meteorologia  Trabalho  Turismo e geografia  \\\n",
            "1111                   0.0       0.0                  0.0   \n",
            "222                    0.0       0.0                  0.0   \n",
            "849                    0.0       0.0                  1.0   \n",
            "111                    0.0       0.0                  0.0   \n",
            "2677                   0.0       0.0                  0.0   \n",
            "\n",
            "      Vida saudável e esporte  \n",
            "1111                      0.0  \n",
            "222                       0.0  \n",
            "849                       0.0  \n",
            "111                       0.0  \n",
            "2677                      0.0  \n",
            "\n",
            "[5 rows x 27 columns]\n",
            "['Adivinhação e fortuna', 'Animais e pets', 'Automóveis, veículos e transporte', 'Beleza e moda', 'Botânica', 'Cidadania e questões sociais', 'Comes-e-bebes', 'Comunicação', 'Construção, casa e lar', 'Design e pintura', 'Educação', 'Engenharia e física', 'Entretenimento', 'Espiritualidade, filosofia e auto-ajuda', 'Ferramentas do celular', 'Finanças', 'Fotografia', 'Matemática', 'Maternidade e paternidade', 'Medicina e saúde', 'Meio ambiente', 'Produtividade', 'Revistas, notícias, livros ou dicionários', 'Tempo e meteorologia', 'Trabalho', 'Turismo e geografia', 'Vida saudável e esporte']\n",
            "      Adivinhação e fortuna  Animais e pets  \\\n",
            "338                     0.0             0.0   \n",
            "2121                    0.0             0.0   \n",
            "1525                    0.0             0.0   \n",
            "252                     0.0             0.0   \n",
            "1400                    1.0             0.0   \n",
            "\n",
            "      Automóveis, veículos e transporte  Beleza e moda  Botânica  \\\n",
            "338                                 0.0            0.0       0.0   \n",
            "2121                                0.0            0.0       0.0   \n",
            "1525                                0.0            0.0       0.0   \n",
            "252                                 0.0            0.0       0.0   \n",
            "1400                                0.0            0.0       0.0   \n",
            "\n",
            "      Cidadania e questões sociais  Comes-e-bebes  Comunicação  \\\n",
            "338                            0.0            0.0          0.0   \n",
            "2121                           0.0            0.0          0.0   \n",
            "1525                           0.0            0.0          0.0   \n",
            "252                            0.0            0.0          0.0   \n",
            "1400                           0.0            0.0          0.0   \n",
            "\n",
            "      Construção, casa e lar  Design e pintura  ...  Matemática  \\\n",
            "338                      0.0               0.0  ...         0.0   \n",
            "2121                     0.0               0.0  ...         0.0   \n",
            "1525                     0.0               0.0  ...         1.0   \n",
            "252                      0.0               0.0  ...         0.0   \n",
            "1400                     0.0               0.0  ...         0.0   \n",
            "\n",
            "      Maternidade e paternidade  Medicina e saúde  Meio ambiente  \\\n",
            "338                         0.0               0.0            0.0   \n",
            "2121                        0.0               0.0            0.0   \n",
            "1525                        0.0               0.0            0.0   \n",
            "252                         0.0               0.0            0.0   \n",
            "1400                        0.0               0.0            0.0   \n",
            "\n",
            "      Produtividade  Revistas, notícias, livros ou dicionários  \\\n",
            "338             0.0                                        0.0   \n",
            "2121            0.0                                        0.0   \n",
            "1525            0.0                                        0.0   \n",
            "252             0.0                                        0.0   \n",
            "1400            0.0                                        0.0   \n",
            "\n",
            "      Tempo e meteorologia  Trabalho  Turismo e geografia  \\\n",
            "338                    0.0       0.0                  0.0   \n",
            "2121                   0.0       0.0                  0.0   \n",
            "1525                   0.0       0.0                  0.0   \n",
            "252                    0.0       0.0                  1.0   \n",
            "1400                   0.0       0.0                  0.0   \n",
            "\n",
            "      Vida saudável e esporte  \n",
            "338                       0.0  \n",
            "2121                      0.0  \n",
            "1525                      0.0  \n",
            "252                       0.0  \n",
            "1400                      0.0  \n",
            "\n",
            "[5 rows x 27 columns]\n",
            "downloading pretrained BERT model (multi_cased_L-12_H-768_A-12.zip)...\n",
            "[██████████████████████████████████████████████████]\n",
            "extracting pretrained BERT model...\n",
            "done.\n",
            "\n",
            "cleanup downloaded zip...\n",
            "done.\n",
            "\n",
            "preprocessing train...\n",
            "language: pt\n"
          ]
        },
        {
          "output_type": "display_data",
          "data": {
            "text/html": [
              "\n",
              "<style>\n",
              "    /* Turns off some styling */\n",
              "    progress {\n",
              "        /* gets rid of default border in Firefox and Opera. */\n",
              "        border: none;\n",
              "        /* Needs to be in here for Safari polyfill so background images work as expected. */\n",
              "        background-size: auto;\n",
              "    }\n",
              "    .progress-bar-interrupted, .progress-bar-interrupted::-webkit-progress-bar {\n",
              "        background: #F44336;\n",
              "    }\n",
              "</style>\n"
            ],
            "text/plain": [
              "<IPython.core.display.HTML object>"
            ]
          },
          "metadata": {}
        },
        {
          "output_type": "display_data",
          "data": {
            "text/html": [
              "done."
            ],
            "text/plain": [
              "<IPython.core.display.HTML object>"
            ]
          },
          "metadata": {}
        },
        {
          "output_type": "stream",
          "name": "stdout",
          "text": [
            "Is Multi-Label? False\n",
            "preprocessing test...\n",
            "language: pt\n"
          ]
        },
        {
          "output_type": "display_data",
          "data": {
            "text/html": [
              "\n",
              "<style>\n",
              "    /* Turns off some styling */\n",
              "    progress {\n",
              "        /* gets rid of default border in Firefox and Opera. */\n",
              "        border: none;\n",
              "        /* Needs to be in here for Safari polyfill so background images work as expected. */\n",
              "        background-size: auto;\n",
              "    }\n",
              "    .progress-bar-interrupted, .progress-bar-interrupted::-webkit-progress-bar {\n",
              "        background: #F44336;\n",
              "    }\n",
              "</style>\n"
            ],
            "text/plain": [
              "<IPython.core.display.HTML object>"
            ]
          },
          "metadata": {}
        },
        {
          "output_type": "display_data",
          "data": {
            "text/html": [
              "done."
            ],
            "text/plain": [
              "<IPython.core.display.HTML object>"
            ]
          },
          "metadata": {}
        }
      ]
    },
    {
      "cell_type": "code",
      "source": [
        "'''\n",
        "### ETAPA 2: Carregar um modelo BERT pré-treinado e envolvê-lo em um objeto `ktrain.Learner`\n",
        "Essa etapa pode ser condensada em uma única linha de código, mas a executamos como duas linhas para maior clareza. (Você pode ignorar os avisos de descontinuação decorrentes do Keras 2.2.4 com TensorFlow 1.14.0.)\n",
        "'''\n",
        "model = text.text_classifier('bert', trn, preproc=preproc)\n",
        "learner = ktrain.get_learner(model,train_data=trn, val_data=val, batch_size=6)"
      ],
      "metadata": {
        "colab": {
          "base_uri": "https://localhost:8080/"
        },
        "id": "6tZZSOiI4vSC",
        "outputId": "f35fa489-8d35-49ec-8fd9-205848c4b54f"
      },
      "execution_count": null,
      "outputs": [
        {
          "output_type": "stream",
          "name": "stdout",
          "text": [
            "Is Multi-Label? False\n",
            "maxlen is 300\n",
            "done.\n"
          ]
        }
      ]
    },
    {
      "cell_type": "code",
      "source": [
        "'''\n",
        "### ETAPA 3: Treinamento e ajuste do modelo no conjunto de dados\n",
        "Empregamos o método `learner.fit_onecycle` no *ktrain* que emprega o uso de uma [programação de taxa de aprendizado de 1 ciclo](https://arxiv.org/pdf/1803.09820.pdf). Usamos uma taxa de aprendizado de 2e-5 com base nas recomendações do [artigo original](https://arxiv.org/abs/1810.04805).\n",
        "'''\n",
        "learner.fit_onecycle(2e-5, 1)"
      ],
      "metadata": {
        "colab": {
          "base_uri": "https://localhost:8080/"
        },
        "id": "tU2q3NvG49ig",
        "outputId": "aed3c1db-c433-4df5-9890-0b12ead2898c"
      },
      "execution_count": null,
      "outputs": [
        {
          "output_type": "stream",
          "name": "stdout",
          "text": [
            "\n",
            "\n",
            "begin training using onecycle policy with max lr of 2e-05...\n",
            "225/225 [==============================] - 263s 1s/step - loss: 2.5372 - accuracy: 0.3069 - val_loss: 1.9766 - val_accuracy: 0.4733\n"
          ]
        },
        {
          "output_type": "execute_result",
          "data": {
            "text/plain": [
              "<keras.callbacks.History at 0x7feb6c5cb090>"
            ]
          },
          "metadata": {},
          "execution_count": 28
        }
      ]
    },
    {
      "cell_type": "code",
      "source": [
        "learner.evaluate()"
      ],
      "metadata": {
        "colab": {
          "base_uri": "https://localhost:8080/"
        },
        "id": "s8JK2_bd5uJo",
        "outputId": "ad406c57-1db8-4f57-8af7-f36cd6e78aa9"
      },
      "execution_count": null,
      "outputs": [
        {
          "output_type": "stream",
          "name": "stdout",
          "text": [
            "              precision    recall  f1-score   support\n",
            "\n",
            "           0       0.33      1.00      0.50         2\n",
            "           1       1.00      0.17      0.29         6\n",
            "           2       0.00      0.00      0.00         4\n",
            "           3       0.00      0.00      0.00         1\n",
            "           5       0.00      0.00      0.00         4\n",
            "           6       0.46      0.86      0.60         7\n",
            "           7       0.36      0.56      0.43         9\n",
            "           8       0.33      0.25      0.29         4\n",
            "           9       0.00      0.00      0.00         5\n",
            "          10       0.33      0.67      0.44         3\n",
            "          11       0.67      0.50      0.57         4\n",
            "          12       0.27      0.69      0.39        13\n",
            "          13       0.00      0.00      0.00         5\n",
            "          14       0.00      0.00      0.00         5\n",
            "          15       0.00      0.00      0.00         3\n",
            "          17       0.81      0.88      0.85        25\n",
            "          18       0.00      0.00      0.00         1\n",
            "          19       0.00      0.00      0.00         2\n",
            "          20       0.00      0.00      0.00         2\n",
            "          21       0.00      0.00      0.00        11\n",
            "          22       0.00      0.00      0.00         2\n",
            "          23       0.00      0.00      0.00         2\n",
            "          24       0.00      0.00      0.00         3\n",
            "          25       0.33      0.83      0.48        12\n",
            "          26       0.85      0.73      0.79        15\n",
            "\n",
            "    accuracy                           0.47       150\n",
            "   macro avg       0.23      0.29      0.22       150\n",
            "weighted avg       0.39      0.47      0.40       150\n",
            "\n"
          ]
        },
        {
          "output_type": "stream",
          "name": "stderr",
          "text": [
            "/usr/local/lib/python3.7/dist-packages/sklearn/metrics/_classification.py:1248: UndefinedMetricWarning: Precision and F-score are ill-defined and being set to 0.0 in labels with no predicted samples. Use `zero_division` parameter to control this behavior.\n",
            "  _warn_prf(average, modifier, msg_start, len(result))\n",
            "/usr/local/lib/python3.7/dist-packages/sklearn/metrics/_classification.py:1248: UndefinedMetricWarning: Precision and F-score are ill-defined and being set to 0.0 in labels with no predicted samples. Use `zero_division` parameter to control this behavior.\n",
            "  _warn_prf(average, modifier, msg_start, len(result))\n",
            "/usr/local/lib/python3.7/dist-packages/sklearn/metrics/_classification.py:1248: UndefinedMetricWarning: Precision and F-score are ill-defined and being set to 0.0 in labels with no predicted samples. Use `zero_division` parameter to control this behavior.\n",
            "  _warn_prf(average, modifier, msg_start, len(result))\n"
          ]
        },
        {
          "output_type": "execute_result",
          "data": {
            "text/plain": [
              "array([[ 2,  0,  0,  0,  0,  0,  0,  0,  0,  0,  0,  0,  0,  0,  0,  0,\n",
              "         0,  0,  0,  0,  0,  0,  0,  0,  0],\n",
              "       [ 0,  1,  0,  0,  0,  0,  0,  0,  0,  0,  0,  5,  0,  0,  0,  0,\n",
              "         0,  0,  0,  0,  0,  0,  0,  0,  0],\n",
              "       [ 0,  0,  0,  0,  0,  0,  0,  1,  0,  1,  0,  0,  0,  0,  0,  0,\n",
              "         0,  0,  0,  0,  0,  0,  0,  2,  0],\n",
              "       [ 0,  0,  0,  0,  0,  1,  0,  0,  0,  0,  0,  0,  0,  0,  0,  0,\n",
              "         0,  0,  0,  0,  0,  0,  0,  0,  0],\n",
              "       [ 0,  0,  0,  0,  0,  0,  0,  0,  0,  0,  1,  1,  0,  0,  0,  0,\n",
              "         0,  0,  0,  0,  0,  0,  0,  2,  0],\n",
              "       [ 0,  0,  0,  0,  0,  6,  0,  0,  0,  0,  0,  0,  0,  0,  0,  0,\n",
              "         0,  0,  0,  0,  0,  0,  0,  1,  0],\n",
              "       [ 1,  0,  0,  0,  0,  0,  5,  0,  0,  0,  0,  1,  0,  0,  0,  0,\n",
              "         0,  0,  0,  0,  0,  0,  0,  2,  0],\n",
              "       [ 0,  0,  0,  0,  0,  0,  0,  1,  0,  0,  0,  1,  0,  0,  0,  0,\n",
              "         0,  0,  0,  0,  0,  0,  0,  2,  0],\n",
              "       [ 0,  0,  0,  0,  0,  0,  1,  0,  0,  0,  0,  4,  0,  0,  0,  0,\n",
              "         0,  0,  0,  0,  0,  0,  0,  0,  0],\n",
              "       [ 0,  0,  0,  0,  0,  0,  0,  0,  0,  2,  0,  0,  0,  0,  0,  0,\n",
              "         0,  0,  0,  0,  0,  0,  0,  1,  0],\n",
              "       [ 0,  0,  0,  0,  0,  0,  0,  1,  0,  0,  2,  0,  0,  0,  0,  1,\n",
              "         0,  0,  0,  0,  0,  0,  0,  0,  0],\n",
              "       [ 1,  0,  0,  0,  0,  0,  2,  0,  0,  0,  0,  9,  0,  0,  0,  0,\n",
              "         0,  0,  0,  0,  0,  0,  0,  1,  0],\n",
              "       [ 2,  0,  0,  0,  0,  0,  0,  0,  0,  0,  0,  2,  0,  0,  0,  0,\n",
              "         0,  0,  0,  0,  0,  0,  0,  1,  0],\n",
              "       [ 0,  0,  0,  0,  0,  0,  0,  0,  0,  1,  0,  1,  0,  0,  0,  2,\n",
              "         0,  0,  0,  0,  0,  0,  0,  0,  1],\n",
              "       [ 0,  0,  0,  0,  0,  3,  0,  0,  0,  0,  0,  0,  0,  0,  0,  0,\n",
              "         0,  0,  0,  0,  0,  0,  0,  0,  0],\n",
              "       [ 0,  0,  0,  0,  0,  0,  1,  0,  0,  0,  0,  1,  0,  0,  0, 22,\n",
              "         0,  0,  0,  0,  0,  0,  0,  1,  0],\n",
              "       [ 0,  0,  0,  0,  0,  0,  0,  0,  0,  0,  0,  0,  0,  0,  0,  0,\n",
              "         0,  0,  0,  0,  0,  0,  0,  0,  1],\n",
              "       [ 0,  0,  0,  0,  0,  0,  1,  0,  0,  0,  0,  0,  0,  0,  0,  0,\n",
              "         0,  0,  0,  0,  0,  0,  0,  1,  0],\n",
              "       [ 0,  0,  0,  0,  0,  1,  0,  0,  0,  1,  0,  0,  0,  0,  0,  0,\n",
              "         0,  0,  0,  0,  0,  0,  0,  0,  0],\n",
              "       [ 0,  0,  0,  0,  0,  2,  3,  0,  0,  0,  0,  3,  0,  0,  0,  1,\n",
              "         0,  0,  0,  0,  0,  0,  0,  2,  0],\n",
              "       [ 0,  0,  0,  0,  0,  0,  1,  0,  0,  0,  0,  1,  0,  0,  0,  0,\n",
              "         0,  0,  0,  0,  0,  0,  0,  0,  0],\n",
              "       [ 0,  0,  0,  0,  0,  0,  0,  0,  0,  0,  0,  1,  0,  0,  0,  0,\n",
              "         0,  0,  0,  0,  0,  0,  0,  1,  0],\n",
              "       [ 0,  0,  0,  0,  0,  0,  0,  0,  0,  1,  0,  0,  0,  0,  1,  0,\n",
              "         0,  0,  0,  0,  0,  0,  0,  1,  0],\n",
              "       [ 0,  0,  0,  0,  0,  0,  0,  0,  0,  0,  0,  2,  0,  0,  0,  0,\n",
              "         0,  0,  0,  0,  0,  0,  0, 10,  0],\n",
              "       [ 0,  0,  0,  0,  0,  0,  0,  0,  0,  0,  0,  1,  0,  0,  0,  1,\n",
              "         0,  0,  0,  0,  0,  0,  0,  2, 11]])"
            ]
          },
          "metadata": {},
          "execution_count": 29
        }
      ]
    },
    {
      "cell_type": "code",
      "source": [
        "learner.view_top_losses(n=2, preproc=preproc)"
      ],
      "metadata": {
        "colab": {
          "base_uri": "https://localhost:8080/"
        },
        "id": "Xd6SB2gu5yFB",
        "outputId": "5459af96-7722-4cc7-8c47-e0247bf891a2"
      },
      "execution_count": null,
      "outputs": [
        {
          "output_type": "stream",
          "name": "stdout",
          "text": [
            "----------\n",
            "id:118 | loss:6.29 | true:Maternidade e paternidade | pred:Vida saudável e esporte)\n",
            "\n",
            "[CLS] meni ##no meni ##na mes mes meses meses meses meses meses meses meses meses meses meses meses meses meses meses meses meses meses meses meses meses meses meses meses altura peso meni ##no meni ##na idade meni ##na mes peso kg kg peso kg kg peso kg kg altura altura altura mes peso kg kg peso kg kg peso kg kg altura altura altura meses peso kg kg peso kg kg peso kg kg altura altura altura meses peso kg kg peso kg kg peso kg kg altura altura altura meses peso kg kg peso kg kg peso kg kg altura altura altura meses peso kg kg peso kg kg peso kg kg altura altura altura meses peso kg kg peso kg kg peso kg kg altura altura altura meses peso kg kg peso kg kg peso kg kg altura altura altura meses peso kg kg peso kg kg peso kg kg altura altura altura meses peso kg kg peso kg kg peso kg kg altura altura altura meses peso kg kg peso kg kg peso kg kg altura altura altura meses peso kg kg peso kg kg peso kg kg altura altura altura meses peso kg kg peso kg kg peso kg kg altura altura altura meses peso kg kg peso kg kg peso kg kg altura altura altura meses peso kg kg peso kg kg peso kg kg altura altura altura meses peso kg kg peso kg kg peso kg kg altura altura altura meses peso kg kg peso kg kg peso kg kg altura altura altura meses peso kg kg peso kg kg peso kg kg altura altura altura meses peso kg kg peso kg kg peso kg kg altura altura altura meses peso kg kg peso kg kg peso kg kg altura altura altura [SEP]\n",
            "----------\n",
            "id:69 | loss:5.01 | true:Ferramentas do celular | pred:Matemática)\n",
            "\n",
            "[CLS] por ##cent ##agem calcul ##o [SEP]\n"
          ]
        }
      ]
    },
    {
      "cell_type": "code",
      "source": [
        "predictor = ktrain.get_predictor(learner.model, preproc)"
      ],
      "metadata": {
        "id": "GZ4ejM0p-KJJ"
      },
      "execution_count": null,
      "outputs": []
    },
    {
      "cell_type": "code",
      "source": [
        "'''\n",
        "Testando com um valor\n",
        "'''\n",
        "data = 'chuva tempo previsão local GPS'\n",
        "predictor.predict(data)"
      ],
      "metadata": {
        "colab": {
          "base_uri": "https://localhost:8080/",
          "height": 36
        },
        "id": "A7xLW0X2525K",
        "outputId": "8aef9eae-8491-486d-c8d4-fb0b58d2bdae"
      },
      "execution_count": null,
      "outputs": [
        {
          "output_type": "execute_result",
          "data": {
            "application/vnd.google.colaboratory.intrinsic+json": {
              "type": "string"
            },
            "text/plain": [
              "'Educação'"
            ]
          },
          "metadata": {},
          "execution_count": 31
        }
      ]
    },
    {
      "cell_type": "code",
      "source": [
        "!pip install git+https://github.com/amaiya/eli5@tfkeras_0_10_1"
      ],
      "metadata": {
        "colab": {
          "base_uri": "https://localhost:8080/"
        },
        "id": "MyZK_K1f-RG3",
        "outputId": "68888877-c6c7-4b78-c546-076386a9c9ad"
      },
      "execution_count": null,
      "outputs": [
        {
          "output_type": "stream",
          "name": "stdout",
          "text": [
            "Collecting git+https://github.com/amaiya/eli5@tfkeras_0_10_1\n",
            "  Cloning https://github.com/amaiya/eli5 (to revision tfkeras_0_10_1) to /tmp/pip-req-build-0qqhocb0\n",
            "  Running command git clone -q https://github.com/amaiya/eli5 /tmp/pip-req-build-0qqhocb0\n",
            "  Running command git checkout -b tfkeras_0_10_1 --track origin/tfkeras_0_10_1\n",
            "  Switched to a new branch 'tfkeras_0_10_1'\n",
            "  Branch 'tfkeras_0_10_1' set up to track remote branch 'tfkeras_0_10_1' from 'origin'.\n",
            "Requirement already satisfied: attrs>16.0.0 in /usr/local/lib/python3.7/dist-packages (from eli5==0.10.1) (21.4.0)\n",
            "Requirement already satisfied: jinja2 in /usr/local/lib/python3.7/dist-packages (from eli5==0.10.1) (2.11.3)\n",
            "Requirement already satisfied: numpy>=1.9.0 in /usr/local/lib/python3.7/dist-packages (from eli5==0.10.1) (1.21.5)\n",
            "Requirement already satisfied: scipy in /usr/local/lib/python3.7/dist-packages (from eli5==0.10.1) (1.4.1)\n",
            "Requirement already satisfied: six in /usr/local/lib/python3.7/dist-packages (from eli5==0.10.1) (1.15.0)\n",
            "Requirement already satisfied: scikit-learn>=0.18 in /usr/local/lib/python3.7/dist-packages (from eli5==0.10.1) (0.24.2)\n",
            "Requirement already satisfied: graphviz in /usr/local/lib/python3.7/dist-packages (from eli5==0.10.1) (0.10.1)\n",
            "Requirement already satisfied: tabulate>=0.7.7 in /usr/local/lib/python3.7/dist-packages (from eli5==0.10.1) (0.8.9)\n",
            "Requirement already satisfied: threadpoolctl>=2.0.0 in /usr/local/lib/python3.7/dist-packages (from scikit-learn>=0.18->eli5==0.10.1) (3.1.0)\n",
            "Requirement already satisfied: joblib>=0.11 in /usr/local/lib/python3.7/dist-packages (from scikit-learn>=0.18->eli5==0.10.1) (1.1.0)\n",
            "Requirement already satisfied: MarkupSafe>=0.23 in /usr/local/lib/python3.7/dist-packages (from jinja2->eli5==0.10.1) (2.0.1)\n",
            "Building wheels for collected packages: eli5\n",
            "  Building wheel for eli5 (setup.py) ... \u001b[?25l\u001b[?25hdone\n",
            "  Created wheel for eli5: filename=eli5-0.10.1-py2.py3-none-any.whl size=106895 sha256=e97290677217e70ae7d690c2fb31da18200e2f158a23950afe1e621542787490\n",
            "  Stored in directory: /tmp/pip-ephem-wheel-cache-jgy0ll12/wheels/f8/8c/47/b4cafd3c9519194a489dd614ead1485899d2b34c5adc4198ff\n",
            "Successfully built eli5\n",
            "Installing collected packages: eli5\n",
            "Successfully installed eli5-0.10.1\n"
          ]
        }
      ]
    },
    {
      "cell_type": "code",
      "source": [
        "predictor.explain(data)"
      ],
      "metadata": {
        "id": "804BpwHY-Mue"
      },
      "execution_count": null,
      "outputs": []
    },
    {
      "cell_type": "markdown",
      "source": [
        "##Bertimbau"
      ],
      "metadata": {
        "id": "c0U-gET7fy1o"
      }
    },
    {
      "cell_type": "code",
      "source": [
        "label_list = list(dataset[col_topico])\n",
        "label_list = list(dict.fromkeys(label_list))\n",
        "label_list"
      ],
      "metadata": {
        "colab": {
          "base_uri": "https://localhost:8080/"
        },
        "id": "OaI9nVFFhjO6",
        "outputId": "0feb4f9c-1ee0-4cb1-8c8b-ecab8547bda5"
      },
      "execution_count": null,
      "outputs": [
        {
          "output_type": "execute_result",
          "data": {
            "text/plain": [
              "['Educação',\n",
              " 'Meio ambiente',\n",
              " 'Vida saudável e esporte',\n",
              " 'Comunicação',\n",
              " 'Medicina e saúde',\n",
              " 'Turismo e geografia',\n",
              " 'Comes-e-bebes',\n",
              " 'Construção, casa e lar',\n",
              " 'Cidadania e questões sociais',\n",
              " 'Automóveis, veículos e transporte',\n",
              " 'Produtividade',\n",
              " 'Trabalho',\n",
              " 'Engenharia e física',\n",
              " 'Animais e pets',\n",
              " 'Botânica',\n",
              " 'Tempo e meteorologia',\n",
              " 'Finanças',\n",
              " 'Revistas, notícias, livros ou dicionários',\n",
              " 'Entretenimento',\n",
              " 'Ferramentas do celular',\n",
              " 'Maternidade e paternidade',\n",
              " 'Design e pintura',\n",
              " 'Adivinhação e fortuna',\n",
              " 'Matemática',\n",
              " 'Espiritualidade, filosofia e auto-ajuda',\n",
              " 'Beleza e moda',\n",
              " 'Fotografia']"
            ]
          },
          "metadata": {},
          "execution_count": 31
        }
      ]
    },
    {
      "cell_type": "code",
      "source": [
        "'''\n",
        "#### ETAPA 1: Carregar e pré-processar o conjunto de dados\n",
        "A função `texts_from_df` carregará os dados de treinamento e validação da pasta especificada e os pré-processará automaticamente de acordo com os requisitos do BERT. Ao fazer isso, o modelo e o vocabulário do BERT serão baixados automaticamente.\n",
        "'''\n",
        "#https://huggingface.co/neuralmind/bert-large-portuguese-cased\n",
        "MODEL_NAME = 'neuralmind/bert-base-portuguese-cased'\n",
        "t = text.Transformer(MODEL_NAME, maxlen=300, classes=label_list)\n",
        "trn, val, preproc = text.texts_from_df(dataset,\n",
        "                                       text_column = col_texto_processado,\n",
        "                                       label_columns = col_topico,\n",
        "                                       maxlen=300, \n",
        "                                       preprocess_mode='bert', \n",
        "                                       val_pct=0.1)"
      ],
      "metadata": {
        "colab": {
          "base_uri": "https://localhost:8080/",
          "height": 1000,
          "referenced_widgets": [
            "e57620843e234233a7d64a4cb195a175",
            "2b44cdf41de442d18aeb7833db82b7df",
            "2a148a07b0f349f7a45a611b554cdf46",
            "6c37b235937349b9b4f045e60fd57714",
            "eb9f1c052b2749d59c943a91f714d9b4",
            "a9bfc9bc1bad449d8e68015235a28f78",
            "e9866fafe57446298dba46ab5fcc8e6e",
            "5df4488a82214d1aba514806b5a649fb",
            "6ab2669d3e024342b029d4adfc423260",
            "ac5a8c113dfd4e6894f1cce3491d11e7",
            "fbccb899a5324fc4a479330723f3b164"
          ]
        },
        "id": "mz4SAQOBf2fZ",
        "outputId": "7e777f88-88dd-4b6e-a1f8-ff1abaadde2a"
      },
      "execution_count": null,
      "outputs": [
        {
          "output_type": "stream",
          "name": "stderr",
          "text": [
            "/usr/local/lib/python3.7/dist-packages/ktrain/text/preprocessor.py:422: UserWarning: The class_names argument is replacing the classes argument. Please update your code.\n",
            "  warnings.warn('The class_names argument is replacing the classes argument. Please update your code.')\n"
          ]
        },
        {
          "output_type": "display_data",
          "data": {
            "application/vnd.jupyter.widget-view+json": {
              "model_id": "e57620843e234233a7d64a4cb195a175",
              "version_minor": 0,
              "version_major": 2
            },
            "text/plain": [
              "Downloading:   0%|          | 0.00/647 [00:00<?, ?B/s]"
            ]
          },
          "metadata": {}
        },
        {
          "output_type": "stream",
          "name": "stdout",
          "text": [
            "['Adivinhação e fortuna', 'Animais e pets', 'Automóveis, veículos e transporte', 'Beleza e moda', 'Botânica', 'Cidadania e questões sociais', 'Comes-e-bebes', 'Comunicação', 'Construção, casa e lar', 'Design e pintura', 'Educação', 'Engenharia e física', 'Entretenimento', 'Espiritualidade, filosofia e auto-ajuda', 'Ferramentas do celular', 'Finanças', 'Fotografia', 'Matemática', 'Maternidade e paternidade', 'Medicina e saúde', 'Meio ambiente', 'Produtividade', 'Revistas, notícias, livros ou dicionários', 'Tempo e meteorologia', 'Trabalho', 'Turismo e geografia', 'Vida saudável e esporte']\n",
            "      Adivinhação e fortuna  Animais e pets  \\\n",
            "557                     0.0             0.0   \n",
            "952                     0.0             0.0   \n",
            "710                     0.0             0.0   \n",
            "1773                    0.0             0.0   \n",
            "1708                    0.0             0.0   \n",
            "\n",
            "      Automóveis, veículos e transporte  Beleza e moda  Botânica  \\\n",
            "557                                 0.0            0.0       0.0   \n",
            "952                                 0.0            0.0       0.0   \n",
            "710                                 0.0            0.0       0.0   \n",
            "1773                                0.0            0.0       0.0   \n",
            "1708                                0.0            0.0       0.0   \n",
            "\n",
            "      Cidadania e questões sociais  Comes-e-bebes  Comunicação  \\\n",
            "557                            0.0            0.0          0.0   \n",
            "952                            0.0            0.0          0.0   \n",
            "710                            0.0            0.0          0.0   \n",
            "1773                           0.0            0.0          1.0   \n",
            "1708                           0.0            0.0          0.0   \n",
            "\n",
            "      Construção, casa e lar  Design e pintura  ...  Matemática  \\\n",
            "557                      0.0               0.0  ...         0.0   \n",
            "952                      0.0               0.0  ...         0.0   \n",
            "710                      1.0               0.0  ...         0.0   \n",
            "1773                     0.0               0.0  ...         0.0   \n",
            "1708                     0.0               0.0  ...         0.0   \n",
            "\n",
            "      Maternidade e paternidade  Medicina e saúde  Meio ambiente  \\\n",
            "557                         0.0               0.0            0.0   \n",
            "952                         0.0               0.0            0.0   \n",
            "710                         0.0               0.0            0.0   \n",
            "1773                        0.0               0.0            0.0   \n",
            "1708                        0.0               0.0            0.0   \n",
            "\n",
            "      Produtividade  Revistas, notícias, livros ou dicionários  \\\n",
            "557             0.0                                        0.0   \n",
            "952             1.0                                        0.0   \n",
            "710             0.0                                        0.0   \n",
            "1773            0.0                                        0.0   \n",
            "1708            0.0                                        0.0   \n",
            "\n",
            "      Tempo e meteorologia  Trabalho  Turismo e geografia  \\\n",
            "557                    1.0       0.0                  0.0   \n",
            "952                    0.0       0.0                  0.0   \n",
            "710                    0.0       0.0                  0.0   \n",
            "1773                   0.0       0.0                  0.0   \n",
            "1708                   0.0       0.0                  0.0   \n",
            "\n",
            "      Vida saudável e esporte  \n",
            "557                       0.0  \n",
            "952                       0.0  \n",
            "710                       0.0  \n",
            "1773                      0.0  \n",
            "1708                      0.0  \n",
            "\n",
            "[5 rows x 27 columns]\n",
            "['Adivinhação e fortuna', 'Animais e pets', 'Automóveis, veículos e transporte', 'Beleza e moda', 'Botânica', 'Cidadania e questões sociais', 'Comes-e-bebes', 'Comunicação', 'Construção, casa e lar', 'Design e pintura', 'Educação', 'Engenharia e física', 'Entretenimento', 'Espiritualidade, filosofia e auto-ajuda', 'Ferramentas do celular', 'Finanças', 'Fotografia', 'Matemática', 'Maternidade e paternidade', 'Medicina e saúde', 'Meio ambiente', 'Produtividade', 'Revistas, notícias, livros ou dicionários', 'Tempo e meteorologia', 'Trabalho', 'Turismo e geografia', 'Vida saudável e esporte']\n",
            "      Adivinhação e fortuna  Animais e pets  \\\n",
            "12                      0.0             0.0   \n",
            "857                     0.0             0.0   \n",
            "1575                    0.0             0.0   \n",
            "90                      0.0             0.0   \n",
            "1078                    0.0             0.0   \n",
            "\n",
            "      Automóveis, veículos e transporte  Beleza e moda  Botânica  \\\n",
            "12                                  0.0            0.0       0.0   \n",
            "857                                 0.0            0.0       0.0   \n",
            "1575                                0.0            0.0       0.0   \n",
            "90                                  0.0            0.0       0.0   \n",
            "1078                                0.0            0.0       0.0   \n",
            "\n",
            "      Cidadania e questões sociais  Comes-e-bebes  Comunicação  \\\n",
            "12                             1.0            0.0          0.0   \n",
            "857                            0.0            0.0          0.0   \n",
            "1575                           0.0            0.0          0.0   \n",
            "90                             0.0            0.0          0.0   \n",
            "1078                           0.0            0.0          0.0   \n",
            "\n",
            "      Construção, casa e lar  Design e pintura  ...  Matemática  \\\n",
            "12                       0.0               0.0  ...         0.0   \n",
            "857                      0.0               0.0  ...         0.0   \n",
            "1575                     0.0               0.0  ...         0.0   \n",
            "90                       1.0               0.0  ...         0.0   \n",
            "1078                     0.0               0.0  ...         0.0   \n",
            "\n",
            "      Maternidade e paternidade  Medicina e saúde  Meio ambiente  \\\n",
            "12                          0.0               0.0            0.0   \n",
            "857                         0.0               0.0            0.0   \n",
            "1575                        0.0               0.0            0.0   \n",
            "90                          0.0               0.0            0.0   \n",
            "1078                        0.0               0.0            0.0   \n",
            "\n",
            "      Produtividade  Revistas, notícias, livros ou dicionários  \\\n",
            "12              0.0                                        0.0   \n",
            "857             1.0                                        0.0   \n",
            "1575            0.0                                        0.0   \n",
            "90              0.0                                        0.0   \n",
            "1078            0.0                                        0.0   \n",
            "\n",
            "      Tempo e meteorologia  Trabalho  Turismo e geografia  \\\n",
            "12                     0.0       0.0                  0.0   \n",
            "857                    0.0       0.0                  0.0   \n",
            "1575                   0.0       0.0                  0.0   \n",
            "90                     0.0       0.0                  0.0   \n",
            "1078                   0.0       0.0                  1.0   \n",
            "\n",
            "      Vida saudável e esporte  \n",
            "12                        0.0  \n",
            "857                       0.0  \n",
            "1575                      1.0  \n",
            "90                        0.0  \n",
            "1078                      0.0  \n",
            "\n",
            "[5 rows x 27 columns]\n",
            "preprocessing train...\n",
            "language: pt\n"
          ]
        },
        {
          "output_type": "display_data",
          "data": {
            "text/html": [
              "\n",
              "<style>\n",
              "    /* Turns off some styling */\n",
              "    progress {\n",
              "        /* gets rid of default border in Firefox and Opera. */\n",
              "        border: none;\n",
              "        /* Needs to be in here for Safari polyfill so background images work as expected. */\n",
              "        background-size: auto;\n",
              "    }\n",
              "    .progress-bar-interrupted, .progress-bar-interrupted::-webkit-progress-bar {\n",
              "        background: #F44336;\n",
              "    }\n",
              "</style>\n"
            ],
            "text/plain": [
              "<IPython.core.display.HTML object>"
            ]
          },
          "metadata": {}
        },
        {
          "output_type": "display_data",
          "data": {
            "text/html": [
              "done."
            ],
            "text/plain": [
              "<IPython.core.display.HTML object>"
            ]
          },
          "metadata": {}
        },
        {
          "output_type": "stream",
          "name": "stdout",
          "text": [
            "Is Multi-Label? False\n",
            "preprocessing test...\n",
            "language: pt\n"
          ]
        },
        {
          "output_type": "display_data",
          "data": {
            "text/html": [
              "\n",
              "<style>\n",
              "    /* Turns off some styling */\n",
              "    progress {\n",
              "        /* gets rid of default border in Firefox and Opera. */\n",
              "        border: none;\n",
              "        /* Needs to be in here for Safari polyfill so background images work as expected. */\n",
              "        background-size: auto;\n",
              "    }\n",
              "    .progress-bar-interrupted, .progress-bar-interrupted::-webkit-progress-bar {\n",
              "        background: #F44336;\n",
              "    }\n",
              "</style>\n"
            ],
            "text/plain": [
              "<IPython.core.display.HTML object>"
            ]
          },
          "metadata": {}
        },
        {
          "output_type": "display_data",
          "data": {
            "text/html": [
              "done."
            ],
            "text/plain": [
              "<IPython.core.display.HTML object>"
            ]
          },
          "metadata": {}
        }
      ]
    },
    {
      "cell_type": "code",
      "source": [
        "'''\n",
        "### ETAPA 2: Carregar um modelo BERT pré-treinado e envolvê-lo em um objeto `ktrain.Learner`\n",
        "Essa etapa pode ser condensada em uma única linha de código, mas a executamos como duas linhas para maior clareza. (Você pode ignorar os avisos de descontinuação decorrentes do Keras 2.2.4 com TensorFlow 1.14.0.)\n",
        "'''\n",
        "model = t.get_classifier()\n",
        "learner = ktrain.get_learner(model, train_data=trn, val_data=val, batch_size=6)"
      ],
      "metadata": {
        "colab": {
          "base_uri": "https://localhost:8080/",
          "height": 288,
          "referenced_widgets": [
            "613216b7554c4ac7bf015e936088a921",
            "204c2ac452a14e24923bb8a546fe63c3",
            "77956e259e9a471f818e4a822a872c31",
            "7d28ca61dcc44e808bbe72b9aa0c17c2",
            "6e170d77618b43a79a9c4d600532cc3b",
            "a416fcdb455545dd83c8cdacf0575413",
            "fe244da3c4e745ec9292716ad5c04b4c",
            "6e522ddef509413a989336ae38d70ee9",
            "beb7f01baaa34b3b96d1971f431f764e",
            "bde147d514484e72a598ff4fccf4749b",
            "b7dbfc527f494ea0bbfd15001c78af7c",
            "f0e3302157bb4e4d9c7410f38b0f268c",
            "fb0426ad7ebf4c6ca557c5533d479694",
            "ab04d2ac82474ce6b05a5c82f5c85fde",
            "ab3a90ce71fb4e5b862098ce0f733918",
            "33203852e62e4b148f4de436740a2cd9",
            "3822831956ef4b54bbc8760bbcb5f9b0",
            "e6c061c455504def871a2c7a8bd48a33",
            "1386b973050e403f99f15577d27ed8ce",
            "a0b86d3517d3484dab660249752bd0d2",
            "010dadb5f2f140899284a6a66e965e25",
            "a601b8be08674cf4b136e9711300a8e1",
            "ba3d2f49d7484c95864760a64d4a4d62",
            "fc0a0125c9c142de9d7603f67370c543",
            "076b2650a3b849f8b214fb2e9772e92c",
            "a292523279e645cc9765561b76eba8a5",
            "b2f1b9f74ddd4229819a13524226de05",
            "ffd65e3eee3249dd919cf2e80d2e0997",
            "d59f807e1f3543fe8d375b36bff0ea9d",
            "22d1cb1600fe46478ba0a1f175ece305",
            "3d3122d4e062440b9b94d1f1e871b6fb",
            "2a7dde2af5fa46bf802951b5498f0d4c",
            "56e606b5f94a4693824c0d2ada790134",
            "f746ea1006304d238fc31e3aeff981f7",
            "985c3aabd56d4c3285fe3993b9101af8",
            "5c40de1f819f4de191881f9f96fd596a",
            "ae85733f864e448ea3527f13c30e7f3f",
            "0159d153696947a885dfc06bafd0be30",
            "b3b30ef0e68b45e8940bac331b690257",
            "17dab9ba78414968868700ce97928cb2",
            "ee58677123614563a663df3cd65117f5",
            "2f4748e5c06e42e79f8c2e8098707b77",
            "ee3943d096a54817aad2d0503a053067",
            "30d8ffe867834de98e0bd1db31ab5768",
            "af709a3cd4e94f6eb027c1e8d51e2d4c",
            "34d815baa44b4fbaac04db28f9533bcf",
            "2a981bba31ec4896a956693adb2296d4",
            "a1906155f5194c459c9c1b68ef4538d7",
            "ae8bfdd636544da0a8c8273daec7852a",
            "35b92451dff94da3ac46dc4760d08f34",
            "37fcd6fc12c34be8a6cd9c0f2e36fc8f",
            "dca0172d709b497e96384004575a0f33",
            "fcde6151d331464e9b9eedeb0c203d61",
            "ed458acfc93449aea5daa0b131d47a2a",
            "9380bfff695b418ba886072e37c42648"
          ]
        },
        "id": "79DyQW8jgS2Y",
        "outputId": "9265f22f-b5ba-45bb-bf32-b913e6f05546"
      },
      "execution_count": null,
      "outputs": [
        {
          "output_type": "stream",
          "name": "stderr",
          "text": [
            "/usr/local/lib/python3.7/dist-packages/ktrain/text/preprocessor.py:431: UserWarning: The method preprocess_train was never called. You can disable this warning by setting preprocess_train_called=True.\n",
            "  warnings.warn('The method preprocess_train was never called. You can disable this warning by setting preprocess_train_called=True.')\n",
            "404 Client Error: Not Found for url: https://huggingface.co/neuralmind/bert-base-portuguese-cased/resolve/main/tf_model.h5\n",
            "/usr/local/lib/python3.7/dist-packages/ktrain/text/preprocessor.py:1069: UserWarning: Could not find Tensorflow version of model.  Attempting to download/load PyTorch version as TensorFlow model using from_pt=True. You will need PyTorch installed for this.\n",
            "  warnings.warn('Could not find Tensorflow version of model.  Attempting to download/load PyTorch version as TensorFlow model using from_pt=True. ' +\\\n"
          ]
        },
        {
          "output_type": "display_data",
          "data": {
            "application/vnd.jupyter.widget-view+json": {
              "model_id": "613216b7554c4ac7bf015e936088a921",
              "version_minor": 0,
              "version_major": 2
            },
            "text/plain": [
              "Downloading:   0%|          | 0.00/438M [00:00<?, ?B/s]"
            ]
          },
          "metadata": {}
        },
        {
          "output_type": "display_data",
          "data": {
            "application/vnd.jupyter.widget-view+json": {
              "model_id": "f0e3302157bb4e4d9c7410f38b0f268c",
              "version_minor": 0,
              "version_major": 2
            },
            "text/plain": [
              "Downloading:   0%|          | 0.00/43.0 [00:00<?, ?B/s]"
            ]
          },
          "metadata": {}
        },
        {
          "output_type": "display_data",
          "data": {
            "application/vnd.jupyter.widget-view+json": {
              "model_id": "ba3d2f49d7484c95864760a64d4a4d62",
              "version_minor": 0,
              "version_major": 2
            },
            "text/plain": [
              "Downloading:   0%|          | 0.00/210k [00:00<?, ?B/s]"
            ]
          },
          "metadata": {}
        },
        {
          "output_type": "display_data",
          "data": {
            "application/vnd.jupyter.widget-view+json": {
              "model_id": "f746ea1006304d238fc31e3aeff981f7",
              "version_minor": 0,
              "version_major": 2
            },
            "text/plain": [
              "Downloading:   0%|          | 0.00/2.00 [00:00<?, ?B/s]"
            ]
          },
          "metadata": {}
        },
        {
          "output_type": "display_data",
          "data": {
            "application/vnd.jupyter.widget-view+json": {
              "model_id": "af709a3cd4e94f6eb027c1e8d51e2d4c",
              "version_minor": 0,
              "version_major": 2
            },
            "text/plain": [
              "Downloading:   0%|          | 0.00/112 [00:00<?, ?B/s]"
            ]
          },
          "metadata": {}
        }
      ]
    },
    {
      "cell_type": "code",
      "source": [
        "'''\n",
        "### ETAPA 3: Treinamento e ajuste do modelo no conjunto de dados\n",
        "Empregamos o método `learner.fit_onecycle` no *ktrain* que emprega o uso de uma [programação de taxa de aprendizado de 1 ciclo](https://arxiv.org/pdf/1803.09820.pdf). Usamos uma taxa de aprendizado de 2e-5 com base nas recomendações do [artigo original](https://arxiv.org/abs/1810.04805).\n",
        "'''\n",
        "learner.fit_onecycle(2e-5, 1)"
      ],
      "metadata": {
        "colab": {
          "base_uri": "https://localhost:8080/"
        },
        "id": "Rm0nj8uYgaQg",
        "outputId": "2a60175e-51cd-4327-8c35-c06b40195401"
      },
      "execution_count": null,
      "outputs": [
        {
          "output_type": "stream",
          "name": "stdout",
          "text": [
            "\n",
            "\n",
            "begin training using onecycle policy with max lr of 2e-05...\n",
            "225/225 [==============================] - 224s 896ms/step - loss: 3.0122 - accuracy: 0.1712 - val_loss: 2.8959 - val_accuracy: 0.2200\n"
          ]
        },
        {
          "output_type": "execute_result",
          "data": {
            "text/plain": [
              "<keras.callbacks.History at 0x7febe64ee190>"
            ]
          },
          "metadata": {},
          "execution_count": 34
        }
      ]
    },
    {
      "cell_type": "markdown",
      "source": [
        "##Standard"
      ],
      "metadata": {
        "id": "Nna8rl7t6T34"
      }
    },
    {
      "cell_type": "code",
      "source": [
        "#Etapa 1\n",
        "trn, val, preproc = text.texts_from_df(dataset,\n",
        "                                       text_column = col_texto_processado,\n",
        "                                       label_columns = col_topico,\n",
        "                                       maxlen=300, \n",
        "                                       preprocess_mode='standard', \n",
        "                                       val_pct=0.1)"
      ],
      "metadata": {
        "id": "Mrl9HrgZ6ODY"
      },
      "execution_count": null,
      "outputs": []
    },
    {
      "cell_type": "code",
      "source": [
        "#Etapa 2\n",
        "model = text.text_classifier('standard', trn, preproc=preproc)\n",
        "learner = ktrain.get_learner(model,train_data=trn, val_data=val, batch_size=6)"
      ],
      "metadata": {
        "id": "wDlmkMty7KSm"
      },
      "execution_count": null,
      "outputs": []
    },
    {
      "cell_type": "code",
      "source": [
        "learner.lr_find()"
      ],
      "metadata": {
        "id": "i3iUshrO713S"
      },
      "execution_count": null,
      "outputs": []
    },
    {
      "cell_type": "code",
      "source": [
        "learner.lr_plot()"
      ],
      "metadata": {
        "id": "b2E4nll273MQ"
      },
      "execution_count": null,
      "outputs": []
    },
    {
      "cell_type": "code",
      "source": [
        "learner.fit(0.001, 3, cycle_len=1, cycle_mult=2)"
      ],
      "metadata": {
        "id": "yLZY0C3776DI"
      },
      "execution_count": null,
      "outputs": []
    }
  ]
}